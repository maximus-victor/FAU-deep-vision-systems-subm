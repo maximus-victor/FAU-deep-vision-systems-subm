{
  "nbformat": 4,
  "nbformat_minor": 0,
  "metadata": {
    "colab": {
      "name": "DeepVis_TransferLearning.ipynb",
      "provenance": [],
      "toc_visible": true,
      "include_colab_link": true
    },
    "kernelspec": {
      "name": "python3",
      "display_name": "Python 3"
    },
    "language_info": {
      "name": "python"
    },
    "accelerator": "GPU",
    "widgets": {
      "application/vnd.jupyter.widget-state+json": {
        "66f16395e90949ca82be4aeda93c0b0e": {
          "model_module": "@jupyter-widgets/controls",
          "model_name": "VBoxModel",
          "model_module_version": "1.5.0",
          "state": {
            "_view_name": "VBoxView",
            "_dom_classes": [],
            "_model_name": "VBoxModel",
            "_view_module": "@jupyter-widgets/controls",
            "_model_module_version": "1.5.0",
            "_view_count": null,
            "_view_module_version": "1.5.0",
            "box_style": "",
            "layout": "IPY_MODEL_0a0980feb31340f68820f8105b445c02",
            "_model_module": "@jupyter-widgets/controls",
            "children": [
              "IPY_MODEL_6e7ed50b038e40c1bf7d140b7b559e75",
              "IPY_MODEL_dc186cd7766c44f0abb3a6e092bc91ba"
            ]
          }
        },
        "0a0980feb31340f68820f8105b445c02": {
          "model_module": "@jupyter-widgets/base",
          "model_name": "LayoutModel",
          "model_module_version": "1.2.0",
          "state": {
            "_view_name": "LayoutView",
            "grid_template_rows": null,
            "right": null,
            "justify_content": null,
            "_view_module": "@jupyter-widgets/base",
            "overflow": null,
            "_model_module_version": "1.2.0",
            "_view_count": null,
            "flex_flow": null,
            "width": null,
            "min_width": null,
            "border": null,
            "align_items": null,
            "bottom": null,
            "_model_module": "@jupyter-widgets/base",
            "top": null,
            "grid_column": null,
            "overflow_y": null,
            "overflow_x": null,
            "grid_auto_flow": null,
            "grid_area": null,
            "grid_template_columns": null,
            "flex": null,
            "_model_name": "LayoutModel",
            "justify_items": null,
            "grid_row": null,
            "max_height": null,
            "align_content": null,
            "visibility": null,
            "align_self": null,
            "height": null,
            "min_height": null,
            "padding": null,
            "grid_auto_rows": null,
            "grid_gap": null,
            "max_width": null,
            "order": null,
            "_view_module_version": "1.2.0",
            "grid_template_areas": null,
            "object_position": null,
            "object_fit": null,
            "grid_auto_columns": null,
            "margin": null,
            "display": null,
            "left": null
          }
        },
        "6e7ed50b038e40c1bf7d140b7b559e75": {
          "model_module": "@jupyter-widgets/controls",
          "model_name": "LabelModel",
          "model_module_version": "1.5.0",
          "state": {
            "_view_name": "LabelView",
            "style": "IPY_MODEL_0f579f7deaa548789ad1925a9a3c55eb",
            "_dom_classes": [],
            "description": "",
            "_model_name": "LabelModel",
            "placeholder": "​",
            "_view_module": "@jupyter-widgets/controls",
            "_model_module_version": "1.5.0",
            "value": " 0.01MB of 0.01MB uploaded (0.00MB deduped)\r",
            "_view_count": null,
            "_view_module_version": "1.5.0",
            "description_tooltip": null,
            "_model_module": "@jupyter-widgets/controls",
            "layout": "IPY_MODEL_e332ed84d5264a349566306e344118e8"
          }
        },
        "dc186cd7766c44f0abb3a6e092bc91ba": {
          "model_module": "@jupyter-widgets/controls",
          "model_name": "FloatProgressModel",
          "model_module_version": "1.5.0",
          "state": {
            "_view_name": "ProgressView",
            "style": "IPY_MODEL_6be99663e3ae4d20b64fd962f20aee8b",
            "_dom_classes": [],
            "description": "",
            "_model_name": "FloatProgressModel",
            "bar_style": "",
            "max": 1,
            "_view_module": "@jupyter-widgets/controls",
            "_model_module_version": "1.5.0",
            "value": 1,
            "_view_count": null,
            "_view_module_version": "1.5.0",
            "orientation": "horizontal",
            "min": 0,
            "description_tooltip": null,
            "_model_module": "@jupyter-widgets/controls",
            "layout": "IPY_MODEL_40213e2c3563429bb751e4ffd7a53c27"
          }
        },
        "0f579f7deaa548789ad1925a9a3c55eb": {
          "model_module": "@jupyter-widgets/controls",
          "model_name": "DescriptionStyleModel",
          "model_module_version": "1.5.0",
          "state": {
            "_view_name": "StyleView",
            "_model_name": "DescriptionStyleModel",
            "description_width": "",
            "_view_module": "@jupyter-widgets/base",
            "_model_module_version": "1.5.0",
            "_view_count": null,
            "_view_module_version": "1.2.0",
            "_model_module": "@jupyter-widgets/controls"
          }
        },
        "e332ed84d5264a349566306e344118e8": {
          "model_module": "@jupyter-widgets/base",
          "model_name": "LayoutModel",
          "model_module_version": "1.2.0",
          "state": {
            "_view_name": "LayoutView",
            "grid_template_rows": null,
            "right": null,
            "justify_content": null,
            "_view_module": "@jupyter-widgets/base",
            "overflow": null,
            "_model_module_version": "1.2.0",
            "_view_count": null,
            "flex_flow": null,
            "width": null,
            "min_width": null,
            "border": null,
            "align_items": null,
            "bottom": null,
            "_model_module": "@jupyter-widgets/base",
            "top": null,
            "grid_column": null,
            "overflow_y": null,
            "overflow_x": null,
            "grid_auto_flow": null,
            "grid_area": null,
            "grid_template_columns": null,
            "flex": null,
            "_model_name": "LayoutModel",
            "justify_items": null,
            "grid_row": null,
            "max_height": null,
            "align_content": null,
            "visibility": null,
            "align_self": null,
            "height": null,
            "min_height": null,
            "padding": null,
            "grid_auto_rows": null,
            "grid_gap": null,
            "max_width": null,
            "order": null,
            "_view_module_version": "1.2.0",
            "grid_template_areas": null,
            "object_position": null,
            "object_fit": null,
            "grid_auto_columns": null,
            "margin": null,
            "display": null,
            "left": null
          }
        },
        "6be99663e3ae4d20b64fd962f20aee8b": {
          "model_module": "@jupyter-widgets/controls",
          "model_name": "ProgressStyleModel",
          "model_module_version": "1.5.0",
          "state": {
            "_view_name": "StyleView",
            "_model_name": "ProgressStyleModel",
            "description_width": "",
            "_view_module": "@jupyter-widgets/base",
            "_model_module_version": "1.5.0",
            "_view_count": null,
            "_view_module_version": "1.2.0",
            "bar_color": null,
            "_model_module": "@jupyter-widgets/controls"
          }
        },
        "40213e2c3563429bb751e4ffd7a53c27": {
          "model_module": "@jupyter-widgets/base",
          "model_name": "LayoutModel",
          "model_module_version": "1.2.0",
          "state": {
            "_view_name": "LayoutView",
            "grid_template_rows": null,
            "right": null,
            "justify_content": null,
            "_view_module": "@jupyter-widgets/base",
            "overflow": null,
            "_model_module_version": "1.2.0",
            "_view_count": null,
            "flex_flow": null,
            "width": null,
            "min_width": null,
            "border": null,
            "align_items": null,
            "bottom": null,
            "_model_module": "@jupyter-widgets/base",
            "top": null,
            "grid_column": null,
            "overflow_y": null,
            "overflow_x": null,
            "grid_auto_flow": null,
            "grid_area": null,
            "grid_template_columns": null,
            "flex": null,
            "_model_name": "LayoutModel",
            "justify_items": null,
            "grid_row": null,
            "max_height": null,
            "align_content": null,
            "visibility": null,
            "align_self": null,
            "height": null,
            "min_height": null,
            "padding": null,
            "grid_auto_rows": null,
            "grid_gap": null,
            "max_width": null,
            "order": null,
            "_view_module_version": "1.2.0",
            "grid_template_areas": null,
            "object_position": null,
            "object_fit": null,
            "grid_auto_columns": null,
            "margin": null,
            "display": null,
            "left": null
          }
        },
        "f8df8a5eeaf7422387f3c795eb664710": {
          "model_module": "@jupyter-widgets/controls",
          "model_name": "HBoxModel",
          "model_module_version": "1.5.0",
          "state": {
            "_view_name": "HBoxView",
            "_dom_classes": [],
            "_model_name": "HBoxModel",
            "_view_module": "@jupyter-widgets/controls",
            "_model_module_version": "1.5.0",
            "_view_count": null,
            "_view_module_version": "1.5.0",
            "box_style": "",
            "layout": "IPY_MODEL_927f40351e76476f8e1d124ff9ad2d85",
            "_model_module": "@jupyter-widgets/controls",
            "children": [
              "IPY_MODEL_e2ccee8639ae4c3b88a4e461bb041182",
              "IPY_MODEL_a20c9dfd31644c90a4b80b7f3d9c1274",
              "IPY_MODEL_f6a6a4a114ba4d4d85415321b325062b"
            ]
          }
        },
        "927f40351e76476f8e1d124ff9ad2d85": {
          "model_module": "@jupyter-widgets/base",
          "model_name": "LayoutModel",
          "model_module_version": "1.2.0",
          "state": {
            "_view_name": "LayoutView",
            "grid_template_rows": null,
            "right": null,
            "justify_content": null,
            "_view_module": "@jupyter-widgets/base",
            "overflow": null,
            "_model_module_version": "1.2.0",
            "_view_count": null,
            "flex_flow": null,
            "width": null,
            "min_width": null,
            "border": null,
            "align_items": null,
            "bottom": null,
            "_model_module": "@jupyter-widgets/base",
            "top": null,
            "grid_column": null,
            "overflow_y": null,
            "overflow_x": null,
            "grid_auto_flow": null,
            "grid_area": null,
            "grid_template_columns": null,
            "flex": null,
            "_model_name": "LayoutModel",
            "justify_items": null,
            "grid_row": null,
            "max_height": null,
            "align_content": null,
            "visibility": null,
            "align_self": null,
            "height": null,
            "min_height": null,
            "padding": null,
            "grid_auto_rows": null,
            "grid_gap": null,
            "max_width": null,
            "order": null,
            "_view_module_version": "1.2.0",
            "grid_template_areas": null,
            "object_position": null,
            "object_fit": null,
            "grid_auto_columns": null,
            "margin": null,
            "display": null,
            "left": null
          }
        },
        "e2ccee8639ae4c3b88a4e461bb041182": {
          "model_module": "@jupyter-widgets/controls",
          "model_name": "HTMLModel",
          "model_module_version": "1.5.0",
          "state": {
            "_view_name": "HTMLView",
            "style": "IPY_MODEL_e248c53419ba45b88f03bb9349e4f568",
            "_dom_classes": [],
            "description": "",
            "_model_name": "HTMLModel",
            "placeholder": "​",
            "_view_module": "@jupyter-widgets/controls",
            "_model_module_version": "1.5.0",
            "value": "100%",
            "_view_count": null,
            "_view_module_version": "1.5.0",
            "description_tooltip": null,
            "_model_module": "@jupyter-widgets/controls",
            "layout": "IPY_MODEL_92d37e521cf747f683c85d83d4e0c88a"
          }
        },
        "a20c9dfd31644c90a4b80b7f3d9c1274": {
          "model_module": "@jupyter-widgets/controls",
          "model_name": "FloatProgressModel",
          "model_module_version": "1.5.0",
          "state": {
            "_view_name": "ProgressView",
            "style": "IPY_MODEL_cd55ff5352d647d79c3bc5c4884abae9",
            "_dom_classes": [],
            "description": "",
            "_model_name": "FloatProgressModel",
            "bar_style": "success",
            "max": 46830571,
            "_view_module": "@jupyter-widgets/controls",
            "_model_module_version": "1.5.0",
            "value": 46830571,
            "_view_count": null,
            "_view_module_version": "1.5.0",
            "orientation": "horizontal",
            "min": 0,
            "description_tooltip": null,
            "_model_module": "@jupyter-widgets/controls",
            "layout": "IPY_MODEL_668ca4e88e454ed881cfd64eea42f4c5"
          }
        },
        "f6a6a4a114ba4d4d85415321b325062b": {
          "model_module": "@jupyter-widgets/controls",
          "model_name": "HTMLModel",
          "model_module_version": "1.5.0",
          "state": {
            "_view_name": "HTMLView",
            "style": "IPY_MODEL_b04ae79e05ec402a8fa17349c695b645",
            "_dom_classes": [],
            "description": "",
            "_model_name": "HTMLModel",
            "placeholder": "​",
            "_view_module": "@jupyter-widgets/controls",
            "_model_module_version": "1.5.0",
            "value": " 44.7M/44.7M [00:00&lt;00:00, 113MB/s]",
            "_view_count": null,
            "_view_module_version": "1.5.0",
            "description_tooltip": null,
            "_model_module": "@jupyter-widgets/controls",
            "layout": "IPY_MODEL_72157b1b5d4049e195362a54e9d2b3b9"
          }
        },
        "e248c53419ba45b88f03bb9349e4f568": {
          "model_module": "@jupyter-widgets/controls",
          "model_name": "DescriptionStyleModel",
          "model_module_version": "1.5.0",
          "state": {
            "_view_name": "StyleView",
            "_model_name": "DescriptionStyleModel",
            "description_width": "",
            "_view_module": "@jupyter-widgets/base",
            "_model_module_version": "1.5.0",
            "_view_count": null,
            "_view_module_version": "1.2.0",
            "_model_module": "@jupyter-widgets/controls"
          }
        },
        "92d37e521cf747f683c85d83d4e0c88a": {
          "model_module": "@jupyter-widgets/base",
          "model_name": "LayoutModel",
          "model_module_version": "1.2.0",
          "state": {
            "_view_name": "LayoutView",
            "grid_template_rows": null,
            "right": null,
            "justify_content": null,
            "_view_module": "@jupyter-widgets/base",
            "overflow": null,
            "_model_module_version": "1.2.0",
            "_view_count": null,
            "flex_flow": null,
            "width": null,
            "min_width": null,
            "border": null,
            "align_items": null,
            "bottom": null,
            "_model_module": "@jupyter-widgets/base",
            "top": null,
            "grid_column": null,
            "overflow_y": null,
            "overflow_x": null,
            "grid_auto_flow": null,
            "grid_area": null,
            "grid_template_columns": null,
            "flex": null,
            "_model_name": "LayoutModel",
            "justify_items": null,
            "grid_row": null,
            "max_height": null,
            "align_content": null,
            "visibility": null,
            "align_self": null,
            "height": null,
            "min_height": null,
            "padding": null,
            "grid_auto_rows": null,
            "grid_gap": null,
            "max_width": null,
            "order": null,
            "_view_module_version": "1.2.0",
            "grid_template_areas": null,
            "object_position": null,
            "object_fit": null,
            "grid_auto_columns": null,
            "margin": null,
            "display": null,
            "left": null
          }
        },
        "cd55ff5352d647d79c3bc5c4884abae9": {
          "model_module": "@jupyter-widgets/controls",
          "model_name": "ProgressStyleModel",
          "model_module_version": "1.5.0",
          "state": {
            "_view_name": "StyleView",
            "_model_name": "ProgressStyleModel",
            "description_width": "",
            "_view_module": "@jupyter-widgets/base",
            "_model_module_version": "1.5.0",
            "_view_count": null,
            "_view_module_version": "1.2.0",
            "bar_color": null,
            "_model_module": "@jupyter-widgets/controls"
          }
        },
        "668ca4e88e454ed881cfd64eea42f4c5": {
          "model_module": "@jupyter-widgets/base",
          "model_name": "LayoutModel",
          "model_module_version": "1.2.0",
          "state": {
            "_view_name": "LayoutView",
            "grid_template_rows": null,
            "right": null,
            "justify_content": null,
            "_view_module": "@jupyter-widgets/base",
            "overflow": null,
            "_model_module_version": "1.2.0",
            "_view_count": null,
            "flex_flow": null,
            "width": null,
            "min_width": null,
            "border": null,
            "align_items": null,
            "bottom": null,
            "_model_module": "@jupyter-widgets/base",
            "top": null,
            "grid_column": null,
            "overflow_y": null,
            "overflow_x": null,
            "grid_auto_flow": null,
            "grid_area": null,
            "grid_template_columns": null,
            "flex": null,
            "_model_name": "LayoutModel",
            "justify_items": null,
            "grid_row": null,
            "max_height": null,
            "align_content": null,
            "visibility": null,
            "align_self": null,
            "height": null,
            "min_height": null,
            "padding": null,
            "grid_auto_rows": null,
            "grid_gap": null,
            "max_width": null,
            "order": null,
            "_view_module_version": "1.2.0",
            "grid_template_areas": null,
            "object_position": null,
            "object_fit": null,
            "grid_auto_columns": null,
            "margin": null,
            "display": null,
            "left": null
          }
        },
        "b04ae79e05ec402a8fa17349c695b645": {
          "model_module": "@jupyter-widgets/controls",
          "model_name": "DescriptionStyleModel",
          "model_module_version": "1.5.0",
          "state": {
            "_view_name": "StyleView",
            "_model_name": "DescriptionStyleModel",
            "description_width": "",
            "_view_module": "@jupyter-widgets/base",
            "_model_module_version": "1.5.0",
            "_view_count": null,
            "_view_module_version": "1.2.0",
            "_model_module": "@jupyter-widgets/controls"
          }
        },
        "72157b1b5d4049e195362a54e9d2b3b9": {
          "model_module": "@jupyter-widgets/base",
          "model_name": "LayoutModel",
          "model_module_version": "1.2.0",
          "state": {
            "_view_name": "LayoutView",
            "grid_template_rows": null,
            "right": null,
            "justify_content": null,
            "_view_module": "@jupyter-widgets/base",
            "overflow": null,
            "_model_module_version": "1.2.0",
            "_view_count": null,
            "flex_flow": null,
            "width": null,
            "min_width": null,
            "border": null,
            "align_items": null,
            "bottom": null,
            "_model_module": "@jupyter-widgets/base",
            "top": null,
            "grid_column": null,
            "overflow_y": null,
            "overflow_x": null,
            "grid_auto_flow": null,
            "grid_area": null,
            "grid_template_columns": null,
            "flex": null,
            "_model_name": "LayoutModel",
            "justify_items": null,
            "grid_row": null,
            "max_height": null,
            "align_content": null,
            "visibility": null,
            "align_self": null,
            "height": null,
            "min_height": null,
            "padding": null,
            "grid_auto_rows": null,
            "grid_gap": null,
            "max_width": null,
            "order": null,
            "_view_module_version": "1.2.0",
            "grid_template_areas": null,
            "object_position": null,
            "object_fit": null,
            "grid_auto_columns": null,
            "margin": null,
            "display": null,
            "left": null
          }
        },
        "0ba5dfc420f34fe1a655a81b26ae80ac": {
          "model_module": "@jupyter-widgets/controls",
          "model_name": "HBoxModel",
          "model_module_version": "1.5.0",
          "state": {
            "_view_name": "HBoxView",
            "_dom_classes": [],
            "_model_name": "HBoxModel",
            "_view_module": "@jupyter-widgets/controls",
            "_model_module_version": "1.5.0",
            "_view_count": null,
            "_view_module_version": "1.5.0",
            "box_style": "",
            "layout": "IPY_MODEL_a21fe023d4bc470f964ad7c9327203c0",
            "_model_module": "@jupyter-widgets/controls",
            "children": [
              "IPY_MODEL_43dca1d01f4c4c76a4434cf22be8f6fe",
              "IPY_MODEL_c145001c104e434792b5d996297cc63a",
              "IPY_MODEL_e565ac87b597457e85e420c78bc2accc"
            ]
          }
        },
        "a21fe023d4bc470f964ad7c9327203c0": {
          "model_module": "@jupyter-widgets/base",
          "model_name": "LayoutModel",
          "model_module_version": "1.2.0",
          "state": {
            "_view_name": "LayoutView",
            "grid_template_rows": null,
            "right": null,
            "justify_content": null,
            "_view_module": "@jupyter-widgets/base",
            "overflow": null,
            "_model_module_version": "1.2.0",
            "_view_count": null,
            "flex_flow": null,
            "width": null,
            "min_width": null,
            "border": null,
            "align_items": null,
            "bottom": null,
            "_model_module": "@jupyter-widgets/base",
            "top": null,
            "grid_column": null,
            "overflow_y": null,
            "overflow_x": null,
            "grid_auto_flow": null,
            "grid_area": null,
            "grid_template_columns": null,
            "flex": null,
            "_model_name": "LayoutModel",
            "justify_items": null,
            "grid_row": null,
            "max_height": null,
            "align_content": null,
            "visibility": null,
            "align_self": null,
            "height": null,
            "min_height": null,
            "padding": null,
            "grid_auto_rows": null,
            "grid_gap": null,
            "max_width": null,
            "order": null,
            "_view_module_version": "1.2.0",
            "grid_template_areas": null,
            "object_position": null,
            "object_fit": null,
            "grid_auto_columns": null,
            "margin": null,
            "display": null,
            "left": null
          }
        },
        "43dca1d01f4c4c76a4434cf22be8f6fe": {
          "model_module": "@jupyter-widgets/controls",
          "model_name": "HTMLModel",
          "model_module_version": "1.5.0",
          "state": {
            "_view_name": "HTMLView",
            "style": "IPY_MODEL_515185b383bf4208bf23eea87178dc20",
            "_dom_classes": [],
            "description": "",
            "_model_name": "HTMLModel",
            "placeholder": "​",
            "_view_module": "@jupyter-widgets/controls",
            "_model_module_version": "1.5.0",
            "value": "100%",
            "_view_count": null,
            "_view_module_version": "1.5.0",
            "description_tooltip": null,
            "_model_module": "@jupyter-widgets/controls",
            "layout": "IPY_MODEL_532104c47a304819850ae867c4a1fb9a"
          }
        },
        "c145001c104e434792b5d996297cc63a": {
          "model_module": "@jupyter-widgets/controls",
          "model_name": "FloatProgressModel",
          "model_module_version": "1.5.0",
          "state": {
            "_view_name": "ProgressView",
            "style": "IPY_MODEL_2cace3eca61f407186504d0fb2ba32cb",
            "_dom_classes": [],
            "description": "",
            "_model_name": "FloatProgressModel",
            "bar_style": "success",
            "max": 553507836,
            "_view_module": "@jupyter-widgets/controls",
            "_model_module_version": "1.5.0",
            "value": 553507836,
            "_view_count": null,
            "_view_module_version": "1.5.0",
            "orientation": "horizontal",
            "min": 0,
            "description_tooltip": null,
            "_model_module": "@jupyter-widgets/controls",
            "layout": "IPY_MODEL_fdc33d3f4a5f47beb3924d1f737552a1"
          }
        },
        "e565ac87b597457e85e420c78bc2accc": {
          "model_module": "@jupyter-widgets/controls",
          "model_name": "HTMLModel",
          "model_module_version": "1.5.0",
          "state": {
            "_view_name": "HTMLView",
            "style": "IPY_MODEL_27659a4f7a65441b8edbf993628452d8",
            "_dom_classes": [],
            "description": "",
            "_model_name": "HTMLModel",
            "placeholder": "​",
            "_view_module": "@jupyter-widgets/controls",
            "_model_module_version": "1.5.0",
            "value": " 528M/528M [00:04&lt;00:00, 135MB/s]",
            "_view_count": null,
            "_view_module_version": "1.5.0",
            "description_tooltip": null,
            "_model_module": "@jupyter-widgets/controls",
            "layout": "IPY_MODEL_87f812a36d9648fcb0bb11afbb45966a"
          }
        },
        "515185b383bf4208bf23eea87178dc20": {
          "model_module": "@jupyter-widgets/controls",
          "model_name": "DescriptionStyleModel",
          "model_module_version": "1.5.0",
          "state": {
            "_view_name": "StyleView",
            "_model_name": "DescriptionStyleModel",
            "description_width": "",
            "_view_module": "@jupyter-widgets/base",
            "_model_module_version": "1.5.0",
            "_view_count": null,
            "_view_module_version": "1.2.0",
            "_model_module": "@jupyter-widgets/controls"
          }
        },
        "532104c47a304819850ae867c4a1fb9a": {
          "model_module": "@jupyter-widgets/base",
          "model_name": "LayoutModel",
          "model_module_version": "1.2.0",
          "state": {
            "_view_name": "LayoutView",
            "grid_template_rows": null,
            "right": null,
            "justify_content": null,
            "_view_module": "@jupyter-widgets/base",
            "overflow": null,
            "_model_module_version": "1.2.0",
            "_view_count": null,
            "flex_flow": null,
            "width": null,
            "min_width": null,
            "border": null,
            "align_items": null,
            "bottom": null,
            "_model_module": "@jupyter-widgets/base",
            "top": null,
            "grid_column": null,
            "overflow_y": null,
            "overflow_x": null,
            "grid_auto_flow": null,
            "grid_area": null,
            "grid_template_columns": null,
            "flex": null,
            "_model_name": "LayoutModel",
            "justify_items": null,
            "grid_row": null,
            "max_height": null,
            "align_content": null,
            "visibility": null,
            "align_self": null,
            "height": null,
            "min_height": null,
            "padding": null,
            "grid_auto_rows": null,
            "grid_gap": null,
            "max_width": null,
            "order": null,
            "_view_module_version": "1.2.0",
            "grid_template_areas": null,
            "object_position": null,
            "object_fit": null,
            "grid_auto_columns": null,
            "margin": null,
            "display": null,
            "left": null
          }
        },
        "2cace3eca61f407186504d0fb2ba32cb": {
          "model_module": "@jupyter-widgets/controls",
          "model_name": "ProgressStyleModel",
          "model_module_version": "1.5.0",
          "state": {
            "_view_name": "StyleView",
            "_model_name": "ProgressStyleModel",
            "description_width": "",
            "_view_module": "@jupyter-widgets/base",
            "_model_module_version": "1.5.0",
            "_view_count": null,
            "_view_module_version": "1.2.0",
            "bar_color": null,
            "_model_module": "@jupyter-widgets/controls"
          }
        },
        "fdc33d3f4a5f47beb3924d1f737552a1": {
          "model_module": "@jupyter-widgets/base",
          "model_name": "LayoutModel",
          "model_module_version": "1.2.0",
          "state": {
            "_view_name": "LayoutView",
            "grid_template_rows": null,
            "right": null,
            "justify_content": null,
            "_view_module": "@jupyter-widgets/base",
            "overflow": null,
            "_model_module_version": "1.2.0",
            "_view_count": null,
            "flex_flow": null,
            "width": null,
            "min_width": null,
            "border": null,
            "align_items": null,
            "bottom": null,
            "_model_module": "@jupyter-widgets/base",
            "top": null,
            "grid_column": null,
            "overflow_y": null,
            "overflow_x": null,
            "grid_auto_flow": null,
            "grid_area": null,
            "grid_template_columns": null,
            "flex": null,
            "_model_name": "LayoutModel",
            "justify_items": null,
            "grid_row": null,
            "max_height": null,
            "align_content": null,
            "visibility": null,
            "align_self": null,
            "height": null,
            "min_height": null,
            "padding": null,
            "grid_auto_rows": null,
            "grid_gap": null,
            "max_width": null,
            "order": null,
            "_view_module_version": "1.2.0",
            "grid_template_areas": null,
            "object_position": null,
            "object_fit": null,
            "grid_auto_columns": null,
            "margin": null,
            "display": null,
            "left": null
          }
        },
        "27659a4f7a65441b8edbf993628452d8": {
          "model_module": "@jupyter-widgets/controls",
          "model_name": "DescriptionStyleModel",
          "model_module_version": "1.5.0",
          "state": {
            "_view_name": "StyleView",
            "_model_name": "DescriptionStyleModel",
            "description_width": "",
            "_view_module": "@jupyter-widgets/base",
            "_model_module_version": "1.5.0",
            "_view_count": null,
            "_view_module_version": "1.2.0",
            "_model_module": "@jupyter-widgets/controls"
          }
        },
        "87f812a36d9648fcb0bb11afbb45966a": {
          "model_module": "@jupyter-widgets/base",
          "model_name": "LayoutModel",
          "model_module_version": "1.2.0",
          "state": {
            "_view_name": "LayoutView",
            "grid_template_rows": null,
            "right": null,
            "justify_content": null,
            "_view_module": "@jupyter-widgets/base",
            "overflow": null,
            "_model_module_version": "1.2.0",
            "_view_count": null,
            "flex_flow": null,
            "width": null,
            "min_width": null,
            "border": null,
            "align_items": null,
            "bottom": null,
            "_model_module": "@jupyter-widgets/base",
            "top": null,
            "grid_column": null,
            "overflow_y": null,
            "overflow_x": null,
            "grid_auto_flow": null,
            "grid_area": null,
            "grid_template_columns": null,
            "flex": null,
            "_model_name": "LayoutModel",
            "justify_items": null,
            "grid_row": null,
            "max_height": null,
            "align_content": null,
            "visibility": null,
            "align_self": null,
            "height": null,
            "min_height": null,
            "padding": null,
            "grid_auto_rows": null,
            "grid_gap": null,
            "max_width": null,
            "order": null,
            "_view_module_version": "1.2.0",
            "grid_template_areas": null,
            "object_position": null,
            "object_fit": null,
            "grid_auto_columns": null,
            "margin": null,
            "display": null,
            "left": null
          }
        },
        "87c6bb2fe9d6474b8039089a49b29a5b": {
          "model_module": "@jupyter-widgets/controls",
          "model_name": "DropdownModel",
          "model_module_version": "1.5.0",
          "state": {
            "_options_labels": [
              "VicNet",
              "ResNet18",
              "VGG16",
              "RegNet",
              "BaseNet",
              "MaxNet"
            ],
            "_view_name": "DropdownView",
            "style": "IPY_MODEL_8a8f8235f1794cc9b5232d63ad39ba89",
            "_dom_classes": [],
            "description": "",
            "_model_name": "DropdownModel",
            "index": 5,
            "_view_module": "@jupyter-widgets/controls",
            "_model_module_version": "1.5.0",
            "_view_count": null,
            "disabled": false,
            "_view_module_version": "1.5.0",
            "description_tooltip": null,
            "_model_module": "@jupyter-widgets/controls",
            "layout": "IPY_MODEL_c7238f6582c441768b0030a12c344fc2"
          }
        },
        "8a8f8235f1794cc9b5232d63ad39ba89": {
          "model_module": "@jupyter-widgets/controls",
          "model_name": "DescriptionStyleModel",
          "model_module_version": "1.5.0",
          "state": {
            "_view_name": "StyleView",
            "_model_name": "DescriptionStyleModel",
            "description_width": "",
            "_view_module": "@jupyter-widgets/base",
            "_model_module_version": "1.5.0",
            "_view_count": null,
            "_view_module_version": "1.2.0",
            "_model_module": "@jupyter-widgets/controls"
          }
        },
        "c7238f6582c441768b0030a12c344fc2": {
          "model_module": "@jupyter-widgets/base",
          "model_name": "LayoutModel",
          "model_module_version": "1.2.0",
          "state": {
            "_view_name": "LayoutView",
            "grid_template_rows": null,
            "right": null,
            "justify_content": null,
            "_view_module": "@jupyter-widgets/base",
            "overflow": null,
            "_model_module_version": "1.2.0",
            "_view_count": null,
            "flex_flow": null,
            "width": null,
            "min_width": null,
            "border": null,
            "align_items": null,
            "bottom": null,
            "_model_module": "@jupyter-widgets/base",
            "top": null,
            "grid_column": null,
            "overflow_y": null,
            "overflow_x": null,
            "grid_auto_flow": null,
            "grid_area": null,
            "grid_template_columns": null,
            "flex": null,
            "_model_name": "LayoutModel",
            "justify_items": null,
            "grid_row": null,
            "max_height": null,
            "align_content": null,
            "visibility": null,
            "align_self": null,
            "height": null,
            "min_height": null,
            "padding": null,
            "grid_auto_rows": null,
            "grid_gap": null,
            "max_width": null,
            "order": null,
            "_view_module_version": "1.2.0",
            "grid_template_areas": null,
            "object_position": null,
            "object_fit": null,
            "grid_auto_columns": null,
            "margin": null,
            "display": null,
            "left": null
          }
        }
      }
    }
  },
  "cells": [
    {
      "cell_type": "markdown",
      "metadata": {
        "id": "view-in-github",
        "colab_type": "text"
      },
      "source": [
        "<a href=\"https://colab.research.google.com/github/maximus-victor/FAU-deep-vision-systems-subm/blob/main/DeepVis_IMAGE_CLASSIFICATION_SWEEPS.ipynb\" target=\"_parent\"><img src=\"https://colab.research.google.com/assets/colab-badge.svg\" alt=\"Open In Colab\"/></a>"
      ]
    },
    {
      "cell_type": "markdown",
      "metadata": {
        "id": "JhfYsYKKOShL"
      },
      "source": [
        "# Setup"
      ]
    },
    {
      "cell_type": "markdown",
      "metadata": {
        "id": "eP2mw1s2lkES"
      },
      "source": [
        "## Weights & Biases"
      ]
    },
    {
      "cell_type": "code",
      "metadata": {
        "id": "abULiS8OOW_K"
      },
      "source": [
        "%%capture \n",
        "!pip install wandb --upgrade"
      ],
      "execution_count": null,
      "outputs": []
    },
    {
      "cell_type": "code",
      "metadata": {
        "id": "c1gbgcRAOape",
        "colab": {
          "base_uri": "https://localhost:8080/"
        },
        "outputId": "d647628e-1702-457d-c71a-b6f904999baf"
      },
      "source": [
        "import wandb\n",
        "\n",
        "wandb.login()"
      ],
      "execution_count": null,
      "outputs": [
        {
          "output_type": "stream",
          "text": [
            "\u001b[34m\u001b[1mwandb\u001b[0m: \u001b[33mWARNING\u001b[0m Calling wandb.login() after wandb.init() has no effect.\n"
          ],
          "name": "stderr"
        },
        {
          "output_type": "execute_result",
          "data": {
            "text/plain": [
              "True"
            ]
          },
          "metadata": {},
          "execution_count": 12
        }
      ]
    },
    {
      "cell_type": "code",
      "metadata": {
        "id": "QtdqVvLyqYib"
      },
      "source": [
        "sweep_config = {\n",
        "    'method': 'random', #grid, random\n",
        "    'metric': {\n",
        "      'name': 'val_accuracy',\n",
        "      'goal': 'maximize',\n",
        "      'target': 0.95\n",
        "    },\n",
        "    'parameters': {\n",
        "        'epochs': {\n",
        "            'values': [50, 100, 200]\n",
        "        },\n",
        "        'batch_size': {\n",
        "            'values': [256, 128, 64, 32]\n",
        "        },\n",
        "        'dropout': {\n",
        "            'values': [0.3, 0.5, 0.7]\n",
        "        },\n",
        "        'kernel_size': {\n",
        "            'values': [3, 5, 7]\n",
        "        },\n",
        "        'learning_rate': {\n",
        "            'values': [1e-2, 1e-3, 1e-4, 3e-4, 3e-5, 1e-5]\n",
        "        },\n",
        "        'fc_layer_size':{\n",
        "            'values':[128, 256, 512]\n",
        "        },\n",
        "        'optimizer': {\n",
        "            'values': ['adam', 'sgd', 'adadelta']\n",
        "        },\n",
        "    }\n",
        "}"
      ],
      "execution_count": null,
      "outputs": []
    },
    {
      "cell_type": "code",
      "metadata": {
        "id": "d7lx2NSxFsW5"
      },
      "source": [
        "sweep_config = {\n",
        "    'method': 'random', #grid, random\n",
        "    'metric': {\n",
        "      'name': 'val_accuracy',\n",
        "      'goal': 'maximize',\n",
        "      #'target': 0.95\n",
        "    },\n",
        "    'parameters': {\n",
        "        'epochs': {\n",
        "            'values': [50, 100]\n",
        "        },\n",
        "        'batch_size': {\n",
        "            'values': [256, 128, 64, 32]\n",
        "        },\n",
        "        'dropout': {\n",
        "            'values': [0.0, 0.3]\n",
        "        },\n",
        "        'learning_rate': {\n",
        "            'values': [1e-3, 1e-4, 3e-4, 3e-5, 1e-5]\n",
        "        },\n",
        "        'fc_layer_size':{\n",
        "            'values':[128, 256, 512]\n",
        "        },\n",
        "        'optimizer': {\n",
        "            'values': ['adam', 'sgd', 'adadelta']\n",
        "        },\n",
        "    }\n",
        "}"
      ],
      "execution_count": null,
      "outputs": []
    },
    {
      "cell_type": "code",
      "metadata": {
        "colab": {
          "base_uri": "https://localhost:8080/",
          "height": 302,
          "referenced_widgets": [
            "66f16395e90949ca82be4aeda93c0b0e",
            "0a0980feb31340f68820f8105b445c02",
            "6e7ed50b038e40c1bf7d140b7b559e75",
            "dc186cd7766c44f0abb3a6e092bc91ba",
            "0f579f7deaa548789ad1925a9a3c55eb",
            "e332ed84d5264a349566306e344118e8",
            "6be99663e3ae4d20b64fd962f20aee8b",
            "40213e2c3563429bb751e4ffd7a53c27"
          ]
        },
        "id": "AHgYMbNascgj",
        "outputId": "4d26a28f-cf13-4603-c911-905a57144d14"
      },
      "source": [
        "# Default values for hyper-parameters we're going to sweep over\n",
        "config_defaults = {\n",
        "    'epochs': 5,\n",
        "    'batch_size': 128,\n",
        "    'learning_rate': 1e-3,\n",
        "    'optimizer': 'adam',\n",
        "    'fc_layer_size': 128,\n",
        "    'dropout': 0.5,\n",
        "    'kernel_size': 3\n",
        "}\n",
        "\n",
        "# # Initialize a new wandb run\n",
        "wandb.init(project='waferimages-sweeps', entity='inceptioneers', config=config_defaults)\n",
        "\n",
        "# # Config is a variable that holds and saves hyperparameters and inputs\n",
        "config = wandb.config"
      ],
      "execution_count": null,
      "outputs": [
        {
          "output_type": "display_data",
          "data": {
            "text/html": [
              "Finishing last run (ID:2c3dquze) before initializing another..."
            ],
            "text/plain": [
              "<IPython.core.display.HTML object>"
            ]
          },
          "metadata": {}
        },
        {
          "output_type": "display_data",
          "data": {
            "text/html": [
              "<br/>Waiting for W&B process to finish, PID 182<br/>Program ended successfully."
            ],
            "text/plain": [
              "<IPython.core.display.HTML object>"
            ]
          },
          "metadata": {}
        },
        {
          "output_type": "display_data",
          "data": {
            "application/vnd.jupyter.widget-view+json": {
              "model_id": "66f16395e90949ca82be4aeda93c0b0e",
              "version_minor": 0,
              "version_major": 2
            },
            "text/plain": [
              "VBox(children=(Label(value=' 0.00MB of 0.00MB uploaded (0.00MB deduped)\\r'), FloatProgress(value=1.0, max=1.0)…"
            ]
          },
          "metadata": {}
        },
        {
          "output_type": "display_data",
          "data": {
            "text/html": [
              "Find user logs for this run at: <code>/content/wandb/run-20210820_112654-2c3dquze/logs/debug.log</code>"
            ],
            "text/plain": [
              "<IPython.core.display.HTML object>"
            ]
          },
          "metadata": {}
        },
        {
          "output_type": "display_data",
          "data": {
            "text/html": [
              "Find internal logs for this run at: <code>/content/wandb/run-20210820_112654-2c3dquze/logs/debug-internal.log</code>"
            ],
            "text/plain": [
              "<IPython.core.display.HTML object>"
            ]
          },
          "metadata": {}
        },
        {
          "output_type": "display_data",
          "data": {
            "text/html": [
              "Synced 5 W&B file(s), 0 media file(s), 0 artifact file(s) and 0 other file(s)"
            ],
            "text/plain": [
              "<IPython.core.display.HTML object>"
            ]
          },
          "metadata": {}
        },
        {
          "output_type": "display_data",
          "data": {
            "text/html": [
              "\n",
              "                    <br/>Synced <strong style=\"color:#cdcd00\">major-butterfly-559</strong>: <a href=\"https://wandb.ai/inceptioneers/waferimages-sweeps/runs/2c3dquze\" target=\"_blank\">https://wandb.ai/inceptioneers/waferimages-sweeps/runs/2c3dquze</a><br/>\n",
              "                "
            ],
            "text/plain": [
              "<IPython.core.display.HTML object>"
            ]
          },
          "metadata": {}
        },
        {
          "output_type": "display_data",
          "data": {
            "text/html": [
              "...Successfully finished last run (ID:2c3dquze). Initializing new run:<br/><br/>"
            ],
            "text/plain": [
              "<IPython.core.display.HTML object>"
            ]
          },
          "metadata": {}
        },
        {
          "output_type": "display_data",
          "data": {
            "text/html": [
              "\n",
              "                Tracking run with wandb version 0.12.0<br/>\n",
              "                Syncing run <strong style=\"color:#cdcd00\">sparkling-pond-560</strong> to <a href=\"https://wandb.ai\" target=\"_blank\">Weights & Biases</a> <a href=\"https://docs.wandb.com/integrations/jupyter.html\" target=\"_blank\">(Documentation)</a>.<br/>\n",
              "                Project page: <a href=\"https://wandb.ai/inceptioneers/waferimages-sweeps\" target=\"_blank\">https://wandb.ai/inceptioneers/waferimages-sweeps</a><br/>\n",
              "                Run page: <a href=\"https://wandb.ai/inceptioneers/waferimages-sweeps/runs/3vr2uq3y\" target=\"_blank\">https://wandb.ai/inceptioneers/waferimages-sweeps/runs/3vr2uq3y</a><br/>\n",
              "                Run data is saved locally in <code>/content/wandb/run-20210820_112727-3vr2uq3y</code><br/><br/>\n",
              "            "
            ],
            "text/plain": [
              "<IPython.core.display.HTML object>"
            ]
          },
          "metadata": {}
        }
      ]
    },
    {
      "cell_type": "code",
      "metadata": {
        "colab": {
          "base_uri": "https://localhost:8080/"
        },
        "id": "t2xTxQeKqjiE",
        "outputId": "80d0a3b6-7e08-4463-e237-e7ba3d24b930"
      },
      "source": [
        "sweep_id = wandb.sweep(sweep_config, project='waferimages-sweeps', entity='inceptioneers')"
      ],
      "execution_count": null,
      "outputs": [
        {
          "output_type": "stream",
          "text": [
            "\u001b[34m\u001b[1mwandb\u001b[0m: \u001b[33mWARNING\u001b[0m Calling wandb.login() after wandb.init() has no effect.\n"
          ],
          "name": "stderr"
        },
        {
          "output_type": "stream",
          "text": [
            "Create sweep with ID: 32aeo13t\n",
            "Sweep URL: https://wandb.ai/inceptioneers/waferimages-sweeps/sweeps/32aeo13t\n"
          ],
          "name": "stdout"
        }
      ]
    },
    {
      "cell_type": "code",
      "metadata": {
        "id": "nOuSpg0Iylfc"
      },
      "source": [
        "# 1. Start a new run\n",
        "#wandb.init(project='waferimages', entity='inceptioneers', config=config)\n",
        "\n",
        "# 2. Save model inputs and hyperparameters\n",
        "#config = wandb.config"
      ],
      "execution_count": null,
      "outputs": []
    },
    {
      "cell_type": "markdown",
      "metadata": {
        "id": "z-9Tl-RFlz6_"
      },
      "source": [
        "## Libraries & Seed"
      ]
    },
    {
      "cell_type": "code",
      "metadata": {
        "id": "Z3F2Y50clwfU"
      },
      "source": [
        "import pandas as pd\n",
        "import numpy as np\n",
        "import glob\n",
        "import random\n",
        "import joblib\n",
        "import os\n",
        "\n",
        "from sklearn.model_selection import train_test_split\n",
        "import matplotlib.pyplot as plt\n",
        "import matplotlib.patches as patches\n",
        "#import cv2\n",
        "\n",
        "from skimage import io\n",
        "\n",
        "from imutils import paths\n",
        "from sklearn import preprocessing\n",
        "from tqdm import tqdm\n",
        "\n",
        "from sklearn.metrics import confusion_matrix, classification_report\n",
        "from sklearn.model_selection import StratifiedShuffleSplit\n",
        "\n",
        "import torch\n",
        "from torchvision import transforms, datasets\n",
        "from torchvision.datasets import ImageFolder\n",
        "\n",
        "import ipywidgets as widgets\n",
        "from IPython.display import display\n",
        "import copy"
      ],
      "execution_count": null,
      "outputs": []
    },
    {
      "cell_type": "markdown",
      "metadata": {
        "id": "kFOgfCKiDQ9n"
      },
      "source": [
        "The next block of code applies a seed to our code for reproducibility and also sets the computation device. "
      ]
    },
    {
      "cell_type": "code",
      "metadata": {
        "colab": {
          "base_uri": "https://localhost:8080/"
        },
        "id": "TI7IK0e8DOj0",
        "outputId": "c5b3e495-8e3f-47f4-d459-cbb5d1b5b5eb"
      },
      "source": [
        "def seed_libraries(SEED=42):\n",
        "  # Python seeds\n",
        "  random.seed(SEED)\n",
        "  np.random.seed(SEED)\n",
        "  # Torch seeds\n",
        "  torch.manual_seed(SEED)\n",
        "  torch.cuda.manual_seed(SEED)\n",
        "  torch.cuda.manual_seed_all(SEED)\n",
        "\n",
        "SEED=42\n",
        "seed_libraries(SEED=SEED)\n",
        "\n",
        "\n",
        "# set computation device\n",
        "runtime = torch.device('cuda') if torch.cuda.is_available() else torch.device('cpu')\n",
        "print(f\"Computation device: {runtime}\")"
      ],
      "execution_count": null,
      "outputs": [
        {
          "output_type": "stream",
          "text": [
            "Computation device: cpu\n"
          ],
          "name": "stdout"
        }
      ]
    },
    {
      "cell_type": "markdown",
      "metadata": {
        "id": "-un7U53amuuz"
      },
      "source": [
        "# **Set Dicitonaries**"
      ]
    },
    {
      "cell_type": "markdown",
      "metadata": {
        "id": "K-a88VYLm0Ya"
      },
      "source": [
        "**Google Drive Version**"
      ]
    },
    {
      "cell_type": "code",
      "metadata": {
        "id": "OPPN1MqumuRJ",
        "colab": {
          "base_uri": "https://localhost:8080/"
        },
        "outputId": "c4b4af11-7462-49cc-c84f-815c42d54804"
      },
      "source": [
        "from google.colab import drive\n",
        "drive.mount('/content/drive')"
      ],
      "execution_count": null,
      "outputs": [
        {
          "output_type": "stream",
          "text": [
            "Mounted at /content/drive\n"
          ],
          "name": "stdout"
        }
      ]
    },
    {
      "cell_type": "code",
      "metadata": {
        "id": "8-lDCvDGoeJV"
      },
      "source": [
        "# !unzip /content/drive/MyDrive/data.zip"
      ],
      "execution_count": null,
      "outputs": []
    },
    {
      "cell_type": "code",
      "metadata": {
        "id": "MDj_9b9Sm9RM"
      },
      "source": [
        "DIR_DATEN = \"/content/drive/MyDrive/DEEPVIS/data\"   # make sure to always adapt this to your own folser structure\n",
        "DIR_DATEN_01 = os.path.join(DIR_DATEN, \"01_Daten\")\n",
        "DIR_WAFER_IMAGES = os.path.join(DIR_DATEN, \"WaferImages\")"
      ],
      "execution_count": null,
      "outputs": []
    },
    {
      "cell_type": "markdown",
      "metadata": {
        "id": "7sCZ10w5ODGv"
      },
      "source": [
        "## **Load Data**"
      ]
    },
    {
      "cell_type": "code",
      "metadata": {
        "id": "Y3V0mipE82yk"
      },
      "source": [
        "labels_filename =\"Labels_Waferviertel.xlsx\"\n",
        "meta_filename = \"Meta_data.csv\""
      ],
      "execution_count": null,
      "outputs": []
    },
    {
      "cell_type": "code",
      "metadata": {
        "id": "QIpv38AzOIAT",
        "colab": {
          "base_uri": "https://localhost:8080/"
        },
        "outputId": "bd6cf459-6cfb-48bf-f6da-ed6e6ecd9853"
      },
      "source": [
        "labels = pd.read_excel(os.path.join(DIR_DATEN_01, labels_filename))\n",
        "labels.head(5)"
      ],
      "execution_count": null,
      "outputs": [
        {
          "output_type": "execute_result",
          "data": {
            "text/html": [
              "<div>\n",
              "<style scoped>\n",
              "    .dataframe tbody tr th:only-of-type {\n",
              "        vertical-align: middle;\n",
              "    }\n",
              "\n",
              "    .dataframe tbody tr th {\n",
              "        vertical-align: top;\n",
              "    }\n",
              "\n",
              "    .dataframe thead th {\n",
              "        text-align: right;\n",
              "    }\n",
              "</style>\n",
              "<table border=\"1\" class=\"dataframe\">\n",
              "  <thead>\n",
              "    <tr style=\"text-align: right;\">\n",
              "      <th></th>\n",
              "      <th>File Name</th>\n",
              "      <th>Part No</th>\n",
              "      <th>Crack</th>\n",
              "      <th>Patch</th>\n",
              "      <th>Scratch</th>\n",
              "      <th>Low Level</th>\n",
              "      <th>Circle</th>\n",
              "      <th>Displaced</th>\n",
              "      <th>Splinter</th>\n",
              "      <th>Stain</th>\n",
              "      <th>Wafer on Pin</th>\n",
              "      <th>Other</th>\n",
              "      <th>PosX</th>\n",
              "      <th>PosY</th>\n",
              "      <th>Timestamp</th>\n",
              "      <th>PreviousClass</th>\n",
              "      <th>NoOfErrors</th>\n",
              "    </tr>\n",
              "  </thead>\n",
              "  <tbody>\n",
              "    <tr>\n",
              "      <th>0</th>\n",
              "      <td>001932631.tif</td>\n",
              "      <td>0</td>\n",
              "      <td>False</td>\n",
              "      <td>False</td>\n",
              "      <td>False</td>\n",
              "      <td>False</td>\n",
              "      <td>False</td>\n",
              "      <td>False</td>\n",
              "      <td>False</td>\n",
              "      <td>False</td>\n",
              "      <td>False</td>\n",
              "      <td>True</td>\n",
              "      <td>0</td>\n",
              "      <td>0</td>\n",
              "      <td>2019-06-12 13:48:45</td>\n",
              "      <td>other</td>\n",
              "      <td>1</td>\n",
              "    </tr>\n",
              "    <tr>\n",
              "      <th>1</th>\n",
              "      <td>001932631.tif</td>\n",
              "      <td>1</td>\n",
              "      <td>False</td>\n",
              "      <td>False</td>\n",
              "      <td>False</td>\n",
              "      <td>False</td>\n",
              "      <td>False</td>\n",
              "      <td>False</td>\n",
              "      <td>False</td>\n",
              "      <td>False</td>\n",
              "      <td>False</td>\n",
              "      <td>True</td>\n",
              "      <td>0</td>\n",
              "      <td>0</td>\n",
              "      <td>2019-06-12 13:48:45</td>\n",
              "      <td>other</td>\n",
              "      <td>1</td>\n",
              "    </tr>\n",
              "    <tr>\n",
              "      <th>2</th>\n",
              "      <td>001932631.tif</td>\n",
              "      <td>2</td>\n",
              "      <td>False</td>\n",
              "      <td>False</td>\n",
              "      <td>False</td>\n",
              "      <td>False</td>\n",
              "      <td>False</td>\n",
              "      <td>False</td>\n",
              "      <td>False</td>\n",
              "      <td>False</td>\n",
              "      <td>False</td>\n",
              "      <td>True</td>\n",
              "      <td>0</td>\n",
              "      <td>0</td>\n",
              "      <td>2019-06-12 13:48:45</td>\n",
              "      <td>other</td>\n",
              "      <td>1</td>\n",
              "    </tr>\n",
              "    <tr>\n",
              "      <th>3</th>\n",
              "      <td>001932631.tif</td>\n",
              "      <td>3</td>\n",
              "      <td>False</td>\n",
              "      <td>False</td>\n",
              "      <td>False</td>\n",
              "      <td>False</td>\n",
              "      <td>False</td>\n",
              "      <td>False</td>\n",
              "      <td>False</td>\n",
              "      <td>False</td>\n",
              "      <td>False</td>\n",
              "      <td>True</td>\n",
              "      <td>0</td>\n",
              "      <td>0</td>\n",
              "      <td>2019-06-12 13:48:45</td>\n",
              "      <td>other</td>\n",
              "      <td>1</td>\n",
              "    </tr>\n",
              "    <tr>\n",
              "      <th>4</th>\n",
              "      <td>001945868.tif</td>\n",
              "      <td>0</td>\n",
              "      <td>False</td>\n",
              "      <td>False</td>\n",
              "      <td>False</td>\n",
              "      <td>False</td>\n",
              "      <td>False</td>\n",
              "      <td>False</td>\n",
              "      <td>False</td>\n",
              "      <td>False</td>\n",
              "      <td>False</td>\n",
              "      <td>True</td>\n",
              "      <td>0</td>\n",
              "      <td>0</td>\n",
              "      <td>2019-06-12 13:48:47</td>\n",
              "      <td>other</td>\n",
              "      <td>1</td>\n",
              "    </tr>\n",
              "  </tbody>\n",
              "</table>\n",
              "</div>"
            ],
            "text/plain": [
              "       File Name  Part No  Crack  ...            Timestamp  PreviousClass  NoOfErrors\n",
              "0  001932631.tif        0  False  ...  2019-06-12 13:48:45          other           1\n",
              "1  001932631.tif        1  False  ...  2019-06-12 13:48:45          other           1\n",
              "2  001932631.tif        2  False  ...  2019-06-12 13:48:45          other           1\n",
              "3  001932631.tif        3  False  ...  2019-06-12 13:48:45          other           1\n",
              "4  001945868.tif        0  False  ...  2019-06-12 13:48:47          other           1\n",
              "\n",
              "[5 rows x 17 columns]"
            ]
          },
          "metadata": {},
          "execution_count": 24
        }
      ]
    },
    {
      "cell_type": "code",
      "metadata": {
        "id": "LFUdpMtCOJ_q",
        "colab": {
          "base_uri": "https://localhost:8080/"
        },
        "outputId": "68472643-aca2-4321-e3db-431be03b80ab"
      },
      "source": [
        "labels[\"PreviousClass\"].unique()  # we don't need that any longer?"
      ],
      "execution_count": null,
      "outputs": [
        {
          "output_type": "execute_result",
          "data": {
            "text/plain": [
              "array(['other', 'patch', 'circle', 'splinter', 'stain', 'waferonpin',\n",
              "       'crack', 'scratch'], dtype=object)"
            ]
          },
          "metadata": {},
          "execution_count": 25
        }
      ]
    },
    {
      "cell_type": "markdown",
      "metadata": {
        "id": "mjHsIgaSOMoA"
      },
      "source": [
        "## **Meta-Data**"
      ]
    },
    {
      "cell_type": "code",
      "metadata": {
        "id": "yQymXrZ1OQK9",
        "colab": {
          "base_uri": "https://localhost:8080/"
        },
        "outputId": "56e80d27-b4ea-4f1d-d154-f2ae118539bd"
      },
      "source": [
        "meta = pd.read_csv(os.path.join(DIR_DATEN_01, meta_filename))\n",
        "meta"
      ],
      "execution_count": null,
      "outputs": [
        {
          "output_type": "execute_result",
          "data": {
            "text/html": [
              "<div>\n",
              "<style scoped>\n",
              "    .dataframe tbody tr th:only-of-type {\n",
              "        vertical-align: middle;\n",
              "    }\n",
              "\n",
              "    .dataframe tbody tr th {\n",
              "        vertical-align: top;\n",
              "    }\n",
              "\n",
              "    .dataframe thead th {\n",
              "        text-align: right;\n",
              "    }\n",
              "</style>\n",
              "<table border=\"1\" class=\"dataframe\">\n",
              "  <thead>\n",
              "    <tr style=\"text-align: right;\">\n",
              "      <th></th>\n",
              "      <th>file_name</th>\n",
              "      <th>wafer_id</th>\n",
              "      <th>gray_mean</th>\n",
              "      <th>class</th>\n",
              "      <th>NameBild</th>\n",
              "      <th>SUBSTRATEIDENT</th>\n",
              "      <th>TIMESTAMP_CTS</th>\n",
              "      <th>CTS_EFF</th>\n",
              "      <th>CTS_FF</th>\n",
              "      <th>CTS_VOC</th>\n",
              "      <th>CTS_ISC</th>\n",
              "      <th>CTS_RSER</th>\n",
              "      <th>CTS_RSH</th>\n",
              "      <th>CTS_IREV2_T</th>\n",
              "      <th>CTS_B2B_1</th>\n",
              "      <th>CTS_JOB_NR</th>\n",
              "      <th>CTS_EL_CRACK_COUNT</th>\n",
              "      <th>CTS_EL_DARKAREA_COUNT</th>\n",
              "    </tr>\n",
              "  </thead>\n",
              "  <tbody>\n",
              "    <tr>\n",
              "      <th>0</th>\n",
              "      <td>002152418.tif</td>\n",
              "      <td>2152418</td>\n",
              "      <td>183.47</td>\n",
              "      <td>Cracks</td>\n",
              "      <td>002152418.tif</td>\n",
              "      <td>11790109.0</td>\n",
              "      <td>2018-07-26 14:46:26</td>\n",
              "      <td>23.136937</td>\n",
              "      <td>0.814332</td>\n",
              "      <td>737.587</td>\n",
              "      <td>9.412589</td>\n",
              "      <td>4.987</td>\n",
              "      <td>4481.251483</td>\n",
              "      <td>0.331505</td>\n",
              "      <td>20.010000</td>\n",
              "      <td>20180726 Exp 66</td>\n",
              "      <td>0.0</td>\n",
              "      <td>0.0</td>\n",
              "    </tr>\n",
              "    <tr>\n",
              "      <th>1</th>\n",
              "      <td>001889692.tif</td>\n",
              "      <td>1889692</td>\n",
              "      <td>176.80</td>\n",
              "      <td>Cracks</td>\n",
              "      <td>001889692.tif</td>\n",
              "      <td>11232718.0</td>\n",
              "      <td>2018-02-27 13:19:22</td>\n",
              "      <td>23.041940</td>\n",
              "      <td>0.810728</td>\n",
              "      <td>735.176</td>\n",
              "      <td>9.445444</td>\n",
              "      <td>5.032</td>\n",
              "      <td>3471.378009</td>\n",
              "      <td>0.040560</td>\n",
              "      <td>35.639999</td>\n",
              "      <td>20180227 HD556</td>\n",
              "      <td>1.0</td>\n",
              "      <td>0.0</td>\n",
              "    </tr>\n",
              "    <tr>\n",
              "      <th>2</th>\n",
              "      <td>001897005.tif</td>\n",
              "      <td>1897005</td>\n",
              "      <td>177.04</td>\n",
              "      <td>Cracks</td>\n",
              "      <td>001897005.tif</td>\n",
              "      <td>11278998.0</td>\n",
              "      <td>2018-03-05 15:07:20</td>\n",
              "      <td>23.073799</td>\n",
              "      <td>0.811632</td>\n",
              "      <td>735.720</td>\n",
              "      <td>9.441592</td>\n",
              "      <td>4.906</td>\n",
              "      <td>3821.416372</td>\n",
              "      <td>0.021333</td>\n",
              "      <td>38.169998</td>\n",
              "      <td>20180305 HD547-4</td>\n",
              "      <td>0.0</td>\n",
              "      <td>0.0</td>\n",
              "    </tr>\n",
              "    <tr>\n",
              "      <th>3</th>\n",
              "      <td>001962325.tif</td>\n",
              "      <td>1962325</td>\n",
              "      <td>172.97</td>\n",
              "      <td>Cracks</td>\n",
              "      <td>001962325.tif</td>\n",
              "      <td>11403759.0</td>\n",
              "      <td>2018-04-04 11:41:30</td>\n",
              "      <td>22.571537</td>\n",
              "      <td>0.797088</td>\n",
              "      <td>734.655</td>\n",
              "      <td>9.417174</td>\n",
              "      <td>5.329</td>\n",
              "      <td>3016.940429</td>\n",
              "      <td>0.006562</td>\n",
              "      <td>38.720001</td>\n",
              "      <td>20180328 M2R</td>\n",
              "      <td>1.0</td>\n",
              "      <td>0.0</td>\n",
              "    </tr>\n",
              "    <tr>\n",
              "      <th>4</th>\n",
              "      <td>002152288.tif</td>\n",
              "      <td>2152288</td>\n",
              "      <td>173.58</td>\n",
              "      <td>Cracks</td>\n",
              "      <td>002152288.tif</td>\n",
              "      <td>11794609.0</td>\n",
              "      <td>2018-07-26 14:34:30</td>\n",
              "      <td>23.001560</td>\n",
              "      <td>0.810923</td>\n",
              "      <td>735.170</td>\n",
              "      <td>9.428756</td>\n",
              "      <td>5.170</td>\n",
              "      <td>1169.261436</td>\n",
              "      <td>0.182121</td>\n",
              "      <td>20.059999</td>\n",
              "      <td>20180726 Exp 66</td>\n",
              "      <td>0.0</td>\n",
              "      <td>0.0</td>\n",
              "    </tr>\n",
              "    <tr>\n",
              "      <th>...</th>\n",
              "      <td>...</td>\n",
              "      <td>...</td>\n",
              "      <td>...</td>\n",
              "      <td>...</td>\n",
              "      <td>...</td>\n",
              "      <td>...</td>\n",
              "      <td>...</td>\n",
              "      <td>...</td>\n",
              "      <td>...</td>\n",
              "      <td>...</td>\n",
              "      <td>...</td>\n",
              "      <td>...</td>\n",
              "      <td>...</td>\n",
              "      <td>...</td>\n",
              "      <td>...</td>\n",
              "      <td>...</td>\n",
              "      <td>...</td>\n",
              "      <td>...</td>\n",
              "    </tr>\n",
              "    <tr>\n",
              "      <th>6101</th>\n",
              "      <td>002126113.tif</td>\n",
              "      <td>2126113</td>\n",
              "      <td>213.27</td>\n",
              "      <td>gute_Wafer</td>\n",
              "      <td>002126113.tif</td>\n",
              "      <td>11734418.0</td>\n",
              "      <td>2018-07-02 11:44:45</td>\n",
              "      <td>23.665103</td>\n",
              "      <td>0.821231</td>\n",
              "      <td>744.152</td>\n",
              "      <td>9.462665</td>\n",
              "      <td>4.680</td>\n",
              "      <td>4500.504749</td>\n",
              "      <td>0.009221</td>\n",
              "      <td>43.840000</td>\n",
              "      <td>20180702 EXP41</td>\n",
              "      <td>0.0</td>\n",
              "      <td>0.0</td>\n",
              "    </tr>\n",
              "    <tr>\n",
              "      <th>6102</th>\n",
              "      <td>002160320.tif</td>\n",
              "      <td>2160320</td>\n",
              "      <td>172.81</td>\n",
              "      <td>gute_Wafer</td>\n",
              "      <td>002160320.tif</td>\n",
              "      <td>11825342.0</td>\n",
              "      <td>2018-08-02 10:34:09</td>\n",
              "      <td>22.769944</td>\n",
              "      <td>0.800344</td>\n",
              "      <td>734.057</td>\n",
              "      <td>9.471267</td>\n",
              "      <td>5.318</td>\n",
              "      <td>25349.092305</td>\n",
              "      <td>0.000851</td>\n",
              "      <td>19.879999</td>\n",
              "      <td>20180802 EXP 99</td>\n",
              "      <td>0.0</td>\n",
              "      <td>0.0</td>\n",
              "    </tr>\n",
              "    <tr>\n",
              "      <th>6103</th>\n",
              "      <td>002161033.tif</td>\n",
              "      <td>2161033</td>\n",
              "      <td>201.44</td>\n",
              "      <td>gute_Wafer</td>\n",
              "      <td>002161033.tif</td>\n",
              "      <td>11827179.0</td>\n",
              "      <td>2018-08-02 11:35:48</td>\n",
              "      <td>23.229798</td>\n",
              "      <td>0.811132</td>\n",
              "      <td>740.253</td>\n",
              "      <td>9.453416</td>\n",
              "      <td>4.889</td>\n",
              "      <td>14218.466321</td>\n",
              "      <td>0.001039</td>\n",
              "      <td>22.299999</td>\n",
              "      <td>20180802 EXP 99</td>\n",
              "      <td>0.0</td>\n",
              "      <td>0.0</td>\n",
              "    </tr>\n",
              "    <tr>\n",
              "      <th>6104</th>\n",
              "      <td>002161876.tif</td>\n",
              "      <td>2161876</td>\n",
              "      <td>194.77</td>\n",
              "      <td>gute_Wafer</td>\n",
              "      <td>002161876.tif</td>\n",
              "      <td>11807331.0</td>\n",
              "      <td>2018-08-03 12:47:42</td>\n",
              "      <td>23.060322</td>\n",
              "      <td>0.810989</td>\n",
              "      <td>736.246</td>\n",
              "      <td>9.435790</td>\n",
              "      <td>5.220</td>\n",
              "      <td>2525.808870</td>\n",
              "      <td>0.008307</td>\n",
              "      <td>26.870001</td>\n",
              "      <td>20180803 EXP 58</td>\n",
              "      <td>0.0</td>\n",
              "      <td>0.0</td>\n",
              "    </tr>\n",
              "    <tr>\n",
              "      <th>6105</th>\n",
              "      <td>002161769.tif</td>\n",
              "      <td>2161769</td>\n",
              "      <td>183.17</td>\n",
              "      <td>gute_Wafer</td>\n",
              "      <td>002161769.tif</td>\n",
              "      <td>11806845.0</td>\n",
              "      <td>2018-08-03 12:35:43</td>\n",
              "      <td>23.053969</td>\n",
              "      <td>0.812255</td>\n",
              "      <td>735.366</td>\n",
              "      <td>9.430334</td>\n",
              "      <td>4.984</td>\n",
              "      <td>3382.212480</td>\n",
              "      <td>0.019721</td>\n",
              "      <td>24.680000</td>\n",
              "      <td>20180803 EXP 58</td>\n",
              "      <td>0.0</td>\n",
              "      <td>0.0</td>\n",
              "    </tr>\n",
              "  </tbody>\n",
              "</table>\n",
              "<p>6106 rows × 18 columns</p>\n",
              "</div>"
            ],
            "text/plain": [
              "          file_name  wafer_id  ...  CTS_EL_CRACK_COUNT CTS_EL_DARKAREA_COUNT\n",
              "0     002152418.tif   2152418  ...                 0.0                   0.0\n",
              "1     001889692.tif   1889692  ...                 1.0                   0.0\n",
              "2     001897005.tif   1897005  ...                 0.0                   0.0\n",
              "3     001962325.tif   1962325  ...                 1.0                   0.0\n",
              "4     002152288.tif   2152288  ...                 0.0                   0.0\n",
              "...             ...       ...  ...                 ...                   ...\n",
              "6101  002126113.tif   2126113  ...                 0.0                   0.0\n",
              "6102  002160320.tif   2160320  ...                 0.0                   0.0\n",
              "6103  002161033.tif   2161033  ...                 0.0                   0.0\n",
              "6104  002161876.tif   2161876  ...                 0.0                   0.0\n",
              "6105  002161769.tif   2161769  ...                 0.0                   0.0\n",
              "\n",
              "[6106 rows x 18 columns]"
            ]
          },
          "metadata": {},
          "execution_count": 26
        }
      ]
    },
    {
      "cell_type": "code",
      "metadata": {
        "id": "Q6-xtJ2pOTm3",
        "colab": {
          "base_uri": "https://localhost:8080/"
        },
        "outputId": "9c01a771-18c0-4999-fa3a-8aac0d04a8c9"
      },
      "source": [
        "meta[\"class\"].unique()"
      ],
      "execution_count": null,
      "outputs": [
        {
          "output_type": "execute_result",
          "data": {
            "text/plain": [
              "array(['Cracks', 'Flecken', 'Kratzer', 'low_level', 'Punkte',\n",
              "       'schlecht_positioniert', 'Sonstiges', 'Splitter_im_Tester',\n",
              "       'Verschmutzung', 'Wafer_auf_Pin', 'gute_Wafer'], dtype=object)"
            ]
          },
          "metadata": {},
          "execution_count": 27
        }
      ]
    },
    {
      "cell_type": "markdown",
      "metadata": {
        "id": "S8saJb3ZOZE_"
      },
      "source": [
        "## **Load, Select and Encode Images**"
      ]
    },
    {
      "cell_type": "code",
      "metadata": {
        "id": "rTuXl_7GOdcc",
        "colab": {
          "base_uri": "https://localhost:8080/"
        },
        "outputId": "643630cc-df5f-4806-e89a-407f4fb2370c"
      },
      "source": [
        "# get all the image paths\n",
        "image_paths = list(paths.list_images(DIR_WAFER_IMAGES))\n",
        "\n",
        "# create an empty DataFrame\n",
        "data = pd.DataFrame()\n",
        "\n",
        "for i, image_path in tqdm(enumerate(image_paths), total=len(image_paths)):\n",
        "    data.loc[i, 'label'] = image_path.split(os.path.sep)[-2]  # loading labels into DataFrame based on directory name\n",
        "    data.loc[i, 'image_path'] = image_path # loading image paths into DataFrame\n",
        "\n",
        "print(data.head())\n",
        "print('\\n')\n",
        "print(\"Unique classes: \", data.label.unique())"
      ],
      "execution_count": null,
      "outputs": [
        {
          "output_type": "stream",
          "text": [
            "100%|██████████| 5944/5944 [00:04<00:00, 1190.23it/s]"
          ],
          "name": "stderr"
        },
        {
          "output_type": "stream",
          "text": [
            "   label                                         image_path\n",
            "0  patch  /content/drive/MyDrive/DEEPVIS/data/WaferImage...\n",
            "1  patch  /content/drive/MyDrive/DEEPVIS/data/WaferImage...\n",
            "2  patch  /content/drive/MyDrive/DEEPVIS/data/WaferImage...\n",
            "3  patch  /content/drive/MyDrive/DEEPVIS/data/WaferImage...\n",
            "4  patch  /content/drive/MyDrive/DEEPVIS/data/WaferImage...\n",
            "\n",
            "\n",
            "Unique classes:  ['patch' 'other' 'low_level' 'splinter' 'crack' 'good' 'stain' 'circle'\n",
            " 'displaced' 'scratch' 'waferonpin']\n"
          ],
          "name": "stdout"
        },
        {
          "output_type": "stream",
          "text": [
            "\n"
          ],
          "name": "stderr"
        }
      ]
    },
    {
      "cell_type": "code",
      "metadata": {
        "id": "2DTEpnmEVT0W",
        "colab": {
          "base_uri": "https://localhost:8080/"
        },
        "outputId": "9a82e3bc-b459-4c7a-d591-dbf7e8216a7d"
      },
      "source": [
        "sel_classes = ['circle', 'crack', 'good', 'scratch', 'splinter', 'stain'] # selecting bounding boxes classes\n",
        "\n",
        "data = data[data['label'].isin(sel_classes)] # reducing DataFrame to the selected classes\n",
        "data.label.unique()\n",
        "\n",
        "lb = preprocessing.LabelEncoder() # encoding target labels with values between 0 and n_classes-1\n",
        "data['label'] = lb.fit_transform(data['label']) #  appling encoded labels to our DataFrame data\n",
        "\n",
        "print(data.head())"
      ],
      "execution_count": null,
      "outputs": [
        {
          "output_type": "stream",
          "text": [
            "      label                                         image_path\n",
            "1431      4  /content/drive/MyDrive/DEEPVIS/data/WaferImage...\n",
            "1432      4  /content/drive/MyDrive/DEEPVIS/data/WaferImage...\n",
            "1433      4  /content/drive/MyDrive/DEEPVIS/data/WaferImage...\n",
            "1434      4  /content/drive/MyDrive/DEEPVIS/data/WaferImage...\n",
            "1435      4  /content/drive/MyDrive/DEEPVIS/data/WaferImage...\n"
          ],
          "name": "stdout"
        }
      ]
    },
    {
      "cell_type": "code",
      "metadata": {
        "id": "VoGati1tO_p9",
        "colab": {
          "base_uri": "https://localhost:8080/"
        },
        "outputId": "2804fa2b-cd95-4035-8dbd-8cfc6f121f05"
      },
      "source": [
        "len(lb.classes_)"
      ],
      "execution_count": null,
      "outputs": [
        {
          "output_type": "execute_result",
          "data": {
            "text/plain": [
              "6"
            ]
          },
          "metadata": {},
          "execution_count": 30
        }
      ]
    },
    {
      "cell_type": "code",
      "metadata": {
        "id": "nSlE4W0UQZl9",
        "colab": {
          "base_uri": "https://localhost:8080/"
        },
        "outputId": "025517da-3466-42af-bae3-75e7a414b157"
      },
      "source": [
        "mapping = dict(zip(lb.classes_, lb.transform(lb.classes_)))\n",
        "inverse_mapping = dict(zip(lb.transform(lb.classes_), lb.classes_))\n",
        "\n",
        "print(\"Mapping label to class:\")\n",
        "print('\\n')\n",
        "print(inverse_mapping)"
      ],
      "execution_count": null,
      "outputs": [
        {
          "output_type": "stream",
          "text": [
            "Mapping label to class:\n",
            "\n",
            "\n",
            "{0: 'circle', 1: 'crack', 2: 'good', 3: 'scratch', 4: 'splinter', 5: 'stain'}\n"
          ],
          "name": "stdout"
        }
      ]
    },
    {
      "cell_type": "markdown",
      "metadata": {
        "id": "BHCJr5IFDctF"
      },
      "source": [
        "# Prepare Dataset into Train and Test Set (80:20)\n",
        "\n"
      ]
    },
    {
      "cell_type": "code",
      "metadata": {
        "id": "5Yed9nTLUVXJ"
      },
      "source": [
        "X = data.image_path\n",
        "y = data.label\n",
        "\n",
        "n_splits = 1  # A single split in this case\n",
        "sss = StratifiedShuffleSplit(n_splits=n_splits, test_size=0.20, random_state=42) \n",
        "\n",
        "for train_index, val_index in sss.split(X, y):\n",
        "  X_train, X_val = X.iloc[train_index], X.iloc[val_index]\n",
        "  y_train, y_val = y.iloc[train_index], y.iloc[val_index]"
      ],
      "execution_count": null,
      "outputs": []
    },
    {
      "cell_type": "code",
      "metadata": {
        "id": "IynS-DyeOQD-",
        "colab": {
          "base_uri": "https://localhost:8080/"
        },
        "outputId": "326e4283-669e-479b-df00-b054261cd413"
      },
      "source": [
        "print(len(X), len(y))"
      ],
      "execution_count": null,
      "outputs": [
        {
          "output_type": "stream",
          "text": [
            "3264 3264\n"
          ],
          "name": "stdout"
        }
      ]
    },
    {
      "cell_type": "markdown",
      "metadata": {
        "id": "rXWZC0DZFVcy"
      },
      "source": [
        "Sanity Check"
      ]
    },
    {
      "cell_type": "code",
      "metadata": {
        "colab": {
          "base_uri": "https://localhost:8080/"
        },
        "id": "fb8m9VeiFFOE",
        "outputId": "4dfea615-e819-4ac5-aa15-d51d9ccd7bad"
      },
      "source": [
        "# check if split correct\n",
        "print(len(X_train))\n",
        "print(len(y_train))\n",
        "print(len(X_val))\n",
        "print(len(y_val))"
      ],
      "execution_count": null,
      "outputs": [
        {
          "output_type": "stream",
          "text": [
            "2611\n",
            "2611\n",
            "653\n",
            "653\n"
          ],
          "name": "stdout"
        }
      ]
    },
    {
      "cell_type": "code",
      "metadata": {
        "colab": {
          "base_uri": "https://localhost:8080/",
          "height": 496
        },
        "id": "2NyN0cJcFy5o",
        "outputId": "f047fe40-0607-47d5-a3a4-0ff12a75ad50"
      },
      "source": [
        "y_train.value_counts().plot(kind='bar', figsize=(14, 8)) # plotting the number of occurrences of each label"
      ],
      "execution_count": null,
      "outputs": [
        {
          "output_type": "execute_result",
          "data": {
            "text/plain": [
              "<matplotlib.axes._subplots.AxesSubplot at 0x7f4fe1654190>"
            ]
          },
          "metadata": {},
          "execution_count": 35
        },
        {
          "output_type": "display_data",
          "data": {
            "image/png": "[encoded data removed]",
            "text/plain": [
              "<Figure size 1008x576 with 1 Axes>"
            ]
          },
          "metadata": {
            "needs_background": "light"
          }
        }
      ]
    },
    {
      "cell_type": "code",
      "metadata": {
        "colab": {
          "base_uri": "https://localhost:8080/",
          "height": 496
        },
        "id": "_TNti1UfF9aF",
        "outputId": "c9aeb9bb-ad79-44fa-c08d-e16bfe2dbd93"
      },
      "source": [
        "y_val.value_counts().plot(kind='bar', figsize=(14, 8)) # plotting the number of occurrences of each label"
      ],
      "execution_count": null,
      "outputs": [
        {
          "output_type": "execute_result",
          "data": {
            "text/plain": [
              "<matplotlib.axes._subplots.AxesSubplot at 0x7f4fe15c8250>"
            ]
          },
          "metadata": {},
          "execution_count": 36
        },
        {
          "output_type": "display_data",
          "data": {
            "image/png": "[encoded data removed]",
            "text/plain": [
              "<Figure size 1008x576 with 1 Axes>"
            ]
          },
          "metadata": {
            "needs_background": "light"
          }
        }
      ]
    },
    {
      "cell_type": "markdown",
      "metadata": {
        "id": "OnK5e7AoLOqN"
      },
      "source": [
        "# Data Loaders"
      ]
    },
    {
      "cell_type": "code",
      "metadata": {
        "id": "2z79LNvBLalB"
      },
      "source": [
        "from torch.utils.data import Dataset, DataLoader\n",
        "from PIL import Image"
      ],
      "execution_count": null,
      "outputs": []
    },
    {
      "cell_type": "code",
      "metadata": {
        "id": "evscwIrCNRbx"
      },
      "source": [
        "def load_image(infilename, infilegrayscale):\n",
        "    \"\"\"\n",
        "    This function loads an image into memory when you give it the path of the image\n",
        "    \"\"\"\n",
        "    if infilegrayscale:\n",
        "      img = Image.open(infilename).convert('L')\n",
        "    else:\n",
        "      img = Image.open(infilename)\n",
        "    #data = np.asarray(img)\n",
        "    return img"
      ],
      "execution_count": null,
      "outputs": []
    },
    {
      "cell_type": "code",
      "metadata": {
        "id": "i7sNStzvMbV5"
      },
      "source": [
        "class WaferDataset(Dataset):\n",
        "    def __init__(self, path, labels, model=None):\n",
        "        self.X = path\n",
        "        self.y = labels\n",
        "        self.model = model\n",
        "        if self.model in [\"BaseNet\", \"RegNet\", \"VicNet\"]:\n",
        "          self.infilegrayscale = True\n",
        "        else:\n",
        "          self.infilegrayscale = False\n",
        "\n",
        "        # preprocessing\n",
        "        if model in [\"ResNet18\", \"VGG16\"]: # validation\n",
        "            self.preprocess = transforms.Compose([\n",
        "              transforms.Resize(244),\n",
        "              transforms.CenterCrop(224),\n",
        "              transforms.ToTensor(),\n",
        "              transforms.Lambda(lambda x: x.repeat(3, 1, 1)),  # duplicate channel as Resnet18 based on RGB\n",
        "              transforms.Normalize(mean=[0.485, 0.456, 0.406], std=[0.229, 0.224, 0.225]),\n",
        "              # Data augmentation\n",
        "              transforms.RandomHorizontalFlip(p=0.5),\n",
        "              transforms.RandomRotation(30),\n",
        "              transforms.RandomVerticalFlip(p=0.5)\n",
        "            ])\n",
        "        elif model in [\"BaseNet\", \"RegNet\", \"VicNet\", \"MaxNet\"]:\n",
        "          self.preprocess = transforms.Compose([\n",
        "              transforms.Resize(244),\n",
        "              transforms.CenterCrop(224),\n",
        "              transforms.ToTensor(),\n",
        "              # Data augmentation\n",
        "              transforms.RandomHorizontalFlip(p=0.5),\n",
        "              transforms.RandomRotation(30),\n",
        "              transforms.RandomVerticalFlip(p=0.5)\n",
        "            ])\n",
        "        \n",
        "    def __len__(self):\n",
        "        return (len(self.X))\n",
        "    \n",
        "    def __getitem__(self, i):\n",
        "        image = load_image(self.X.iloc[i], self.infilegrayscale)\n",
        "        label = self.y.iloc[i]\n",
        "        if self.model is not None:\n",
        "          image = self.preprocess(image)\n",
        "        # print(image.shape)\n",
        "        return torch.tensor(image, dtype=torch.float), torch.tensor(label, dtype=torch.long)"
      ],
      "execution_count": null,
      "outputs": []
    },
    {
      "cell_type": "markdown",
      "metadata": {
        "id": "MP9gy1lucgvo"
      },
      "source": [
        "# Models"
      ]
    },
    {
      "cell_type": "markdown",
      "metadata": {
        "id": "05jsA8ZDVrTc"
      },
      "source": [
        "## Unregularized Model"
      ]
    },
    {
      "cell_type": "code",
      "metadata": {
        "id": "Tfaq69uiVzYn"
      },
      "source": [
        "import torch.nn as nn\n",
        "import torch.nn.functional as F\n",
        "import torch.optim as optim\n",
        "import matplotlib.pyplot as plt"
      ],
      "execution_count": null,
      "outputs": []
    },
    {
      "cell_type": "code",
      "metadata": {
        "id": "6UtQ5LQ5V00M"
      },
      "source": [
        "from torchvision import models"
      ],
      "execution_count": null,
      "outputs": []
    },
    {
      "cell_type": "code",
      "metadata": {
        "id": "9VhrBUwAVtAu"
      },
      "source": [
        "class BaseNet(nn.Module):\n",
        "  def __init__(self, input_shape=(1, 224, 224)):\n",
        "    super().__init__()\n",
        "    # Here, we define all the weights for the neural network, they are abstracted by layers. Internally however, they are represented by Pytorch tensors.\n",
        "    self.conv1 = nn.Conv2d(in_channels=1, out_channels=32, kernel_size=config.kernel_size)\n",
        "    self.conv2 = nn.Conv2d(in_channels=32, out_channels=64, kernel_size=config.kernel_size)\n",
        "    self.conv3 = nn.Conv2d(in_channels=64, out_channels=128, kernel_size=config.kernel_size)\n",
        "\n",
        "    self.pool = nn.MaxPool2d(kernel_size=2)\n",
        "\n",
        "    n_size = self._get_conv_output(input_shape)\n",
        "\n",
        "    self.fc1 = nn.Linear(in_features=n_size, out_features=config.fc_layer_size)\n",
        "    self.fc2 = nn.Linear(in_features=config.fc_layer_size, out_features=len(lb.classes_))\n",
        "\n",
        "  def _get_conv_output(self, shape):\n",
        "    batch_size = 1\n",
        "    input = torch.autograd.Variable(torch.rand(batch_size, *shape))\n",
        "    output_feat = self._forward_features(input)\n",
        "    n_size = output_feat.data.view(batch_size, -1).size(1)\n",
        "    return n_size\n",
        "  \n",
        "  def _forward_features(self, x):\n",
        "    x = self.pool(F.relu(self.conv1(x)))\n",
        "    x = self.pool(F.relu(self.conv2(x)))\n",
        "    x = self.pool(F.relu(self.conv3(x)))\n",
        "    return x\n",
        "  \n",
        "  def forward(self, x):\n",
        "      # Here, we define how an input x is translated into an output. In our linear example, this was simply (x^T * w), now it becomes more complex but\n",
        "      # we don't have to care about that (gradients etc. are taken care of by Pytorch).\n",
        "      x = self._forward_features(x)\n",
        "      # You can always print shapes and tensors here. This is very very helpful to debug.\n",
        "      # print(\"x.shape:\", x.shape)\n",
        "      x = x.view(x.size(0), -1)\n",
        "      x = F.relu(self.fc1(x))\n",
        "      x = self.fc2(x)\n",
        "      return x"
      ],
      "execution_count": null,
      "outputs": []
    },
    {
      "cell_type": "code",
      "metadata": {
        "id": "Ulm4do8xV3Cg",
        "colab": {
          "base_uri": "https://localhost:8080/"
        },
        "outputId": "12c62e70-2a53-46f5-ce1a-ce96fb79d72a"
      },
      "source": [
        "basenet = BaseNet()\n",
        "basenet = basenet.to(runtime)\n",
        "\n",
        "print(basenet)"
      ],
      "execution_count": null,
      "outputs": [
        {
          "output_type": "stream",
          "text": [
            "BaseNet(\n",
            "  (conv1): Conv2d(1, 32, kernel_size=(3, 3), stride=(1, 1))\n",
            "  (conv2): Conv2d(32, 64, kernel_size=(3, 3), stride=(1, 1))\n",
            "  (conv3): Conv2d(64, 128, kernel_size=(3, 3), stride=(1, 1))\n",
            "  (pool): MaxPool2d(kernel_size=2, stride=2, padding=0, dilation=1, ceil_mode=False)\n",
            "  (fc1): Linear(in_features=86528, out_features=128, bias=True)\n",
            "  (fc2): Linear(in_features=128, out_features=6, bias=True)\n",
            ")\n"
          ],
          "name": "stdout"
        },
        {
          "output_type": "stream",
          "text": [
            "/usr/local/lib/python3.7/dist-packages/torch/nn/functional.py:718: UserWarning: Named tensors and all their associated APIs are an experimental feature and subject to change. Please do not use them for anything important until they are released as stable. (Triggered internally at  /pytorch/c10/core/TensorImpl.h:1156.)\n",
            "  return torch.max_pool2d(input, kernel_size, stride, padding, dilation, ceil_mode)\n"
          ],
          "name": "stderr"
        }
      ]
    },
    {
      "cell_type": "markdown",
      "metadata": {
        "id": "v5EgedoI5tcb"
      },
      "source": [
        "## Regularized Model"
      ]
    },
    {
      "cell_type": "code",
      "metadata": {
        "id": "_hp1lfTQM_NG"
      },
      "source": [
        "import torch.nn as nn\n",
        "import torch.nn.functional as F\n",
        "import torch.optim as optim\n",
        "import matplotlib.pyplot as plt"
      ],
      "execution_count": null,
      "outputs": []
    },
    {
      "cell_type": "code",
      "metadata": {
        "id": "kyFiVmYk5vSJ"
      },
      "source": [
        "class RegNet(nn.Module):\n",
        "  def __init__(self, input_shape=(1, 224, 224)):\n",
        "    super().__init__()\n",
        "    # Here, we define all the weights for the neural network, they are abstracted by layers. Internally however, they are represented by Pytorch tensors.\n",
        "    self.conv1 = nn.Conv2d(in_channels=1, out_channels=32, kernel_size=config.kernel_size)\n",
        "    self.batchnorm1 = nn.BatchNorm2d(32)\n",
        "    self.conv2 = nn.Conv2d(in_channels=32, out_channels=64, kernel_size=config.kernel_size)\n",
        "    self.batchnorm2 = nn.BatchNorm2d(64)\n",
        "    self.conv3 = nn.Conv2d(in_channels=64, out_channels=128, kernel_size=config.kernel_size)\n",
        "    self.batchnorm3 = nn.BatchNorm2d(128)\n",
        "\n",
        "    self.pool = nn.MaxPool2d(kernel_size=2)\n",
        "\n",
        "    n_size = self._get_conv_output(input_shape)\n",
        "\n",
        "    self.fc1 = nn.Linear(in_features=n_size, out_features=config.fc_layer_size)\n",
        "    self.fc2 = nn.Linear(in_features=config.fc_layer_size, out_features=len(lb.classes_))\n",
        "    \n",
        "    self.softmax = nn.LogSoftmax(dim=1)\n",
        "    self.dropout = nn.Dropout2d(config.dropout)\n",
        "\n",
        "\n",
        "  def _get_conv_output(self, shape):\n",
        "    batch_size = 1\n",
        "    input = torch.autograd.Variable(torch.rand(batch_size, *shape))\n",
        "    output_feat = self._forward_features(input)\n",
        "    n_size = output_feat.data.view(batch_size, -1).size(1)\n",
        "    return n_size\n",
        "  \n",
        "  def _forward_features(self, x):\n",
        "    x = self.pool(F.relu(self.conv1(x)))\n",
        "    x = self.pool(F.relu(self.conv2(x)))\n",
        "    x = self.pool(F.relu(self.conv3(x)))\n",
        "    return x\n",
        "  \n",
        "  def forward(self, x):\n",
        "      # Here, we define how an input x is translated into an output. In our linear example, this was simply (x^T * w), now it becomes more complex but\n",
        "      # we don't have to care about that (gradients etc. are taken care of by Pytorch).\n",
        "      x = self._forward_features(x)\n",
        "      # You can always print shapes and tensors here. This is very very helpful to debug.\n",
        "      # print(\"x.shape:\", x.shape)\n",
        "      x = x.view(x.size(0), -1)\n",
        "      x = F.relu(self.fc1(x))\n",
        "      x = self.dropout(x)\n",
        "      x = self.fc2(x)\n",
        "      x = self.softmax(x)\n",
        "      return x"
      ],
      "execution_count": null,
      "outputs": []
    },
    {
      "cell_type": "code",
      "metadata": {
        "id": "3D_NlFSi7cfv",
        "colab": {
          "base_uri": "https://localhost:8080/"
        },
        "outputId": "c11e1c34-d45b-409a-b464-224974f6fd43"
      },
      "source": [
        "regnet = RegNet()\n",
        "regnet = regnet.to(runtime)\n",
        "\n",
        "print(regnet)"
      ],
      "execution_count": null,
      "outputs": [
        {
          "output_type": "stream",
          "text": [
            "RegNet(\n",
            "  (conv1): Conv2d(1, 32, kernel_size=(3, 3), stride=(1, 1))\n",
            "  (batchnorm1): BatchNorm2d(32, eps=1e-05, momentum=0.1, affine=True, track_running_stats=True)\n",
            "  (conv2): Conv2d(32, 64, kernel_size=(3, 3), stride=(1, 1))\n",
            "  (batchnorm2): BatchNorm2d(64, eps=1e-05, momentum=0.1, affine=True, track_running_stats=True)\n",
            "  (conv3): Conv2d(64, 128, kernel_size=(3, 3), stride=(1, 1))\n",
            "  (batchnorm3): BatchNorm2d(128, eps=1e-05, momentum=0.1, affine=True, track_running_stats=True)\n",
            "  (pool): MaxPool2d(kernel_size=2, stride=2, padding=0, dilation=1, ceil_mode=False)\n",
            "  (fc1): Linear(in_features=86528, out_features=128, bias=True)\n",
            "  (fc2): Linear(in_features=128, out_features=6, bias=True)\n",
            "  (softmax): LogSoftmax(dim=1)\n",
            "  (dropout): Dropout2d(p=0.5, inplace=False)\n",
            ")\n"
          ],
          "name": "stdout"
        }
      ]
    },
    {
      "cell_type": "markdown",
      "metadata": {
        "id": "U099hsjBpxOA"
      },
      "source": [
        "## VicNet"
      ]
    },
    {
      "cell_type": "code",
      "metadata": {
        "id": "50X-zroWpw3K"
      },
      "source": [
        "class resBlock(nn.Module):\n",
        "    def __init__(self, in_channels, out_channels, kernel_size=3, stride=1):\n",
        "      super().__init__()\n",
        "      self.in_channels = in_channels\n",
        "      self.out_channels = out_channels\n",
        "      self.kernel_size = kernel_size\n",
        "      self.stride = stride\n",
        "      self.downsample = None\n",
        "\n",
        "      if stride != 1 or in_channels != out_channels:\n",
        "        self.downsample = nn.Sequential(nn.Conv2d(self.in_channels, self.out_channels, 1, self.stride),\n",
        "                                        nn.BatchNorm2d(self.out_channels))\n",
        "\n",
        "      self.block = nn.Sequential(nn.Conv2d(self.in_channels, self.out_channels, self.kernel_size, self.stride, padding=1),\n",
        "                                nn.BatchNorm2d(self.out_channels),\n",
        "                                nn.ReLU(),\n",
        "                                nn.Conv2d(self.out_channels, self.out_channels, self.kernel_size, 1, padding=1),\n",
        "                                nn.BatchNorm2d(self.out_channels))\n",
        "      self.relu = nn.ReLU()\n",
        "\n",
        "                               \n",
        "    def forward(self, x):\n",
        "      skip = x\n",
        "      x = self.block(x)\n",
        "      if self.downsample is not None:\n",
        "        skip = self.downsample(skip)\n",
        "      x += skip\n",
        "      x = self.relu(x)\n",
        "      return x"
      ],
      "execution_count": null,
      "outputs": []
    },
    {
      "cell_type": "code",
      "metadata": {
        "id": "IfInPwMQqYTK"
      },
      "source": [
        "class VicNet(nn.Module):\n",
        "  def __init__(self, input_shape=(1, 224, 224)):\n",
        "    super().__init__()\n",
        "    self.conv1 = nn.Conv2d(in_channels=1, out_channels=16, kernel_size=config.kernel_size)\n",
        "    self.conv2 = nn.Conv2d(in_channels=16, out_channels=32, kernel_size=config.kernel_size)\n",
        "    self.max_pool = nn.MaxPool2d(kernel_size=2)\n",
        "    self.dropout = nn.Dropout2d(config.dropout)\n",
        "    self.block1 = resBlock(in_channels=32, out_channels=32)\n",
        "    self.block2 = resBlock(in_channels=32, out_channels=64, stride=2)\n",
        "    self.block3 = resBlock(in_channels=64, out_channels=128, stride=2)\n",
        "    self.block4 = resBlock(in_channels=128, out_channels=256)\n",
        "    self.avg_pool = nn.AvgPool2d(kernel_size=2)\n",
        "\n",
        "    n_size = self._get_conv_output(input_shape)\n",
        "\n",
        "    self.fc1 = nn.Linear(in_features=n_size, out_features=config.fc_layer_size)\n",
        "    self.fc2 = nn.Linear(in_features=config.fc_layer_size, out_features=len(lb.classes_))\n",
        "\n",
        "  def _get_conv_output(self, shape):\n",
        "    batch_size = 1\n",
        "    input = torch.autograd.Variable(torch.rand(batch_size, *shape))\n",
        "    output_feat = self._forward_features(input)\n",
        "    n_size = output_feat.data.view(batch_size, -1).size(1)\n",
        "    return n_size\n",
        "  \n",
        "  def _forward_features(self, x):\n",
        "    x = self.max_pool(F.relu(self.conv1(x)))\n",
        "    x = self.max_pool(F.relu(self.conv2(x)))\n",
        "    x = self.block1(x)\n",
        "    x = self.block2(x)\n",
        "    x = self.block3(x)\n",
        "    x = self.block4(x)\n",
        "    x = self.avg_pool(x)\n",
        "    return x\n",
        "\n",
        "  def forward(self, x):\n",
        "    x = self._forward_features(x)\n",
        "    x = torch.flatten(x, 1)\n",
        "    x = F.relu(self.fc1(x))\n",
        "    x = self.fc2(x)\n",
        "    return x"
      ],
      "execution_count": null,
      "outputs": []
    },
    {
      "cell_type": "code",
      "metadata": {
        "colab": {
          "base_uri": "https://localhost:8080/"
        },
        "id": "0TB8u-Ges9nm",
        "outputId": "afefea11-4943-4ae7-b866-a553c8a75cef"
      },
      "source": [
        "vicnet = VicNet()\n",
        "vicnet = vicnet.to(runtime)\n",
        "\n",
        "print(vicnet)"
      ],
      "execution_count": null,
      "outputs": [
        {
          "output_type": "stream",
          "text": [
            "VicNet(\n",
            "  (conv1): Conv2d(1, 16, kernel_size=(3, 3), stride=(1, 1))\n",
            "  (conv2): Conv2d(16, 32, kernel_size=(3, 3), stride=(1, 1))\n",
            "  (max_pool): MaxPool2d(kernel_size=2, stride=2, padding=0, dilation=1, ceil_mode=False)\n",
            "  (dropout): Dropout2d(p=0.5, inplace=False)\n",
            "  (block1): resBlock(\n",
            "    (block): Sequential(\n",
            "      (0): Conv2d(32, 32, kernel_size=(3, 3), stride=(1, 1), padding=(1, 1))\n",
            "      (1): BatchNorm2d(32, eps=1e-05, momentum=0.1, affine=True, track_running_stats=True)\n",
            "      (2): ReLU()\n",
            "      (3): Conv2d(32, 32, kernel_size=(3, 3), stride=(1, 1), padding=(1, 1))\n",
            "      (4): BatchNorm2d(32, eps=1e-05, momentum=0.1, affine=True, track_running_stats=True)\n",
            "    )\n",
            "    (relu): ReLU()\n",
            "  )\n",
            "  (block2): resBlock(\n",
            "    (downsample): Sequential(\n",
            "      (0): Conv2d(32, 64, kernel_size=(1, 1), stride=(2, 2))\n",
            "      (1): BatchNorm2d(64, eps=1e-05, momentum=0.1, affine=True, track_running_stats=True)\n",
            "    )\n",
            "    (block): Sequential(\n",
            "      (0): Conv2d(32, 64, kernel_size=(3, 3), stride=(2, 2), padding=(1, 1))\n",
            "      (1): BatchNorm2d(64, eps=1e-05, momentum=0.1, affine=True, track_running_stats=True)\n",
            "      (2): ReLU()\n",
            "      (3): Conv2d(64, 64, kernel_size=(3, 3), stride=(1, 1), padding=(1, 1))\n",
            "      (4): BatchNorm2d(64, eps=1e-05, momentum=0.1, affine=True, track_running_stats=True)\n",
            "    )\n",
            "    (relu): ReLU()\n",
            "  )\n",
            "  (block3): resBlock(\n",
            "    (downsample): Sequential(\n",
            "      (0): Conv2d(64, 128, kernel_size=(1, 1), stride=(2, 2))\n",
            "      (1): BatchNorm2d(128, eps=1e-05, momentum=0.1, affine=True, track_running_stats=True)\n",
            "    )\n",
            "    (block): Sequential(\n",
            "      (0): Conv2d(64, 128, kernel_size=(3, 3), stride=(2, 2), padding=(1, 1))\n",
            "      (1): BatchNorm2d(128, eps=1e-05, momentum=0.1, affine=True, track_running_stats=True)\n",
            "      (2): ReLU()\n",
            "      (3): Conv2d(128, 128, kernel_size=(3, 3), stride=(1, 1), padding=(1, 1))\n",
            "      (4): BatchNorm2d(128, eps=1e-05, momentum=0.1, affine=True, track_running_stats=True)\n",
            "    )\n",
            "    (relu): ReLU()\n",
            "  )\n",
            "  (block4): resBlock(\n",
            "    (downsample): Sequential(\n",
            "      (0): Conv2d(128, 256, kernel_size=(1, 1), stride=(1, 1))\n",
            "      (1): BatchNorm2d(256, eps=1e-05, momentum=0.1, affine=True, track_running_stats=True)\n",
            "    )\n",
            "    (block): Sequential(\n",
            "      (0): Conv2d(128, 256, kernel_size=(3, 3), stride=(1, 1), padding=(1, 1))\n",
            "      (1): BatchNorm2d(256, eps=1e-05, momentum=0.1, affine=True, track_running_stats=True)\n",
            "      (2): ReLU()\n",
            "      (3): Conv2d(256, 256, kernel_size=(3, 3), stride=(1, 1), padding=(1, 1))\n",
            "      (4): BatchNorm2d(256, eps=1e-05, momentum=0.1, affine=True, track_running_stats=True)\n",
            "    )\n",
            "    (relu): ReLU()\n",
            "  )\n",
            "  (avg_pool): AvgPool2d(kernel_size=2, stride=2, padding=0)\n",
            "  (fc1): Linear(in_features=12544, out_features=128, bias=True)\n",
            "  (fc2): Linear(in_features=128, out_features=6, bias=True)\n",
            ")\n"
          ],
          "name": "stdout"
        }
      ]
    },
    {
      "cell_type": "markdown",
      "metadata": {
        "id": "nXqeCtojCJ7R"
      },
      "source": [
        "## MaxNet"
      ]
    },
    {
      "cell_type": "code",
      "metadata": {
        "id": "ZU0Q_s6GCJV6"
      },
      "source": [
        "class Flatten(nn.Module):\n",
        "    def forward(self, input):\n",
        "        return input.view(input.size(0), -1)\n",
        "\n",
        "\n",
        "class ConnectionBlock(nn.Module):\n",
        "    def __init__(self, in_c, out_c, stride):\n",
        "        super().__init__()\n",
        "\n",
        "        self.pathA = nn.Sequential(\n",
        "            nn.Conv2d(\n",
        "                in_channels=in_c,\n",
        "                out_channels=out_c,\n",
        "                kernel_size=3,\n",
        "                stride=stride,\n",
        "                padding=1),\n",
        "            nn.Dropout2d(config['dropout']),\n",
        "            nn.BatchNorm2d(num_features=out_c),\n",
        "            nn.ReLU(),\n",
        "            nn.Conv2d(\n",
        "                in_channels=out_c,\n",
        "                out_channels=out_c,\n",
        "                kernel_size=3,\n",
        "                stride=1,\n",
        "                padding=1),\n",
        "            nn.Dropout2d(config['dropout']),\n",
        "            nn.BatchNorm2d(num_features=out_c),\n",
        "            nn.ReLU())\n",
        "\n",
        "        self.pathB = nn.Sequential(\n",
        "            nn.Conv2d(\n",
        "                in_channels=in_c,\n",
        "                out_channels=out_c,\n",
        "                kernel_size=5,\n",
        "                stride=stride,\n",
        "                padding=2),\n",
        "            nn.Dropout2d(config['dropout']),\n",
        "            nn.BatchNorm2d(num_features=out_c),\n",
        "            nn.ReLU(),\n",
        "            nn.Conv2d(\n",
        "                in_channels=out_c,\n",
        "                out_channels=out_c,\n",
        "                kernel_size=5,\n",
        "                stride=1,\n",
        "                padding=2),\n",
        "            nn.Dropout2d(config['dropout']),\n",
        "            nn.BatchNorm2d(num_features=out_c),\n",
        "            nn.ReLU())\n",
        "\n",
        "        self.pathC = nn.Sequential(\n",
        "            nn.Conv2d(\n",
        "                in_channels=in_c,\n",
        "                out_channels=out_c,\n",
        "                kernel_size=9,\n",
        "                stride=stride,\n",
        "                padding=4),\n",
        "            nn.Dropout2d(config['dropout']),\n",
        "            nn.BatchNorm2d(num_features=out_c),\n",
        "            nn.ReLU(),\n",
        "            nn.Conv2d(\n",
        "                in_channels=out_c,\n",
        "                out_channels=out_c,\n",
        "                kernel_size=9,\n",
        "                stride=1,\n",
        "                padding=4),\n",
        "            nn.Dropout2d(config['dropout']),\n",
        "            nn.BatchNorm2d(num_features=out_c),\n",
        "            nn.ReLU())\n",
        "\n",
        "        self.pathSkip = nn.Sequential(\n",
        "            nn.Conv2d(\n",
        "                in_channels=in_c,\n",
        "                out_channels=out_c,\n",
        "                kernel_size=1,\n",
        "                stride=stride),\n",
        "            nn.Dropout2d(config['dropout']),\n",
        "            nn.BatchNorm2d(num_features=out_c))\n",
        "\n",
        "    def forward(self, x):\n",
        "        return self.pathA(x) + self.pathB(x) + self.pathC(x) + self.pathSkip(x)\n",
        "\n",
        "\n",
        "class MaxNet(nn.Module):\n",
        "    def __init__(self, out_classes=len(lb.classes_), input_shape=(1, 224, 224)):\n",
        "        super().__init__()\n",
        "        self.net = nn.Sequential(\n",
        "            nn.Conv2d(in_channels=1, out_channels=64, kernel_size=7, stride=2),\n",
        "            nn.BatchNorm2d(num_features=64),\n",
        "            nn.ReLU(),\n",
        "            nn.MaxPool2d(kernel_size=3, stride=2),\n",
        "            ConnectionBlock(in_c=64, out_c=64, stride=1),\n",
        "            ConnectionBlock(in_c=64, out_c=128, stride=2),\n",
        "            ConnectionBlock(in_c=128, out_c=256, stride=2),\n",
        "            ConnectionBlock(in_c=256, out_c=512, stride=2),\n",
        "            nn.AvgPool2d(kernel_size=(2, 2)),\n",
        "            Flatten(),\n",
        "            nn.Linear(in_features=4608, out_features=config['fc_layer_size']),\n",
        "            nn.ReLU(),\n",
        "            nn.Dropout(config['dropout']),\n",
        "            nn.Linear(in_features=config['fc_layer_size'], out_features=config['fc_layer_size']),\n",
        "            nn.ReLU(),\n",
        "            nn.Linear(in_features=config['fc_layer_size'], out_features=out_classes),\n",
        "            #nn.Sigmoid()\n",
        "            )\n",
        "\n",
        "    def forward(self, x):\n",
        "      return self.net(x)"
      ],
      "execution_count": null,
      "outputs": []
    },
    {
      "cell_type": "code",
      "metadata": {
        "colab": {
          "base_uri": "https://localhost:8080/"
        },
        "id": "9tLRLdflCeSB",
        "outputId": "d6c7049a-a85e-415e-cbfa-ab0d51e53c84"
      },
      "source": [
        "maxnet = MaxNet()\n",
        "maxnet = maxnet.to(runtime)\n",
        "\n",
        "print(maxnet)"
      ],
      "execution_count": null,
      "outputs": [
        {
          "output_type": "stream",
          "text": [
            "MaxNet(\n",
            "  (net): Sequential(\n",
            "    (0): Conv2d(1, 64, kernel_size=(7, 7), stride=(2, 2))\n",
            "    (1): BatchNorm2d(64, eps=1e-05, momentum=0.1, affine=True, track_running_stats=True)\n",
            "    (2): ReLU()\n",
            "    (3): MaxPool2d(kernel_size=3, stride=2, padding=0, dilation=1, ceil_mode=False)\n",
            "    (4): ConnectionBlock(\n",
            "      (pathA): Sequential(\n",
            "        (0): Conv2d(64, 64, kernel_size=(3, 3), stride=(1, 1), padding=(1, 1))\n",
            "        (1): Dropout2d(p=0.5, inplace=False)\n",
            "        (2): BatchNorm2d(64, eps=1e-05, momentum=0.1, affine=True, track_running_stats=True)\n",
            "        (3): ReLU()\n",
            "        (4): Conv2d(64, 64, kernel_size=(3, 3), stride=(1, 1), padding=(1, 1))\n",
            "        (5): Dropout2d(p=0.5, inplace=False)\n",
            "        (6): BatchNorm2d(64, eps=1e-05, momentum=0.1, affine=True, track_running_stats=True)\n",
            "        (7): ReLU()\n",
            "      )\n",
            "      (pathB): Sequential(\n",
            "        (0): Conv2d(64, 64, kernel_size=(5, 5), stride=(1, 1), padding=(2, 2))\n",
            "        (1): Dropout2d(p=0.5, inplace=False)\n",
            "        (2): BatchNorm2d(64, eps=1e-05, momentum=0.1, affine=True, track_running_stats=True)\n",
            "        (3): ReLU()\n",
            "        (4): Conv2d(64, 64, kernel_size=(5, 5), stride=(1, 1), padding=(2, 2))\n",
            "        (5): Dropout2d(p=0.5, inplace=False)\n",
            "        (6): BatchNorm2d(64, eps=1e-05, momentum=0.1, affine=True, track_running_stats=True)\n",
            "        (7): ReLU()\n",
            "      )\n",
            "      (pathC): Sequential(\n",
            "        (0): Conv2d(64, 64, kernel_size=(9, 9), stride=(1, 1), padding=(4, 4))\n",
            "        (1): Dropout2d(p=0.5, inplace=False)\n",
            "        (2): BatchNorm2d(64, eps=1e-05, momentum=0.1, affine=True, track_running_stats=True)\n",
            "        (3): ReLU()\n",
            "        (4): Conv2d(64, 64, kernel_size=(9, 9), stride=(1, 1), padding=(4, 4))\n",
            "        (5): Dropout2d(p=0.5, inplace=False)\n",
            "        (6): BatchNorm2d(64, eps=1e-05, momentum=0.1, affine=True, track_running_stats=True)\n",
            "        (7): ReLU()\n",
            "      )\n",
            "      (pathSkip): Sequential(\n",
            "        (0): Conv2d(64, 64, kernel_size=(1, 1), stride=(1, 1))\n",
            "        (1): Dropout2d(p=0.5, inplace=False)\n",
            "        (2): BatchNorm2d(64, eps=1e-05, momentum=0.1, affine=True, track_running_stats=True)\n",
            "      )\n",
            "    )\n",
            "    (5): ConnectionBlock(\n",
            "      (pathA): Sequential(\n",
            "        (0): Conv2d(64, 128, kernel_size=(3, 3), stride=(2, 2), padding=(1, 1))\n",
            "        (1): Dropout2d(p=0.5, inplace=False)\n",
            "        (2): BatchNorm2d(128, eps=1e-05, momentum=0.1, affine=True, track_running_stats=True)\n",
            "        (3): ReLU()\n",
            "        (4): Conv2d(128, 128, kernel_size=(3, 3), stride=(1, 1), padding=(1, 1))\n",
            "        (5): Dropout2d(p=0.5, inplace=False)\n",
            "        (6): BatchNorm2d(128, eps=1e-05, momentum=0.1, affine=True, track_running_stats=True)\n",
            "        (7): ReLU()\n",
            "      )\n",
            "      (pathB): Sequential(\n",
            "        (0): Conv2d(64, 128, kernel_size=(5, 5), stride=(2, 2), padding=(2, 2))\n",
            "        (1): Dropout2d(p=0.5, inplace=False)\n",
            "        (2): BatchNorm2d(128, eps=1e-05, momentum=0.1, affine=True, track_running_stats=True)\n",
            "        (3): ReLU()\n",
            "        (4): Conv2d(128, 128, kernel_size=(5, 5), stride=(1, 1), padding=(2, 2))\n",
            "        (5): Dropout2d(p=0.5, inplace=False)\n",
            "        (6): BatchNorm2d(128, eps=1e-05, momentum=0.1, affine=True, track_running_stats=True)\n",
            "        (7): ReLU()\n",
            "      )\n",
            "      (pathC): Sequential(\n",
            "        (0): Conv2d(64, 128, kernel_size=(9, 9), stride=(2, 2), padding=(4, 4))\n",
            "        (1): Dropout2d(p=0.5, inplace=False)\n",
            "        (2): BatchNorm2d(128, eps=1e-05, momentum=0.1, affine=True, track_running_stats=True)\n",
            "        (3): ReLU()\n",
            "        (4): Conv2d(128, 128, kernel_size=(9, 9), stride=(1, 1), padding=(4, 4))\n",
            "        (5): Dropout2d(p=0.5, inplace=False)\n",
            "        (6): BatchNorm2d(128, eps=1e-05, momentum=0.1, affine=True, track_running_stats=True)\n",
            "        (7): ReLU()\n",
            "      )\n",
            "      (pathSkip): Sequential(\n",
            "        (0): Conv2d(64, 128, kernel_size=(1, 1), stride=(2, 2))\n",
            "        (1): Dropout2d(p=0.5, inplace=False)\n",
            "        (2): BatchNorm2d(128, eps=1e-05, momentum=0.1, affine=True, track_running_stats=True)\n",
            "      )\n",
            "    )\n",
            "    (6): ConnectionBlock(\n",
            "      (pathA): Sequential(\n",
            "        (0): Conv2d(128, 256, kernel_size=(3, 3), stride=(2, 2), padding=(1, 1))\n",
            "        (1): Dropout2d(p=0.5, inplace=False)\n",
            "        (2): BatchNorm2d(256, eps=1e-05, momentum=0.1, affine=True, track_running_stats=True)\n",
            "        (3): ReLU()\n",
            "        (4): Conv2d(256, 256, kernel_size=(3, 3), stride=(1, 1), padding=(1, 1))\n",
            "        (5): Dropout2d(p=0.5, inplace=False)\n",
            "        (6): BatchNorm2d(256, eps=1e-05, momentum=0.1, affine=True, track_running_stats=True)\n",
            "        (7): ReLU()\n",
            "      )\n",
            "      (pathB): Sequential(\n",
            "        (0): Conv2d(128, 256, kernel_size=(5, 5), stride=(2, 2), padding=(2, 2))\n",
            "        (1): Dropout2d(p=0.5, inplace=False)\n",
            "        (2): BatchNorm2d(256, eps=1e-05, momentum=0.1, affine=True, track_running_stats=True)\n",
            "        (3): ReLU()\n",
            "        (4): Conv2d(256, 256, kernel_size=(5, 5), stride=(1, 1), padding=(2, 2))\n",
            "        (5): Dropout2d(p=0.5, inplace=False)\n",
            "        (6): BatchNorm2d(256, eps=1e-05, momentum=0.1, affine=True, track_running_stats=True)\n",
            "        (7): ReLU()\n",
            "      )\n",
            "      (pathC): Sequential(\n",
            "        (0): Conv2d(128, 256, kernel_size=(9, 9), stride=(2, 2), padding=(4, 4))\n",
            "        (1): Dropout2d(p=0.5, inplace=False)\n",
            "        (2): BatchNorm2d(256, eps=1e-05, momentum=0.1, affine=True, track_running_stats=True)\n",
            "        (3): ReLU()\n",
            "        (4): Conv2d(256, 256, kernel_size=(9, 9), stride=(1, 1), padding=(4, 4))\n",
            "        (5): Dropout2d(p=0.5, inplace=False)\n",
            "        (6): BatchNorm2d(256, eps=1e-05, momentum=0.1, affine=True, track_running_stats=True)\n",
            "        (7): ReLU()\n",
            "      )\n",
            "      (pathSkip): Sequential(\n",
            "        (0): Conv2d(128, 256, kernel_size=(1, 1), stride=(2, 2))\n",
            "        (1): Dropout2d(p=0.5, inplace=False)\n",
            "        (2): BatchNorm2d(256, eps=1e-05, momentum=0.1, affine=True, track_running_stats=True)\n",
            "      )\n",
            "    )\n",
            "    (7): ConnectionBlock(\n",
            "      (pathA): Sequential(\n",
            "        (0): Conv2d(256, 512, kernel_size=(3, 3), stride=(2, 2), padding=(1, 1))\n",
            "        (1): Dropout2d(p=0.5, inplace=False)\n",
            "        (2): BatchNorm2d(512, eps=1e-05, momentum=0.1, affine=True, track_running_stats=True)\n",
            "        (3): ReLU()\n",
            "        (4): Conv2d(512, 512, kernel_size=(3, 3), stride=(1, 1), padding=(1, 1))\n",
            "        (5): Dropout2d(p=0.5, inplace=False)\n",
            "        (6): BatchNorm2d(512, eps=1e-05, momentum=0.1, affine=True, track_running_stats=True)\n",
            "        (7): ReLU()\n",
            "      )\n",
            "      (pathB): Sequential(\n",
            "        (0): Conv2d(256, 512, kernel_size=(5, 5), stride=(2, 2), padding=(2, 2))\n",
            "        (1): Dropout2d(p=0.5, inplace=False)\n",
            "        (2): BatchNorm2d(512, eps=1e-05, momentum=0.1, affine=True, track_running_stats=True)\n",
            "        (3): ReLU()\n",
            "        (4): Conv2d(512, 512, kernel_size=(5, 5), stride=(1, 1), padding=(2, 2))\n",
            "        (5): Dropout2d(p=0.5, inplace=False)\n",
            "        (6): BatchNorm2d(512, eps=1e-05, momentum=0.1, affine=True, track_running_stats=True)\n",
            "        (7): ReLU()\n",
            "      )\n",
            "      (pathC): Sequential(\n",
            "        (0): Conv2d(256, 512, kernel_size=(9, 9), stride=(2, 2), padding=(4, 4))\n",
            "        (1): Dropout2d(p=0.5, inplace=False)\n",
            "        (2): BatchNorm2d(512, eps=1e-05, momentum=0.1, affine=True, track_running_stats=True)\n",
            "        (3): ReLU()\n",
            "        (4): Conv2d(512, 512, kernel_size=(9, 9), stride=(1, 1), padding=(4, 4))\n",
            "        (5): Dropout2d(p=0.5, inplace=False)\n",
            "        (6): BatchNorm2d(512, eps=1e-05, momentum=0.1, affine=True, track_running_stats=True)\n",
            "        (7): ReLU()\n",
            "      )\n",
            "      (pathSkip): Sequential(\n",
            "        (0): Conv2d(256, 512, kernel_size=(1, 1), stride=(2, 2))\n",
            "        (1): Dropout2d(p=0.5, inplace=False)\n",
            "        (2): BatchNorm2d(512, eps=1e-05, momentum=0.1, affine=True, track_running_stats=True)\n",
            "      )\n",
            "    )\n",
            "    (8): AvgPool2d(kernel_size=(2, 2), stride=(2, 2), padding=0)\n",
            "    (9): Flatten()\n",
            "    (10): Linear(in_features=4608, out_features=128, bias=True)\n",
            "    (11): ReLU()\n",
            "    (12): Dropout(p=0.5, inplace=False)\n",
            "    (13): Linear(in_features=128, out_features=128, bias=True)\n",
            "    (14): ReLU()\n",
            "    (15): Linear(in_features=128, out_features=6, bias=True)\n",
            "  )\n",
            ")\n"
          ],
          "name": "stdout"
        }
      ]
    },
    {
      "cell_type": "markdown",
      "metadata": {
        "id": "VIwqSHsTMKSo"
      },
      "source": [
        "## ResNet"
      ]
    },
    {
      "cell_type": "code",
      "metadata": {
        "id": "W-fbO2VhNDIJ"
      },
      "source": [
        "from torchvision import models"
      ],
      "execution_count": null,
      "outputs": []
    },
    {
      "cell_type": "code",
      "metadata": {
        "id": "h7CrGJGbWVSx",
        "colab": {
          "base_uri": "https://localhost:8080/",
          "referenced_widgets": [
            "f8df8a5eeaf7422387f3c795eb664710",
            "927f40351e76476f8e1d124ff9ad2d85",
            "e2ccee8639ae4c3b88a4e461bb041182",
            "a20c9dfd31644c90a4b80b7f3d9c1274",
            "f6a6a4a114ba4d4d85415321b325062b",
            "e248c53419ba45b88f03bb9349e4f568",
            "92d37e521cf747f683c85d83d4e0c88a",
            "cd55ff5352d647d79c3bc5c4884abae9",
            "668ca4e88e454ed881cfd64eea42f4c5",
            "b04ae79e05ec402a8fa17349c695b645",
            "72157b1b5d4049e195362a54e9d2b3b9"
          ]
        },
        "outputId": "80dd784b-800c-4e86-9f2d-28eb0ac7e21c"
      },
      "source": [
        "resnet18 = models.resnet18(pretrained=True)  \n",
        "for param in resnet18.parameters():\n",
        "  param.requires_grad=False # freezes the layers to only fine-tune the last one\n",
        "\n",
        "print(resnet18)"
      ],
      "execution_count": null,
      "outputs": [
        {
          "output_type": "stream",
          "text": [
            "Downloading: \"https://download.pytorch.org/models/resnet18-f37072fd.pth\" to /root/.cache/torch/hub/checkpoints/resnet18-f37072fd.pth\n"
          ],
          "name": "stderr"
        },
        {
          "output_type": "display_data",
          "data": {
            "application/vnd.jupyter.widget-view+json": {
              "model_id": "f8df8a5eeaf7422387f3c795eb664710",
              "version_minor": 0,
              "version_major": 2
            },
            "text/plain": [
              "  0%|          | 0.00/44.7M [00:00<?, ?B/s]"
            ]
          },
          "metadata": {}
        },
        {
          "output_type": "stream",
          "text": [
            "ResNet(\n",
            "  (conv1): Conv2d(3, 64, kernel_size=(7, 7), stride=(2, 2), padding=(3, 3), bias=False)\n",
            "  (bn1): BatchNorm2d(64, eps=1e-05, momentum=0.1, affine=True, track_running_stats=True)\n",
            "  (relu): ReLU(inplace=True)\n",
            "  (maxpool): MaxPool2d(kernel_size=3, stride=2, padding=1, dilation=1, ceil_mode=False)\n",
            "  (layer1): Sequential(\n",
            "    (0): BasicBlock(\n",
            "      (conv1): Conv2d(64, 64, kernel_size=(3, 3), stride=(1, 1), padding=(1, 1), bias=False)\n",
            "      (bn1): BatchNorm2d(64, eps=1e-05, momentum=0.1, affine=True, track_running_stats=True)\n",
            "      (relu): ReLU(inplace=True)\n",
            "      (conv2): Conv2d(64, 64, kernel_size=(3, 3), stride=(1, 1), padding=(1, 1), bias=False)\n",
            "      (bn2): BatchNorm2d(64, eps=1e-05, momentum=0.1, affine=True, track_running_stats=True)\n",
            "    )\n",
            "    (1): BasicBlock(\n",
            "      (conv1): Conv2d(64, 64, kernel_size=(3, 3), stride=(1, 1), padding=(1, 1), bias=False)\n",
            "      (bn1): BatchNorm2d(64, eps=1e-05, momentum=0.1, affine=True, track_running_stats=True)\n",
            "      (relu): ReLU(inplace=True)\n",
            "      (conv2): Conv2d(64, 64, kernel_size=(3, 3), stride=(1, 1), padding=(1, 1), bias=False)\n",
            "      (bn2): BatchNorm2d(64, eps=1e-05, momentum=0.1, affine=True, track_running_stats=True)\n",
            "    )\n",
            "  )\n",
            "  (layer2): Sequential(\n",
            "    (0): BasicBlock(\n",
            "      (conv1): Conv2d(64, 128, kernel_size=(3, 3), stride=(2, 2), padding=(1, 1), bias=False)\n",
            "      (bn1): BatchNorm2d(128, eps=1e-05, momentum=0.1, affine=True, track_running_stats=True)\n",
            "      (relu): ReLU(inplace=True)\n",
            "      (conv2): Conv2d(128, 128, kernel_size=(3, 3), stride=(1, 1), padding=(1, 1), bias=False)\n",
            "      (bn2): BatchNorm2d(128, eps=1e-05, momentum=0.1, affine=True, track_running_stats=True)\n",
            "      (downsample): Sequential(\n",
            "        (0): Conv2d(64, 128, kernel_size=(1, 1), stride=(2, 2), bias=False)\n",
            "        (1): BatchNorm2d(128, eps=1e-05, momentum=0.1, affine=True, track_running_stats=True)\n",
            "      )\n",
            "    )\n",
            "    (1): BasicBlock(\n",
            "      (conv1): Conv2d(128, 128, kernel_size=(3, 3), stride=(1, 1), padding=(1, 1), bias=False)\n",
            "      (bn1): BatchNorm2d(128, eps=1e-05, momentum=0.1, affine=True, track_running_stats=True)\n",
            "      (relu): ReLU(inplace=True)\n",
            "      (conv2): Conv2d(128, 128, kernel_size=(3, 3), stride=(1, 1), padding=(1, 1), bias=False)\n",
            "      (bn2): BatchNorm2d(128, eps=1e-05, momentum=0.1, affine=True, track_running_stats=True)\n",
            "    )\n",
            "  )\n",
            "  (layer3): Sequential(\n",
            "    (0): BasicBlock(\n",
            "      (conv1): Conv2d(128, 256, kernel_size=(3, 3), stride=(2, 2), padding=(1, 1), bias=False)\n",
            "      (bn1): BatchNorm2d(256, eps=1e-05, momentum=0.1, affine=True, track_running_stats=True)\n",
            "      (relu): ReLU(inplace=True)\n",
            "      (conv2): Conv2d(256, 256, kernel_size=(3, 3), stride=(1, 1), padding=(1, 1), bias=False)\n",
            "      (bn2): BatchNorm2d(256, eps=1e-05, momentum=0.1, affine=True, track_running_stats=True)\n",
            "      (downsample): Sequential(\n",
            "        (0): Conv2d(128, 256, kernel_size=(1, 1), stride=(2, 2), bias=False)\n",
            "        (1): BatchNorm2d(256, eps=1e-05, momentum=0.1, affine=True, track_running_stats=True)\n",
            "      )\n",
            "    )\n",
            "    (1): BasicBlock(\n",
            "      (conv1): Conv2d(256, 256, kernel_size=(3, 3), stride=(1, 1), padding=(1, 1), bias=False)\n",
            "      (bn1): BatchNorm2d(256, eps=1e-05, momentum=0.1, affine=True, track_running_stats=True)\n",
            "      (relu): ReLU(inplace=True)\n",
            "      (conv2): Conv2d(256, 256, kernel_size=(3, 3), stride=(1, 1), padding=(1, 1), bias=False)\n",
            "      (bn2): BatchNorm2d(256, eps=1e-05, momentum=0.1, affine=True, track_running_stats=True)\n",
            "    )\n",
            "  )\n",
            "  (layer4): Sequential(\n",
            "    (0): BasicBlock(\n",
            "      (conv1): Conv2d(256, 512, kernel_size=(3, 3), stride=(2, 2), padding=(1, 1), bias=False)\n",
            "      (bn1): BatchNorm2d(512, eps=1e-05, momentum=0.1, affine=True, track_running_stats=True)\n",
            "      (relu): ReLU(inplace=True)\n",
            "      (conv2): Conv2d(512, 512, kernel_size=(3, 3), stride=(1, 1), padding=(1, 1), bias=False)\n",
            "      (bn2): BatchNorm2d(512, eps=1e-05, momentum=0.1, affine=True, track_running_stats=True)\n",
            "      (downsample): Sequential(\n",
            "        (0): Conv2d(256, 512, kernel_size=(1, 1), stride=(2, 2), bias=False)\n",
            "        (1): BatchNorm2d(512, eps=1e-05, momentum=0.1, affine=True, track_running_stats=True)\n",
            "      )\n",
            "    )\n",
            "    (1): BasicBlock(\n",
            "      (conv1): Conv2d(512, 512, kernel_size=(3, 3), stride=(1, 1), padding=(1, 1), bias=False)\n",
            "      (bn1): BatchNorm2d(512, eps=1e-05, momentum=0.1, affine=True, track_running_stats=True)\n",
            "      (relu): ReLU(inplace=True)\n",
            "      (conv2): Conv2d(512, 512, kernel_size=(3, 3), stride=(1, 1), padding=(1, 1), bias=False)\n",
            "      (bn2): BatchNorm2d(512, eps=1e-05, momentum=0.1, affine=True, track_running_stats=True)\n",
            "    )\n",
            "  )\n",
            "  (avgpool): AdaptiveAvgPool2d(output_size=(1, 1))\n",
            "  (fc): Linear(in_features=512, out_features=1000, bias=True)\n",
            ")\n"
          ],
          "name": "stdout"
        }
      ]
    },
    {
      "cell_type": "markdown",
      "metadata": {
        "id": "_J88gzUWMMIn"
      },
      "source": [
        "## VGG"
      ]
    },
    {
      "cell_type": "markdown",
      "metadata": {
        "id": "paQQGO8DWRBK"
      },
      "source": [
        "Also try VGG16 without batch norm"
      ]
    },
    {
      "cell_type": "code",
      "metadata": {
        "id": "ngO0J3gJMIzo",
        "colab": {
          "base_uri": "https://localhost:8080/",
          "referenced_widgets": [
            "0ba5dfc420f34fe1a655a81b26ae80ac",
            "a21fe023d4bc470f964ad7c9327203c0",
            "43dca1d01f4c4c76a4434cf22be8f6fe",
            "c145001c104e434792b5d996297cc63a",
            "e565ac87b597457e85e420c78bc2accc",
            "515185b383bf4208bf23eea87178dc20",
            "532104c47a304819850ae867c4a1fb9a",
            "2cace3eca61f407186504d0fb2ba32cb",
            "fdc33d3f4a5f47beb3924d1f737552a1",
            "27659a4f7a65441b8edbf993628452d8",
            "87f812a36d9648fcb0bb11afbb45966a"
          ]
        },
        "outputId": "4475564f-24a7-4095-a465-d572b5089445"
      },
      "source": [
        "vgg16 = models.vgg16_bn(pretrained=True)\n",
        "for param in vgg16.features.parameters():\n",
        "  param.requires_grad=False # freezes the layers to only fine-tune the last one\n",
        "\n",
        "print(vgg16)"
      ],
      "execution_count": null,
      "outputs": [
        {
          "output_type": "stream",
          "text": [
            "Downloading: \"https://download.pytorch.org/models/vgg16_bn-6c64b313.pth\" to /root/.cache/torch/hub/checkpoints/vgg16_bn-6c64b313.pth\n"
          ],
          "name": "stderr"
        },
        {
          "output_type": "display_data",
          "data": {
            "application/vnd.jupyter.widget-view+json": {
              "model_id": "0ba5dfc420f34fe1a655a81b26ae80ac",
              "version_minor": 0,
              "version_major": 2
            },
            "text/plain": [
              "  0%|          | 0.00/528M [00:00<?, ?B/s]"
            ]
          },
          "metadata": {}
        },
        {
          "output_type": "stream",
          "text": [
            "VGG(\n",
            "  (features): Sequential(\n",
            "    (0): Conv2d(3, 64, kernel_size=(3, 3), stride=(1, 1), padding=(1, 1))\n",
            "    (1): BatchNorm2d(64, eps=1e-05, momentum=0.1, affine=True, track_running_stats=True)\n",
            "    (2): ReLU(inplace=True)\n",
            "    (3): Conv2d(64, 64, kernel_size=(3, 3), stride=(1, 1), padding=(1, 1))\n",
            "    (4): BatchNorm2d(64, eps=1e-05, momentum=0.1, affine=True, track_running_stats=True)\n",
            "    (5): ReLU(inplace=True)\n",
            "    (6): MaxPool2d(kernel_size=2, stride=2, padding=0, dilation=1, ceil_mode=False)\n",
            "    (7): Conv2d(64, 128, kernel_size=(3, 3), stride=(1, 1), padding=(1, 1))\n",
            "    (8): BatchNorm2d(128, eps=1e-05, momentum=0.1, affine=True, track_running_stats=True)\n",
            "    (9): ReLU(inplace=True)\n",
            "    (10): Conv2d(128, 128, kernel_size=(3, 3), stride=(1, 1), padding=(1, 1))\n",
            "    (11): BatchNorm2d(128, eps=1e-05, momentum=0.1, affine=True, track_running_stats=True)\n",
            "    (12): ReLU(inplace=True)\n",
            "    (13): MaxPool2d(kernel_size=2, stride=2, padding=0, dilation=1, ceil_mode=False)\n",
            "    (14): Conv2d(128, 256, kernel_size=(3, 3), stride=(1, 1), padding=(1, 1))\n",
            "    (15): BatchNorm2d(256, eps=1e-05, momentum=0.1, affine=True, track_running_stats=True)\n",
            "    (16): ReLU(inplace=True)\n",
            "    (17): Conv2d(256, 256, kernel_size=(3, 3), stride=(1, 1), padding=(1, 1))\n",
            "    (18): BatchNorm2d(256, eps=1e-05, momentum=0.1, affine=True, track_running_stats=True)\n",
            "    (19): ReLU(inplace=True)\n",
            "    (20): Conv2d(256, 256, kernel_size=(3, 3), stride=(1, 1), padding=(1, 1))\n",
            "    (21): BatchNorm2d(256, eps=1e-05, momentum=0.1, affine=True, track_running_stats=True)\n",
            "    (22): ReLU(inplace=True)\n",
            "    (23): MaxPool2d(kernel_size=2, stride=2, padding=0, dilation=1, ceil_mode=False)\n",
            "    (24): Conv2d(256, 512, kernel_size=(3, 3), stride=(1, 1), padding=(1, 1))\n",
            "    (25): BatchNorm2d(512, eps=1e-05, momentum=0.1, affine=True, track_running_stats=True)\n",
            "    (26): ReLU(inplace=True)\n",
            "    (27): Conv2d(512, 512, kernel_size=(3, 3), stride=(1, 1), padding=(1, 1))\n",
            "    (28): BatchNorm2d(512, eps=1e-05, momentum=0.1, affine=True, track_running_stats=True)\n",
            "    (29): ReLU(inplace=True)\n",
            "    (30): Conv2d(512, 512, kernel_size=(3, 3), stride=(1, 1), padding=(1, 1))\n",
            "    (31): BatchNorm2d(512, eps=1e-05, momentum=0.1, affine=True, track_running_stats=True)\n",
            "    (32): ReLU(inplace=True)\n",
            "    (33): MaxPool2d(kernel_size=2, stride=2, padding=0, dilation=1, ceil_mode=False)\n",
            "    (34): Conv2d(512, 512, kernel_size=(3, 3), stride=(1, 1), padding=(1, 1))\n",
            "    (35): BatchNorm2d(512, eps=1e-05, momentum=0.1, affine=True, track_running_stats=True)\n",
            "    (36): ReLU(inplace=True)\n",
            "    (37): Conv2d(512, 512, kernel_size=(3, 3), stride=(1, 1), padding=(1, 1))\n",
            "    (38): BatchNorm2d(512, eps=1e-05, momentum=0.1, affine=True, track_running_stats=True)\n",
            "    (39): ReLU(inplace=True)\n",
            "    (40): Conv2d(512, 512, kernel_size=(3, 3), stride=(1, 1), padding=(1, 1))\n",
            "    (41): BatchNorm2d(512, eps=1e-05, momentum=0.1, affine=True, track_running_stats=True)\n",
            "    (42): ReLU(inplace=True)\n",
            "    (43): MaxPool2d(kernel_size=2, stride=2, padding=0, dilation=1, ceil_mode=False)\n",
            "  )\n",
            "  (avgpool): AdaptiveAvgPool2d(output_size=(7, 7))\n",
            "  (classifier): Sequential(\n",
            "    (0): Linear(in_features=25088, out_features=4096, bias=True)\n",
            "    (1): ReLU(inplace=True)\n",
            "    (2): Dropout(p=0.5, inplace=False)\n",
            "    (3): Linear(in_features=4096, out_features=4096, bias=True)\n",
            "    (4): ReLU(inplace=True)\n",
            "    (5): Dropout(p=0.5, inplace=False)\n",
            "    (6): Linear(in_features=4096, out_features=1000, bias=True)\n",
            "  )\n",
            ")\n"
          ],
          "name": "stdout"
        }
      ]
    },
    {
      "cell_type": "markdown",
      "metadata": {
        "id": "zTjBLOixcu2Y"
      },
      "source": [
        "# Model Selection"
      ]
    },
    {
      "cell_type": "code",
      "metadata": {
        "id": "51C8Avb0Su-7",
        "colab": {
          "base_uri": "https://localhost:8080/",
          "height": 49,
          "referenced_widgets": [
            "87c6bb2fe9d6474b8039089a49b29a5b",
            "8a8f8235f1794cc9b5232d63ad39ba89",
            "c7238f6582c441768b0030a12c344fc2"
          ]
        },
        "outputId": "5f57c0bd-7aea-462b-9ea4-bdeeca40f4bd"
      },
      "source": [
        "list_transfer_model = ['ResNet18', 'VGG16']\n",
        "\n",
        "w = widgets.Dropdown(options={'VicNet': vicnet,\n",
        "                              'ResNet18': resnet18, \n",
        "                              'VGG16': vgg16, \n",
        "                              'RegNet': regnet, \n",
        "                              'BaseNet': basenet, \n",
        "                              'MaxNet': maxnet})\n",
        "display(w)"
      ],
      "execution_count": null,
      "outputs": [
        {
          "output_type": "display_data",
          "data": {
            "application/vnd.jupyter.widget-view+json": {
              "model_id": "87c6bb2fe9d6474b8039089a49b29a5b",
              "version_minor": 0,
              "version_major": 2
            },
            "text/plain": [
              "Dropdown(options={'VicNet': VicNet(\n",
              "  (conv1): Conv2d(1, 16, kernel_size=(3, 3), stride=(1, 1))\n",
              "  (conv2): Con…"
            ]
          },
          "metadata": {}
        }
      ]
    },
    {
      "cell_type": "code",
      "metadata": {
        "id": "Qb7nQo7zS_Bs",
        "colab": {
          "base_uri": "https://localhost:8080/"
        },
        "outputId": "c226cb43-6718-4285-9eee-a10d7aa41e10"
      },
      "source": [
        "print(f'Selected Net: {w.label}')\n",
        "w.value"
      ],
      "execution_count": null,
      "outputs": [
        {
          "output_type": "stream",
          "text": [
            "Selected Net: MaxNet\n"
          ],
          "name": "stdout"
        },
        {
          "output_type": "execute_result",
          "data": {
            "text/plain": [
              "MaxNet(\n",
              "  (net): Sequential(\n",
              "    (0): Conv2d(1, 64, kernel_size=(7, 7), stride=(2, 2))\n",
              "    (1): BatchNorm2d(64, eps=1e-05, momentum=0.1, affine=True, track_running_stats=True)\n",
              "    (2): ReLU()\n",
              "    (3): MaxPool2d(kernel_size=3, stride=2, padding=0, dilation=1, ceil_mode=False)\n",
              "    (4): ConnectionBlock(\n",
              "      (pathA): Sequential(\n",
              "        (0): Conv2d(64, 64, kernel_size=(3, 3), stride=(1, 1), padding=(1, 1))\n",
              "        (1): Dropout2d(p=0.5, inplace=False)\n",
              "        (2): BatchNorm2d(64, eps=1e-05, momentum=0.1, affine=True, track_running_stats=True)\n",
              "        (3): ReLU()\n",
              "        (4): Conv2d(64, 64, kernel_size=(3, 3), stride=(1, 1), padding=(1, 1))\n",
              "        (5): Dropout2d(p=0.5, inplace=False)\n",
              "        (6): BatchNorm2d(64, eps=1e-05, momentum=0.1, affine=True, track_running_stats=True)\n",
              "        (7): ReLU()\n",
              "      )\n",
              "      (pathB): Sequential(\n",
              "        (0): Conv2d(64, 64, kernel_size=(5, 5), stride=(1, 1), padding=(2, 2))\n",
              "        (1): Dropout2d(p=0.5, inplace=False)\n",
              "        (2): BatchNorm2d(64, eps=1e-05, momentum=0.1, affine=True, track_running_stats=True)\n",
              "        (3): ReLU()\n",
              "        (4): Conv2d(64, 64, kernel_size=(5, 5), stride=(1, 1), padding=(2, 2))\n",
              "        (5): Dropout2d(p=0.5, inplace=False)\n",
              "        (6): BatchNorm2d(64, eps=1e-05, momentum=0.1, affine=True, track_running_stats=True)\n",
              "        (7): ReLU()\n",
              "      )\n",
              "      (pathC): Sequential(\n",
              "        (0): Conv2d(64, 64, kernel_size=(9, 9), stride=(1, 1), padding=(4, 4))\n",
              "        (1): Dropout2d(p=0.5, inplace=False)\n",
              "        (2): BatchNorm2d(64, eps=1e-05, momentum=0.1, affine=True, track_running_stats=True)\n",
              "        (3): ReLU()\n",
              "        (4): Conv2d(64, 64, kernel_size=(9, 9), stride=(1, 1), padding=(4, 4))\n",
              "        (5): Dropout2d(p=0.5, inplace=False)\n",
              "        (6): BatchNorm2d(64, eps=1e-05, momentum=0.1, affine=True, track_running_stats=True)\n",
              "        (7): ReLU()\n",
              "      )\n",
              "      (pathSkip): Sequential(\n",
              "        (0): Conv2d(64, 64, kernel_size=(1, 1), stride=(1, 1))\n",
              "        (1): Dropout2d(p=0.5, inplace=False)\n",
              "        (2): BatchNorm2d(64, eps=1e-05, momentum=0.1, affine=True, track_running_stats=True)\n",
              "      )\n",
              "    )\n",
              "    (5): ConnectionBlock(\n",
              "      (pathA): Sequential(\n",
              "        (0): Conv2d(64, 128, kernel_size=(3, 3), stride=(2, 2), padding=(1, 1))\n",
              "        (1): Dropout2d(p=0.5, inplace=False)\n",
              "        (2): BatchNorm2d(128, eps=1e-05, momentum=0.1, affine=True, track_running_stats=True)\n",
              "        (3): ReLU()\n",
              "        (4): Conv2d(128, 128, kernel_size=(3, 3), stride=(1, 1), padding=(1, 1))\n",
              "        (5): Dropout2d(p=0.5, inplace=False)\n",
              "        (6): BatchNorm2d(128, eps=1e-05, momentum=0.1, affine=True, track_running_stats=True)\n",
              "        (7): ReLU()\n",
              "      )\n",
              "      (pathB): Sequential(\n",
              "        (0): Conv2d(64, 128, kernel_size=(5, 5), stride=(2, 2), padding=(2, 2))\n",
              "        (1): Dropout2d(p=0.5, inplace=False)\n",
              "        (2): BatchNorm2d(128, eps=1e-05, momentum=0.1, affine=True, track_running_stats=True)\n",
              "        (3): ReLU()\n",
              "        (4): Conv2d(128, 128, kernel_size=(5, 5), stride=(1, 1), padding=(2, 2))\n",
              "        (5): Dropout2d(p=0.5, inplace=False)\n",
              "        (6): BatchNorm2d(128, eps=1e-05, momentum=0.1, affine=True, track_running_stats=True)\n",
              "        (7): ReLU()\n",
              "      )\n",
              "      (pathC): Sequential(\n",
              "        (0): Conv2d(64, 128, kernel_size=(9, 9), stride=(2, 2), padding=(4, 4))\n",
              "        (1): Dropout2d(p=0.5, inplace=False)\n",
              "        (2): BatchNorm2d(128, eps=1e-05, momentum=0.1, affine=True, track_running_stats=True)\n",
              "        (3): ReLU()\n",
              "        (4): Conv2d(128, 128, kernel_size=(9, 9), stride=(1, 1), padding=(4, 4))\n",
              "        (5): Dropout2d(p=0.5, inplace=False)\n",
              "        (6): BatchNorm2d(128, eps=1e-05, momentum=0.1, affine=True, track_running_stats=True)\n",
              "        (7): ReLU()\n",
              "      )\n",
              "      (pathSkip): Sequential(\n",
              "        (0): Conv2d(64, 128, kernel_size=(1, 1), stride=(2, 2))\n",
              "        (1): Dropout2d(p=0.5, inplace=False)\n",
              "        (2): BatchNorm2d(128, eps=1e-05, momentum=0.1, affine=True, track_running_stats=True)\n",
              "      )\n",
              "    )\n",
              "    (6): ConnectionBlock(\n",
              "      (pathA): Sequential(\n",
              "        (0): Conv2d(128, 256, kernel_size=(3, 3), stride=(2, 2), padding=(1, 1))\n",
              "        (1): Dropout2d(p=0.5, inplace=False)\n",
              "        (2): BatchNorm2d(256, eps=1e-05, momentum=0.1, affine=True, track_running_stats=True)\n",
              "        (3): ReLU()\n",
              "        (4): Conv2d(256, 256, kernel_size=(3, 3), stride=(1, 1), padding=(1, 1))\n",
              "        (5): Dropout2d(p=0.5, inplace=False)\n",
              "        (6): BatchNorm2d(256, eps=1e-05, momentum=0.1, affine=True, track_running_stats=True)\n",
              "        (7): ReLU()\n",
              "      )\n",
              "      (pathB): Sequential(\n",
              "        (0): Conv2d(128, 256, kernel_size=(5, 5), stride=(2, 2), padding=(2, 2))\n",
              "        (1): Dropout2d(p=0.5, inplace=False)\n",
              "        (2): BatchNorm2d(256, eps=1e-05, momentum=0.1, affine=True, track_running_stats=True)\n",
              "        (3): ReLU()\n",
              "        (4): Conv2d(256, 256, kernel_size=(5, 5), stride=(1, 1), padding=(2, 2))\n",
              "        (5): Dropout2d(p=0.5, inplace=False)\n",
              "        (6): BatchNorm2d(256, eps=1e-05, momentum=0.1, affine=True, track_running_stats=True)\n",
              "        (7): ReLU()\n",
              "      )\n",
              "      (pathC): Sequential(\n",
              "        (0): Conv2d(128, 256, kernel_size=(9, 9), stride=(2, 2), padding=(4, 4))\n",
              "        (1): Dropout2d(p=0.5, inplace=False)\n",
              "        (2): BatchNorm2d(256, eps=1e-05, momentum=0.1, affine=True, track_running_stats=True)\n",
              "        (3): ReLU()\n",
              "        (4): Conv2d(256, 256, kernel_size=(9, 9), stride=(1, 1), padding=(4, 4))\n",
              "        (5): Dropout2d(p=0.5, inplace=False)\n",
              "        (6): BatchNorm2d(256, eps=1e-05, momentum=0.1, affine=True, track_running_stats=True)\n",
              "        (7): ReLU()\n",
              "      )\n",
              "      (pathSkip): Sequential(\n",
              "        (0): Conv2d(128, 256, kernel_size=(1, 1), stride=(2, 2))\n",
              "        (1): Dropout2d(p=0.5, inplace=False)\n",
              "        (2): BatchNorm2d(256, eps=1e-05, momentum=0.1, affine=True, track_running_stats=True)\n",
              "      )\n",
              "    )\n",
              "    (7): ConnectionBlock(\n",
              "      (pathA): Sequential(\n",
              "        (0): Conv2d(256, 512, kernel_size=(3, 3), stride=(2, 2), padding=(1, 1))\n",
              "        (1): Dropout2d(p=0.5, inplace=False)\n",
              "        (2): BatchNorm2d(512, eps=1e-05, momentum=0.1, affine=True, track_running_stats=True)\n",
              "        (3): ReLU()\n",
              "        (4): Conv2d(512, 512, kernel_size=(3, 3), stride=(1, 1), padding=(1, 1))\n",
              "        (5): Dropout2d(p=0.5, inplace=False)\n",
              "        (6): BatchNorm2d(512, eps=1e-05, momentum=0.1, affine=True, track_running_stats=True)\n",
              "        (7): ReLU()\n",
              "      )\n",
              "      (pathB): Sequential(\n",
              "        (0): Conv2d(256, 512, kernel_size=(5, 5), stride=(2, 2), padding=(2, 2))\n",
              "        (1): Dropout2d(p=0.5, inplace=False)\n",
              "        (2): BatchNorm2d(512, eps=1e-05, momentum=0.1, affine=True, track_running_stats=True)\n",
              "        (3): ReLU()\n",
              "        (4): Conv2d(512, 512, kernel_size=(5, 5), stride=(1, 1), padding=(2, 2))\n",
              "        (5): Dropout2d(p=0.5, inplace=False)\n",
              "        (6): BatchNorm2d(512, eps=1e-05, momentum=0.1, affine=True, track_running_stats=True)\n",
              "        (7): ReLU()\n",
              "      )\n",
              "      (pathC): Sequential(\n",
              "        (0): Conv2d(256, 512, kernel_size=(9, 9), stride=(2, 2), padding=(4, 4))\n",
              "        (1): Dropout2d(p=0.5, inplace=False)\n",
              "        (2): BatchNorm2d(512, eps=1e-05, momentum=0.1, affine=True, track_running_stats=True)\n",
              "        (3): ReLU()\n",
              "        (4): Conv2d(512, 512, kernel_size=(9, 9), stride=(1, 1), padding=(4, 4))\n",
              "        (5): Dropout2d(p=0.5, inplace=False)\n",
              "        (6): BatchNorm2d(512, eps=1e-05, momentum=0.1, affine=True, track_running_stats=True)\n",
              "        (7): ReLU()\n",
              "      )\n",
              "      (pathSkip): Sequential(\n",
              "        (0): Conv2d(256, 512, kernel_size=(1, 1), stride=(2, 2))\n",
              "        (1): Dropout2d(p=0.5, inplace=False)\n",
              "        (2): BatchNorm2d(512, eps=1e-05, momentum=0.1, affine=True, track_running_stats=True)\n",
              "      )\n",
              "    )\n",
              "    (8): AvgPool2d(kernel_size=(2, 2), stride=(2, 2), padding=0)\n",
              "    (9): Flatten()\n",
              "    (10): Linear(in_features=4608, out_features=128, bias=True)\n",
              "    (11): ReLU()\n",
              "    (12): Dropout(p=0.5, inplace=False)\n",
              "    (13): Linear(in_features=128, out_features=128, bias=True)\n",
              "    (14): ReLU()\n",
              "    (15): Linear(in_features=128, out_features=6, bias=True)\n",
              "  )\n",
              ")"
            ]
          },
          "metadata": {},
          "execution_count": 56
        }
      ]
    },
    {
      "cell_type": "code",
      "metadata": {
        "id": "oQJgEurThsbq"
      },
      "source": [
        "net = w.value"
      ],
      "execution_count": null,
      "outputs": []
    },
    {
      "cell_type": "markdown",
      "metadata": {
        "id": "8OST25CGClRl"
      },
      "source": [
        "# Training"
      ]
    },
    {
      "cell_type": "markdown",
      "metadata": {
        "id": "4eVUz9g-3bKD"
      },
      "source": [
        "To measuse inference time: https://towardsdatascience.com/the-correct-way-to-measure-inference-time-of-deep-neural-networks-304a54e5187f"
      ]
    },
    {
      "cell_type": "code",
      "metadata": {
        "id": "C_92yNmCw0qa"
      },
      "source": [
        "def reset_weights(m):\n",
        "  '''\n",
        "    Try resetting model weights to avoid\n",
        "    weight leakage.\n",
        "  '''\n",
        "  for layer in m.children():\n",
        "   if hasattr(layer, 'reset_parameters'):\n",
        "    print(f'Reset trainable parameters of layer = {layer}')\n",
        "    layer.reset_parameters()"
      ],
      "execution_count": null,
      "outputs": []
    },
    {
      "cell_type": "code",
      "metadata": {
        "id": "sfHC7bqMaku2"
      },
      "source": [
        "def train(config=None):\n",
        "  wandb.init(config=config_defaults)\n",
        "  config = wandb.config\n",
        "\n",
        "  epochs = config.epochs\n",
        "  if w.label in list_transfer_model:\n",
        "    transferlearning = True\n",
        "  else:\n",
        "    transferlearning = False\n",
        "\n",
        "  train_data = WaferDataset(X_train, y_train, model=w.label)\n",
        "  val_data = WaferDataset(X_val, y_val, model=w.label)\n",
        "    \n",
        "  # dataloaders\n",
        "  train_dataloader = DataLoader(train_data, batch_size=config.batch_size, shuffle=True)  # shuffle here instead of in model\n",
        "  val_dataloader = DataLoader(val_data, batch_size=config.batch_size, shuffle=False)\n",
        "\n",
        "  # Init the neural network\n",
        "  if transferlearning:\n",
        "    # Setup / deepcopy transfer learning model based on selected backbone transfer model \n",
        "    net = copy.deepcopy(w.value)\n",
        "    # Add Classifier Layer to backbone transfer model\n",
        "    net.fc = nn.Linear(config.fc_layer_size, len(lb.classes_))\n",
        "    # Model to Cuda\n",
        "    net = net.to(runtime)\n",
        "  else:\n",
        "    net = w.value\n",
        "    net.apply(reset_weights)\n",
        "\n",
        "  print('\\n')\n",
        "\n",
        "  # Define the optimizer\n",
        "  if config.optimizer=='sgd':\n",
        "    optimizer = torch.optim.SGD(net.parameters(), lr=config.learning_rate, momentum=0.9)\n",
        "  elif config.optimizer=='adam':\n",
        "    optimizer = torch.optim.Adam(net.parameters(), lr=config.learning_rate)\n",
        "  elif config.optimizer=='adadelta':\n",
        "    optimizer = torch.optim.Adadelta(net.parameters(), lr=config.learning_rate, rho=0.9, eps=1e-06, weight_decay=0)\n",
        "\n",
        "  loss_fct = nn.CrossEntropyLoss()\n",
        "\n",
        "  train_losses = []\n",
        "  val_losses = []\n",
        "  train_acc = []\n",
        "  val_acc = []\n",
        "  acc_val = 0\n",
        "  acc_train = 0\n",
        "  batch_ct = 0\n",
        "  example_ct = 0\n",
        "\n",
        "\n",
        "  starter, ender = torch.cuda.Event(enable_timing=True), torch.cuda.Event(enable_timing=True)\n",
        "  timings=[]\n",
        "  frames = []\n",
        "\n",
        "  for epoch in range(epochs):\n",
        "    # This command tells the neural network that it should be in training-mode now.\n",
        "    # This call is important as some functions in neural networks (e.g., dropout) should \n",
        "    # only be applied when training\n",
        "    net.train()\n",
        "\n",
        "    total=0\n",
        "    correct=0\n",
        "\n",
        "    epoch_train_loss = 0.\n",
        "    # Iterate over the dataset in chunks of size 32 (the batches)\n",
        "    for i, data in enumerate(train_dataloader):\n",
        "      X_batch, y_batch = data[0].to(runtime), data[1].to(runtime)\n",
        "\n",
        "      y_pred = net(X_batch)\n",
        "      loss = loss_fct(y_pred, y_batch)\n",
        "\n",
        "      example_ct += len(data)\n",
        "\n",
        "      epoch_train_loss += loss.item() * X_batch.size(0)\n",
        "\n",
        "      _,pred = torch.max(y_pred, dim=1)\n",
        "\n",
        "      #add the count of correct prediction of the batch to a correct prediction list\n",
        "      correct += torch.sum(pred==y_batch).item()\n",
        "      #add the count of all predictions of the batch to a total prediction list\n",
        "      total += y_batch.size(0)\n",
        "      #calculate accuracy of all predicted samples so far\n",
        "      acc_train = 100 * correct/total\n",
        "\n",
        "      optimizer.zero_grad()\n",
        "      loss.backward()\n",
        "      optimizer.step()\n",
        "\n",
        "    epoch_train_loss = epoch_train_loss / len(train_dataloader.sampler)\n",
        "    wandb.log({\"epoch\": epoch, \"train_loss\": epoch_train_loss, \"train_accuracy\": acc_train})\n",
        "    print(f\"Loss after \" + str(example_ct).zfill(5) + f\" examples: {epoch_train_loss:.3f}\")\n",
        "    train_losses.append(epoch_train_loss)\n",
        "    train_acc.append(acc_train)\n",
        "\n",
        "\n",
        "    net.eval()\n",
        "\n",
        "    total_t=0\n",
        "    correct_t=0\n",
        "\n",
        "    # Init or reset the prediction and label lists(tensors) of a epoch\n",
        "    predlist=torch.zeros(0,dtype=torch.long, device=runtime)\n",
        "    lbllist=torch.zeros(0,dtype=torch.long, device=runtime)\n",
        "\n",
        "\n",
        "    epoch_val_loss = 0. #reset epoch loss from validation\n",
        "\n",
        "    # This command tells the neural network that it should be in evaluation mode now.\n",
        "    # This call turns of special functions for training, such as dropout. \n",
        "    \n",
        "    with torch.no_grad():\n",
        "      for X_batch_val, y_batch_val in (val_dataloader):\n",
        "        #load batch of validation data\n",
        "        X_batch_val, y_batch_val = X_batch_val.to(runtime), y_batch_val.to(runtime)\n",
        "\n",
        "        #predict batch\n",
        "        starter.record()\n",
        "        y_pred_val = net(X_batch_val)\n",
        "        ender.record()\n",
        "\n",
        "        if runtime == torch.device('cuda'):\n",
        "            torch.cuda.synchronize() \n",
        "\n",
        "        laps_time = starter.elapsed_time(ender)\n",
        "        \n",
        "        timings.append(laps_time / X_batch_val.size(0))\n",
        "        frames.append(X_batch_val.size(0) / laps_time)\n",
        "\n",
        "        \n",
        "        loss_val = loss_fct(y_pred_val.squeeze(), y_batch_val)\n",
        "        # append loss of batch to epoch loss\n",
        "        epoch_val_loss += loss_val.item() * X_batch_val.size(0)\n",
        "                                              \n",
        "        _,pred_t = torch.max(y_pred_val, dim=1)\n",
        "\n",
        "        #add the count of correct prediction of the batch to a correct prediction list\n",
        "        correct_t += torch.sum(pred_t==y_batch_val).item()\n",
        "        #add the count of all predictions of the batch to a total prediction list\n",
        "        total_t += y_batch_val.size(0)\n",
        "        #calculate accuracy of all predicted samples so far\n",
        "        acc_val = 100 * correct_t/total_t\n",
        "\n",
        "        # Concatenate the prediction of a batch to list of all prediction of a epoch\n",
        "        predlist=torch.cat([predlist,pred_t.view(-1).to(runtime)])\n",
        "        lbllist=torch.cat([lbllist,y_batch_val.view(-1).to(runtime)])\n",
        "\n",
        "      # log the test accuracy\n",
        "      wandb.log({\"epoch\": epoch, \"val_loss\": epoch_val_loss / len(val_dataloader.sampler), \"val_accuracy\": acc_val})\n",
        "\n",
        "\n",
        "      epoch_val_loss = epoch_val_loss / len(val_dataloader.sampler)\n",
        "      val_losses.append(epoch_val_loss)\n",
        "      val_acc.append(acc_val)\n",
        "      print('Avg execution time (ms): {:.3f}'.format(np.mean(timings)))\n",
        "      print('Avg frames per seconds (fps): {:.3f}'.format(np.mean(frames)))\n",
        "      print('Epoch: {} ->  Train loss: {} Val loss: {} Train Accuracy: {} Val Accuracy: {}'.format(epoch, epoch_train_loss, epoch_val_loss, acc_train, acc_val))\n",
        "\n",
        "\n",
        "  y_true = lbllist.cpu().numpy()\n",
        "  y_pred = predlist.cpu().numpy()\n",
        "\n",
        "  # Confusion matrix\n",
        "  conf_mat=confusion_matrix(y_true, y_pred)\n",
        "  print('\\n')\n",
        "  print(f'Total Prediction: {len(predlist)}')\n",
        "  print(f'Correct Prediction: {sum(conf_mat.diagonal())}')\n",
        "  print('Confusion matrix')\n",
        "  print(conf_mat)\n",
        "  print('\\n')\n",
        "\n",
        "  # Precision, Recall, F1-score\n",
        "  class_report_print = classification_report(y_true, y_pred)\n",
        "  print(class_report_print)\n",
        "\n",
        "  # Per-class accuracy\n",
        "  class_accuracy=100*conf_mat.diagonal()/conf_mat.sum(1)\n",
        "  overall_accuracy = 100 * sum(conf_mat.diagonal()) / len(predlist)\n",
        "  print(f'Per-class accuracy: {class_accuracy}')\n",
        "  print(f'Overall accuracy: {overall_accuracy}')\n",
        "  print('\\n')    "
      ],
      "execution_count": null,
      "outputs": []
    },
    {
      "cell_type": "markdown",
      "metadata": {
        "id": "tqx8CoQBv_XH"
      },
      "source": [
        "## Run the sweep agent"
      ]
    },
    {
      "cell_type": "code",
      "metadata": {
        "id": "Lsysrn22v-2d",
        "colab": {
          "base_uri": "https://localhost:8080/",
          "height": 1000
        },
        "outputId": "2e59c59c-8683-4541-d5a0-aa982afee2fc"
      },
      "source": [
        "wandb.agent(sweep_id, train)"
      ],
      "execution_count": null,
      "outputs": [
        {
          "output_type": "stream",
          "text": [
            "\u001b[34m\u001b[1mwandb\u001b[0m: \u001b[33mWARNING\u001b[0m Calling wandb.login() after wandb.init() has no effect.\n",
            "\u001b[34m\u001b[1mwandb\u001b[0m: Agent Starting Run: 6r3kkwqi with config:\n",
            "\u001b[34m\u001b[1mwandb\u001b[0m: \tbatch_size: 128\n",
            "\u001b[34m\u001b[1mwandb\u001b[0m: \tdropout: 0.3\n",
            "\u001b[34m\u001b[1mwandb\u001b[0m: \tepochs: 50\n",
            "\u001b[34m\u001b[1mwandb\u001b[0m: \tfc_layer_size: 256\n",
            "\u001b[34m\u001b[1mwandb\u001b[0m: \tlearning_rate: 0.0001\n",
            "\u001b[34m\u001b[1mwandb\u001b[0m: \toptimizer: sgd\n"
          ],
          "name": "stderr"
        },
        {
          "output_type": "display_data",
          "data": {
            "text/html": [
              "\n",
              "                Tracking run with wandb version 0.12.0<br/>\n",
              "                Syncing run <strong style=\"color:#cdcd00\">cool-sweep-1</strong> to <a href=\"https://wandb.ai\" target=\"_blank\">Weights & Biases</a> <a href=\"https://docs.wandb.com/integrations/jupyter.html\" target=\"_blank\">(Documentation)</a>.<br/>\n",
              "                Project page: <a href=\"https://wandb.ai/inceptioneers/waferimages-sweeps\" target=\"_blank\">https://wandb.ai/inceptioneers/waferimages-sweeps</a><br/>\n",
              "                Sweep page: <a href=\"https://wandb.ai/inceptioneers/waferimages-sweeps/sweeps/32aeo13t\" target=\"_blank\">https://wandb.ai/inceptioneers/waferimages-sweeps/sweeps/32aeo13t</a><br/>\n",
              "Run page: <a href=\"https://wandb.ai/inceptioneers/waferimages-sweeps/runs/6r3kkwqi\" target=\"_blank\">https://wandb.ai/inceptioneers/waferimages-sweeps/runs/6r3kkwqi</a><br/>\n",
              "                Run data is saved locally in <code>/content/wandb/run-20210820_112911-6r3kkwqi</code><br/><br/>\n",
              "            "
            ],
            "text/plain": [
              "<IPython.core.display.HTML object>"
            ]
          },
          "metadata": {}
        },
        {
          "output_type": "stream",
          "text": [
            "Reset trainable parameters of layer = Conv2d(64, 64, kernel_size=(3, 3), stride=(1, 1), padding=(1, 1))\n",
            "Reset trainable parameters of layer = BatchNorm2d(64, eps=1e-05, momentum=0.1, affine=True, track_running_stats=True)\n",
            "Reset trainable parameters of layer = Conv2d(64, 64, kernel_size=(3, 3), stride=(1, 1), padding=(1, 1))\n",
            "Reset trainable parameters of layer = BatchNorm2d(64, eps=1e-05, momentum=0.1, affine=True, track_running_stats=True)\n",
            "Reset trainable parameters of layer = Conv2d(64, 64, kernel_size=(5, 5), stride=(1, 1), padding=(2, 2))\n",
            "Reset trainable parameters of layer = BatchNorm2d(64, eps=1e-05, momentum=0.1, affine=True, track_running_stats=True)\n",
            "Reset trainable parameters of layer = Conv2d(64, 64, kernel_size=(5, 5), stride=(1, 1), padding=(2, 2))\n",
            "Reset trainable parameters of layer = BatchNorm2d(64, eps=1e-05, momentum=0.1, affine=True, track_running_stats=True)\n",
            "Reset trainable parameters of layer = Conv2d(64, 64, kernel_size=(9, 9), stride=(1, 1), padding=(4, 4))\n",
            "Reset trainable parameters of layer = BatchNorm2d(64, eps=1e-05, momentum=0.1, affine=True, track_running_stats=True)\n",
            "Reset trainable parameters of layer = Conv2d(64, 64, kernel_size=(9, 9), stride=(1, 1), padding=(4, 4))\n",
            "Reset trainable parameters of layer = BatchNorm2d(64, eps=1e-05, momentum=0.1, affine=True, track_running_stats=True)\n",
            "Reset trainable parameters of layer = Conv2d(64, 64, kernel_size=(1, 1), stride=(1, 1))\n",
            "Reset trainable parameters of layer = BatchNorm2d(64, eps=1e-05, momentum=0.1, affine=True, track_running_stats=True)\n",
            "Reset trainable parameters of layer = Conv2d(64, 128, kernel_size=(3, 3), stride=(2, 2), padding=(1, 1))\n",
            "Reset trainable parameters of layer = BatchNorm2d(128, eps=1e-05, momentum=0.1, affine=True, track_running_stats=True)\n",
            "Reset trainable parameters of layer = Conv2d(128, 128, kernel_size=(3, 3), stride=(1, 1), padding=(1, 1))\n",
            "Reset trainable parameters of layer = BatchNorm2d(128, eps=1e-05, momentum=0.1, affine=True, track_running_stats=True)\n",
            "Reset trainable parameters of layer = Conv2d(64, 128, kernel_size=(5, 5), stride=(2, 2), padding=(2, 2))\n",
            "Reset trainable parameters of layer = BatchNorm2d(128, eps=1e-05, momentum=0.1, affine=True, track_running_stats=True)\n",
            "Reset trainable parameters of layer = Conv2d(128, 128, kernel_size=(5, 5), stride=(1, 1), padding=(2, 2))\n",
            "Reset trainable parameters of layer = BatchNorm2d(128, eps=1e-05, momentum=0.1, affine=True, track_running_stats=True)\n",
            "Reset trainable parameters of layer = Conv2d(64, 128, kernel_size=(9, 9), stride=(2, 2), padding=(4, 4))\n",
            "Reset trainable parameters of layer = BatchNorm2d(128, eps=1e-05, momentum=0.1, affine=True, track_running_stats=True)\n",
            "Reset trainable parameters of layer = Conv2d(128, 128, kernel_size=(9, 9), stride=(1, 1), padding=(4, 4))\n",
            "Reset trainable parameters of layer = BatchNorm2d(128, eps=1e-05, momentum=0.1, affine=True, track_running_stats=True)\n",
            "Reset trainable parameters of layer = Conv2d(64, 128, kernel_size=(1, 1), stride=(2, 2))\n",
            "Reset trainable parameters of layer = BatchNorm2d(128, eps=1e-05, momentum=0.1, affine=True, track_running_stats=True)\n",
            "Reset trainable parameters of layer = Conv2d(128, 256, kernel_size=(3, 3), stride=(2, 2), padding=(1, 1))\n",
            "Reset trainable parameters of layer = BatchNorm2d(256, eps=1e-05, momentum=0.1, affine=True, track_running_stats=True)\n",
            "Reset trainable parameters of layer = Conv2d(256, 256, kernel_size=(3, 3), stride=(1, 1), padding=(1, 1))\n",
            "Reset trainable parameters of layer = BatchNorm2d(256, eps=1e-05, momentum=0.1, affine=True, track_running_stats=True)\n",
            "Reset trainable parameters of layer = Conv2d(128, 256, kernel_size=(5, 5), stride=(2, 2), padding=(2, 2))\n",
            "Reset trainable parameters of layer = BatchNorm2d(256, eps=1e-05, momentum=0.1, affine=True, track_running_stats=True)\n",
            "Reset trainable parameters of layer = Conv2d(256, 256, kernel_size=(5, 5), stride=(1, 1), padding=(2, 2))\n",
            "Reset trainable parameters of layer = BatchNorm2d(256, eps=1e-05, momentum=0.1, affine=True, track_running_stats=True)\n",
            "Reset trainable parameters of layer = Conv2d(128, 256, kernel_size=(9, 9), stride=(2, 2), padding=(4, 4))\n",
            "Reset trainable parameters of layer = BatchNorm2d(256, eps=1e-05, momentum=0.1, affine=True, track_running_stats=True)\n",
            "Reset trainable parameters of layer = Conv2d(256, 256, kernel_size=(9, 9), stride=(1, 1), padding=(4, 4))\n",
            "Reset trainable parameters of layer = BatchNorm2d(256, eps=1e-05, momentum=0.1, affine=True, track_running_stats=True)\n",
            "Reset trainable parameters of layer = Conv2d(128, 256, kernel_size=(1, 1), stride=(2, 2))\n",
            "Reset trainable parameters of layer = BatchNorm2d(256, eps=1e-05, momentum=0.1, affine=True, track_running_stats=True)\n",
            "Reset trainable parameters of layer = Conv2d(256, 512, kernel_size=(3, 3), stride=(2, 2), padding=(1, 1))\n",
            "Reset trainable parameters of layer = BatchNorm2d(512, eps=1e-05, momentum=0.1, affine=True, track_running_stats=True)\n",
            "Reset trainable parameters of layer = Conv2d(512, 512, kernel_size=(3, 3), stride=(1, 1), padding=(1, 1))\n",
            "Reset trainable parameters of layer = BatchNorm2d(512, eps=1e-05, momentum=0.1, affine=True, track_running_stats=True)\n",
            "Reset trainable parameters of layer = Conv2d(256, 512, kernel_size=(5, 5), stride=(2, 2), padding=(2, 2))\n",
            "Reset trainable parameters of layer = BatchNorm2d(512, eps=1e-05, momentum=0.1, affine=True, track_running_stats=True)\n",
            "Reset trainable parameters of layer = Conv2d(512, 512, kernel_size=(5, 5), stride=(1, 1), padding=(2, 2))\n",
            "Reset trainable parameters of layer = BatchNorm2d(512, eps=1e-05, momentum=0.1, affine=True, track_running_stats=True)\n",
            "Reset trainable parameters of layer = Conv2d(256, 512, kernel_size=(9, 9), stride=(2, 2), padding=(4, 4))\n",
            "Reset trainable parameters of layer = BatchNorm2d(512, eps=1e-05, momentum=0.1, affine=True, track_running_stats=True)\n",
            "Reset trainable parameters of layer = Conv2d(512, 512, kernel_size=(9, 9), stride=(1, 1), padding=(4, 4))\n",
            "Reset trainable parameters of layer = BatchNorm2d(512, eps=1e-05, momentum=0.1, affine=True, track_running_stats=True)\n",
            "Reset trainable parameters of layer = Conv2d(256, 512, kernel_size=(1, 1), stride=(2, 2))\n",
            "Reset trainable parameters of layer = BatchNorm2d(512, eps=1e-05, momentum=0.1, affine=True, track_running_stats=True)\n",
            "Reset trainable parameters of layer = Conv2d(1, 64, kernel_size=(7, 7), stride=(2, 2))\n",
            "Reset trainable parameters of layer = BatchNorm2d(64, eps=1e-05, momentum=0.1, affine=True, track_running_stats=True)\n",
            "Reset trainable parameters of layer = Linear(in_features=4608, out_features=128, bias=True)\n",
            "Reset trainable parameters of layer = Linear(in_features=128, out_features=128, bias=True)\n",
            "Reset trainable parameters of layer = Linear(in_features=128, out_features=6, bias=True)\n",
            "\n",
            "\n"
          ],
          "name": "stdout"
        },
        {
          "output_type": "stream",
          "text": [
            "/usr/local/lib/python3.7/dist-packages/ipykernel_launcher.py:44: UserWarning: To copy construct from a tensor, it is recommended to use sourceTensor.clone().detach() or sourceTensor.clone().detach().requires_grad_(True), rather than torch.tensor(sourceTensor).\n"
          ],
          "name": "stderr"
        }
      ]
    },
    {
      "cell_type": "markdown",
      "metadata": {
        "id": "azeQB23tixBW"
      },
      "source": [
        "# Save Model"
      ]
    },
    {
      "cell_type": "code",
      "metadata": {
        "id": "lngoMENpiyd9"
      },
      "source": [
        "SAVE_MODEL_PATH = \"/content/drive/MyDrive/DEEPVIS/models\"\n",
        "#torch.save(net.state_dict(), SAVE_MODEL_PATH)\n",
        "torch.save(net.state_dict(), os.path.join(SAVE_MODEL_PATH, w.label+'.pth'))"
      ],
      "execution_count": null,
      "outputs": []
    },
    {
      "cell_type": "code",
      "metadata": {
        "id": "LRLMnPgpiztW"
      },
      "source": [
        "from pathlib import Path\n",
        "my_path= '/content/drive/MyDrive/DEEPVIS/'\n",
        "\n",
        "model = RegNet()\n",
        "device = torch.device(\"cuda:0\" if torch.cuda.is_available() else \"cpu\")\n",
        "model.load_state_dict(copy.deepcopy(torch.load(Path(my_path + 'models/RegNet.pth'),device)))"
      ],
      "execution_count": null,
      "outputs": []
    }
  ]
}
