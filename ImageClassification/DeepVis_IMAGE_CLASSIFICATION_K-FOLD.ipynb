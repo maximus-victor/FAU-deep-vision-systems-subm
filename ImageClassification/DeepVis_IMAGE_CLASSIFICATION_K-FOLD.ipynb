{
  "nbformat": 4,
  "nbformat_minor": 0,
  "metadata": {
    "colab": {
      "name": "DeepVis_IMAGE_CLASSIFICATION_K-FOLD.ipynb",
      "provenance": [],
      "include_colab_link": true
    },
    "kernelspec": {
      "name": "python3",
      "display_name": "Python 3"
    },
    "language_info": {
      "name": "python"
    },
    "accelerator": "GPU",
    "widgets": {
      "application/vnd.jupyter.widget-state+json": {
        "b240464242c3484cb781991da72261d7": {
          "model_module": "@jupyter-widgets/controls",
          "model_name": "HBoxModel",
          "model_module_version": "1.5.0",
          "state": {
            "_view_name": "HBoxView",
            "_dom_classes": [],
            "_model_name": "HBoxModel",
            "_view_module": "@jupyter-widgets/controls",
            "_model_module_version": "1.5.0",
            "_view_count": null,
            "_view_module_version": "1.5.0",
            "box_style": "",
            "layout": "IPY_MODEL_c97df6840ca340679b2762fdb6fd3294",
            "_model_module": "@jupyter-widgets/controls",
            "children": [
              "IPY_MODEL_4782eed1504141efa0c4d37bd77ee67c",
              "IPY_MODEL_8ed9ca46adcb4ba79c47191bd4ee28dd",
              "IPY_MODEL_8bf554479e854bb094777b4a5dd708c9"
            ]
          }
        },
        "c97df6840ca340679b2762fdb6fd3294": {
          "model_module": "@jupyter-widgets/base",
          "model_name": "LayoutModel",
          "model_module_version": "1.2.0",
          "state": {
            "_view_name": "LayoutView",
            "grid_template_rows": null,
            "right": null,
            "justify_content": null,
            "_view_module": "@jupyter-widgets/base",
            "overflow": null,
            "_model_module_version": "1.2.0",
            "_view_count": null,
            "flex_flow": null,
            "width": null,
            "min_width": null,
            "border": null,
            "align_items": null,
            "bottom": null,
            "_model_module": "@jupyter-widgets/base",
            "top": null,
            "grid_column": null,
            "overflow_y": null,
            "overflow_x": null,
            "grid_auto_flow": null,
            "grid_area": null,
            "grid_template_columns": null,
            "flex": null,
            "_model_name": "LayoutModel",
            "justify_items": null,
            "grid_row": null,
            "max_height": null,
            "align_content": null,
            "visibility": null,
            "align_self": null,
            "height": null,
            "min_height": null,
            "padding": null,
            "grid_auto_rows": null,
            "grid_gap": null,
            "max_width": null,
            "order": null,
            "_view_module_version": "1.2.0",
            "grid_template_areas": null,
            "object_position": null,
            "object_fit": null,
            "grid_auto_columns": null,
            "margin": null,
            "display": null,
            "left": null
          }
        },
        "4782eed1504141efa0c4d37bd77ee67c": {
          "model_module": "@jupyter-widgets/controls",
          "model_name": "HTMLModel",
          "model_module_version": "1.5.0",
          "state": {
            "_view_name": "HTMLView",
            "style": "IPY_MODEL_861a24a6deb64eb98bc7af2fdd5a7e9a",
            "_dom_classes": [],
            "description": "",
            "_model_name": "HTMLModel",
            "placeholder": "​",
            "_view_module": "@jupyter-widgets/controls",
            "_model_module_version": "1.5.0",
            "value": "100%",
            "_view_count": null,
            "_view_module_version": "1.5.0",
            "description_tooltip": null,
            "_model_module": "@jupyter-widgets/controls",
            "layout": "IPY_MODEL_dc6dcdac45a74aa5895cbdbba6bc3ea5"
          }
        },
        "8ed9ca46adcb4ba79c47191bd4ee28dd": {
          "model_module": "@jupyter-widgets/controls",
          "model_name": "FloatProgressModel",
          "model_module_version": "1.5.0",
          "state": {
            "_view_name": "ProgressView",
            "style": "IPY_MODEL_fa05d89beeec4130a1fd0dcc6bcf90ce",
            "_dom_classes": [],
            "description": "",
            "_model_name": "FloatProgressModel",
            "bar_style": "success",
            "max": 46830571,
            "_view_module": "@jupyter-widgets/controls",
            "_model_module_version": "1.5.0",
            "value": 46830571,
            "_view_count": null,
            "_view_module_version": "1.5.0",
            "orientation": "horizontal",
            "min": 0,
            "description_tooltip": null,
            "_model_module": "@jupyter-widgets/controls",
            "layout": "IPY_MODEL_7ab654bac42c40d5905c475ada35a095"
          }
        },
        "8bf554479e854bb094777b4a5dd708c9": {
          "model_module": "@jupyter-widgets/controls",
          "model_name": "HTMLModel",
          "model_module_version": "1.5.0",
          "state": {
            "_view_name": "HTMLView",
            "style": "IPY_MODEL_78922d9c974f4ec4ad9c5f1a00f72e7d",
            "_dom_classes": [],
            "description": "",
            "_model_name": "HTMLModel",
            "placeholder": "​",
            "_view_module": "@jupyter-widgets/controls",
            "_model_module_version": "1.5.0",
            "value": " 44.7M/44.7M [00:00&lt;00:00, 107MB/s]",
            "_view_count": null,
            "_view_module_version": "1.5.0",
            "description_tooltip": null,
            "_model_module": "@jupyter-widgets/controls",
            "layout": "IPY_MODEL_8000da5ee0a34fccb1c4238b5edbf9d7"
          }
        },
        "861a24a6deb64eb98bc7af2fdd5a7e9a": {
          "model_module": "@jupyter-widgets/controls",
          "model_name": "DescriptionStyleModel",
          "model_module_version": "1.5.0",
          "state": {
            "_view_name": "StyleView",
            "_model_name": "DescriptionStyleModel",
            "description_width": "",
            "_view_module": "@jupyter-widgets/base",
            "_model_module_version": "1.5.0",
            "_view_count": null,
            "_view_module_version": "1.2.0",
            "_model_module": "@jupyter-widgets/controls"
          }
        },
        "dc6dcdac45a74aa5895cbdbba6bc3ea5": {
          "model_module": "@jupyter-widgets/base",
          "model_name": "LayoutModel",
          "model_module_version": "1.2.0",
          "state": {
            "_view_name": "LayoutView",
            "grid_template_rows": null,
            "right": null,
            "justify_content": null,
            "_view_module": "@jupyter-widgets/base",
            "overflow": null,
            "_model_module_version": "1.2.0",
            "_view_count": null,
            "flex_flow": null,
            "width": null,
            "min_width": null,
            "border": null,
            "align_items": null,
            "bottom": null,
            "_model_module": "@jupyter-widgets/base",
            "top": null,
            "grid_column": null,
            "overflow_y": null,
            "overflow_x": null,
            "grid_auto_flow": null,
            "grid_area": null,
            "grid_template_columns": null,
            "flex": null,
            "_model_name": "LayoutModel",
            "justify_items": null,
            "grid_row": null,
            "max_height": null,
            "align_content": null,
            "visibility": null,
            "align_self": null,
            "height": null,
            "min_height": null,
            "padding": null,
            "grid_auto_rows": null,
            "grid_gap": null,
            "max_width": null,
            "order": null,
            "_view_module_version": "1.2.0",
            "grid_template_areas": null,
            "object_position": null,
            "object_fit": null,
            "grid_auto_columns": null,
            "margin": null,
            "display": null,
            "left": null
          }
        },
        "fa05d89beeec4130a1fd0dcc6bcf90ce": {
          "model_module": "@jupyter-widgets/controls",
          "model_name": "ProgressStyleModel",
          "model_module_version": "1.5.0",
          "state": {
            "_view_name": "StyleView",
            "_model_name": "ProgressStyleModel",
            "description_width": "",
            "_view_module": "@jupyter-widgets/base",
            "_model_module_version": "1.5.0",
            "_view_count": null,
            "_view_module_version": "1.2.0",
            "bar_color": null,
            "_model_module": "@jupyter-widgets/controls"
          }
        },
        "7ab654bac42c40d5905c475ada35a095": {
          "model_module": "@jupyter-widgets/base",
          "model_name": "LayoutModel",
          "model_module_version": "1.2.0",
          "state": {
            "_view_name": "LayoutView",
            "grid_template_rows": null,
            "right": null,
            "justify_content": null,
            "_view_module": "@jupyter-widgets/base",
            "overflow": null,
            "_model_module_version": "1.2.0",
            "_view_count": null,
            "flex_flow": null,
            "width": null,
            "min_width": null,
            "border": null,
            "align_items": null,
            "bottom": null,
            "_model_module": "@jupyter-widgets/base",
            "top": null,
            "grid_column": null,
            "overflow_y": null,
            "overflow_x": null,
            "grid_auto_flow": null,
            "grid_area": null,
            "grid_template_columns": null,
            "flex": null,
            "_model_name": "LayoutModel",
            "justify_items": null,
            "grid_row": null,
            "max_height": null,
            "align_content": null,
            "visibility": null,
            "align_self": null,
            "height": null,
            "min_height": null,
            "padding": null,
            "grid_auto_rows": null,
            "grid_gap": null,
            "max_width": null,
            "order": null,
            "_view_module_version": "1.2.0",
            "grid_template_areas": null,
            "object_position": null,
            "object_fit": null,
            "grid_auto_columns": null,
            "margin": null,
            "display": null,
            "left": null
          }
        },
        "78922d9c974f4ec4ad9c5f1a00f72e7d": {
          "model_module": "@jupyter-widgets/controls",
          "model_name": "DescriptionStyleModel",
          "model_module_version": "1.5.0",
          "state": {
            "_view_name": "StyleView",
            "_model_name": "DescriptionStyleModel",
            "description_width": "",
            "_view_module": "@jupyter-widgets/base",
            "_model_module_version": "1.5.0",
            "_view_count": null,
            "_view_module_version": "1.2.0",
            "_model_module": "@jupyter-widgets/controls"
          }
        },
        "8000da5ee0a34fccb1c4238b5edbf9d7": {
          "model_module": "@jupyter-widgets/base",
          "model_name": "LayoutModel",
          "model_module_version": "1.2.0",
          "state": {
            "_view_name": "LayoutView",
            "grid_template_rows": null,
            "right": null,
            "justify_content": null,
            "_view_module": "@jupyter-widgets/base",
            "overflow": null,
            "_model_module_version": "1.2.0",
            "_view_count": null,
            "flex_flow": null,
            "width": null,
            "min_width": null,
            "border": null,
            "align_items": null,
            "bottom": null,
            "_model_module": "@jupyter-widgets/base",
            "top": null,
            "grid_column": null,
            "overflow_y": null,
            "overflow_x": null,
            "grid_auto_flow": null,
            "grid_area": null,
            "grid_template_columns": null,
            "flex": null,
            "_model_name": "LayoutModel",
            "justify_items": null,
            "grid_row": null,
            "max_height": null,
            "align_content": null,
            "visibility": null,
            "align_self": null,
            "height": null,
            "min_height": null,
            "padding": null,
            "grid_auto_rows": null,
            "grid_gap": null,
            "max_width": null,
            "order": null,
            "_view_module_version": "1.2.0",
            "grid_template_areas": null,
            "object_position": null,
            "object_fit": null,
            "grid_auto_columns": null,
            "margin": null,
            "display": null,
            "left": null
          }
        },
        "c04e77837f074d3bbd4b97fa516a9463": {
          "model_module": "@jupyter-widgets/controls",
          "model_name": "HBoxModel",
          "model_module_version": "1.5.0",
          "state": {
            "_view_name": "HBoxView",
            "_dom_classes": [],
            "_model_name": "HBoxModel",
            "_view_module": "@jupyter-widgets/controls",
            "_model_module_version": "1.5.0",
            "_view_count": null,
            "_view_module_version": "1.5.0",
            "box_style": "",
            "layout": "IPY_MODEL_2a5f0c9f814b4d1d92ca2eefc0744c06",
            "_model_module": "@jupyter-widgets/controls",
            "children": [
              "IPY_MODEL_32ae0af0ec4f4ac48caf53773df02614",
              "IPY_MODEL_a2dfc2a9cfad4141a8377ccb110c4931",
              "IPY_MODEL_1c54538f78a24b8888cc6d818281334a"
            ]
          }
        },
        "2a5f0c9f814b4d1d92ca2eefc0744c06": {
          "model_module": "@jupyter-widgets/base",
          "model_name": "LayoutModel",
          "model_module_version": "1.2.0",
          "state": {
            "_view_name": "LayoutView",
            "grid_template_rows": null,
            "right": null,
            "justify_content": null,
            "_view_module": "@jupyter-widgets/base",
            "overflow": null,
            "_model_module_version": "1.2.0",
            "_view_count": null,
            "flex_flow": null,
            "width": null,
            "min_width": null,
            "border": null,
            "align_items": null,
            "bottom": null,
            "_model_module": "@jupyter-widgets/base",
            "top": null,
            "grid_column": null,
            "overflow_y": null,
            "overflow_x": null,
            "grid_auto_flow": null,
            "grid_area": null,
            "grid_template_columns": null,
            "flex": null,
            "_model_name": "LayoutModel",
            "justify_items": null,
            "grid_row": null,
            "max_height": null,
            "align_content": null,
            "visibility": null,
            "align_self": null,
            "height": null,
            "min_height": null,
            "padding": null,
            "grid_auto_rows": null,
            "grid_gap": null,
            "max_width": null,
            "order": null,
            "_view_module_version": "1.2.0",
            "grid_template_areas": null,
            "object_position": null,
            "object_fit": null,
            "grid_auto_columns": null,
            "margin": null,
            "display": null,
            "left": null
          }
        },
        "32ae0af0ec4f4ac48caf53773df02614": {
          "model_module": "@jupyter-widgets/controls",
          "model_name": "HTMLModel",
          "model_module_version": "1.5.0",
          "state": {
            "_view_name": "HTMLView",
            "style": "IPY_MODEL_fc87af52b18e461f80125a723536072b",
            "_dom_classes": [],
            "description": "",
            "_model_name": "HTMLModel",
            "placeholder": "​",
            "_view_module": "@jupyter-widgets/controls",
            "_model_module_version": "1.5.0",
            "value": "100%",
            "_view_count": null,
            "_view_module_version": "1.5.0",
            "description_tooltip": null,
            "_model_module": "@jupyter-widgets/controls",
            "layout": "IPY_MODEL_44c9b023114c4daab20deb3b3e763fa7"
          }
        },
        "a2dfc2a9cfad4141a8377ccb110c4931": {
          "model_module": "@jupyter-widgets/controls",
          "model_name": "FloatProgressModel",
          "model_module_version": "1.5.0",
          "state": {
            "_view_name": "ProgressView",
            "style": "IPY_MODEL_673d67475a874f44b9cfa7397565026b",
            "_dom_classes": [],
            "description": "",
            "_model_name": "FloatProgressModel",
            "bar_style": "success",
            "max": 553507836,
            "_view_module": "@jupyter-widgets/controls",
            "_model_module_version": "1.5.0",
            "value": 553507836,
            "_view_count": null,
            "_view_module_version": "1.5.0",
            "orientation": "horizontal",
            "min": 0,
            "description_tooltip": null,
            "_model_module": "@jupyter-widgets/controls",
            "layout": "IPY_MODEL_563ea939183b4fbc81381d3bb9f4cfd1"
          }
        },
        "1c54538f78a24b8888cc6d818281334a": {
          "model_module": "@jupyter-widgets/controls",
          "model_name": "HTMLModel",
          "model_module_version": "1.5.0",
          "state": {
            "_view_name": "HTMLView",
            "style": "IPY_MODEL_fc8772bf294148e7a3d599a643a3427f",
            "_dom_classes": [],
            "description": "",
            "_model_name": "HTMLModel",
            "placeholder": "​",
            "_view_module": "@jupyter-widgets/controls",
            "_model_module_version": "1.5.0",
            "value": " 528M/528M [00:05&lt;00:00, 124MB/s]",
            "_view_count": null,
            "_view_module_version": "1.5.0",
            "description_tooltip": null,
            "_model_module": "@jupyter-widgets/controls",
            "layout": "IPY_MODEL_11b5d27d6ada441dba7b1da2675f93cc"
          }
        },
        "fc87af52b18e461f80125a723536072b": {
          "model_module": "@jupyter-widgets/controls",
          "model_name": "DescriptionStyleModel",
          "model_module_version": "1.5.0",
          "state": {
            "_view_name": "StyleView",
            "_model_name": "DescriptionStyleModel",
            "description_width": "",
            "_view_module": "@jupyter-widgets/base",
            "_model_module_version": "1.5.0",
            "_view_count": null,
            "_view_module_version": "1.2.0",
            "_model_module": "@jupyter-widgets/controls"
          }
        },
        "44c9b023114c4daab20deb3b3e763fa7": {
          "model_module": "@jupyter-widgets/base",
          "model_name": "LayoutModel",
          "model_module_version": "1.2.0",
          "state": {
            "_view_name": "LayoutView",
            "grid_template_rows": null,
            "right": null,
            "justify_content": null,
            "_view_module": "@jupyter-widgets/base",
            "overflow": null,
            "_model_module_version": "1.2.0",
            "_view_count": null,
            "flex_flow": null,
            "width": null,
            "min_width": null,
            "border": null,
            "align_items": null,
            "bottom": null,
            "_model_module": "@jupyter-widgets/base",
            "top": null,
            "grid_column": null,
            "overflow_y": null,
            "overflow_x": null,
            "grid_auto_flow": null,
            "grid_area": null,
            "grid_template_columns": null,
            "flex": null,
            "_model_name": "LayoutModel",
            "justify_items": null,
            "grid_row": null,
            "max_height": null,
            "align_content": null,
            "visibility": null,
            "align_self": null,
            "height": null,
            "min_height": null,
            "padding": null,
            "grid_auto_rows": null,
            "grid_gap": null,
            "max_width": null,
            "order": null,
            "_view_module_version": "1.2.0",
            "grid_template_areas": null,
            "object_position": null,
            "object_fit": null,
            "grid_auto_columns": null,
            "margin": null,
            "display": null,
            "left": null
          }
        },
        "673d67475a874f44b9cfa7397565026b": {
          "model_module": "@jupyter-widgets/controls",
          "model_name": "ProgressStyleModel",
          "model_module_version": "1.5.0",
          "state": {
            "_view_name": "StyleView",
            "_model_name": "ProgressStyleModel",
            "description_width": "",
            "_view_module": "@jupyter-widgets/base",
            "_model_module_version": "1.5.0",
            "_view_count": null,
            "_view_module_version": "1.2.0",
            "bar_color": null,
            "_model_module": "@jupyter-widgets/controls"
          }
        },
        "563ea939183b4fbc81381d3bb9f4cfd1": {
          "model_module": "@jupyter-widgets/base",
          "model_name": "LayoutModel",
          "model_module_version": "1.2.0",
          "state": {
            "_view_name": "LayoutView",
            "grid_template_rows": null,
            "right": null,
            "justify_content": null,
            "_view_module": "@jupyter-widgets/base",
            "overflow": null,
            "_model_module_version": "1.2.0",
            "_view_count": null,
            "flex_flow": null,
            "width": null,
            "min_width": null,
            "border": null,
            "align_items": null,
            "bottom": null,
            "_model_module": "@jupyter-widgets/base",
            "top": null,
            "grid_column": null,
            "overflow_y": null,
            "overflow_x": null,
            "grid_auto_flow": null,
            "grid_area": null,
            "grid_template_columns": null,
            "flex": null,
            "_model_name": "LayoutModel",
            "justify_items": null,
            "grid_row": null,
            "max_height": null,
            "align_content": null,
            "visibility": null,
            "align_self": null,
            "height": null,
            "min_height": null,
            "padding": null,
            "grid_auto_rows": null,
            "grid_gap": null,
            "max_width": null,
            "order": null,
            "_view_module_version": "1.2.0",
            "grid_template_areas": null,
            "object_position": null,
            "object_fit": null,
            "grid_auto_columns": null,
            "margin": null,
            "display": null,
            "left": null
          }
        },
        "fc8772bf294148e7a3d599a643a3427f": {
          "model_module": "@jupyter-widgets/controls",
          "model_name": "DescriptionStyleModel",
          "model_module_version": "1.5.0",
          "state": {
            "_view_name": "StyleView",
            "_model_name": "DescriptionStyleModel",
            "description_width": "",
            "_view_module": "@jupyter-widgets/base",
            "_model_module_version": "1.5.0",
            "_view_count": null,
            "_view_module_version": "1.2.0",
            "_model_module": "@jupyter-widgets/controls"
          }
        },
        "11b5d27d6ada441dba7b1da2675f93cc": {
          "model_module": "@jupyter-widgets/base",
          "model_name": "LayoutModel",
          "model_module_version": "1.2.0",
          "state": {
            "_view_name": "LayoutView",
            "grid_template_rows": null,
            "right": null,
            "justify_content": null,
            "_view_module": "@jupyter-widgets/base",
            "overflow": null,
            "_model_module_version": "1.2.0",
            "_view_count": null,
            "flex_flow": null,
            "width": null,
            "min_width": null,
            "border": null,
            "align_items": null,
            "bottom": null,
            "_model_module": "@jupyter-widgets/base",
            "top": null,
            "grid_column": null,
            "overflow_y": null,
            "overflow_x": null,
            "grid_auto_flow": null,
            "grid_area": null,
            "grid_template_columns": null,
            "flex": null,
            "_model_name": "LayoutModel",
            "justify_items": null,
            "grid_row": null,
            "max_height": null,
            "align_content": null,
            "visibility": null,
            "align_self": null,
            "height": null,
            "min_height": null,
            "padding": null,
            "grid_auto_rows": null,
            "grid_gap": null,
            "max_width": null,
            "order": null,
            "_view_module_version": "1.2.0",
            "grid_template_areas": null,
            "object_position": null,
            "object_fit": null,
            "grid_auto_columns": null,
            "margin": null,
            "display": null,
            "left": null
          }
        },
        "e2e9b19bd6904982ab2b467c91009352": {
          "model_module": "@jupyter-widgets/controls",
          "model_name": "DropdownModel",
          "model_module_version": "1.5.0",
          "state": {
            "_options_labels": [
              "VicNet",
              "ResNet18",
              "VGG16",
              "RegNet",
              "BaseNet",
              "MaxNet"
            ],
            "_view_name": "DropdownView",
            "style": "IPY_MODEL_1ce1af28bba04ce6a57af6ac5dc18297",
            "_dom_classes": [],
            "description": "",
            "_model_name": "DropdownModel",
            "index": 2,
            "_view_module": "@jupyter-widgets/controls",
            "_model_module_version": "1.5.0",
            "_view_count": null,
            "disabled": false,
            "_view_module_version": "1.5.0",
            "description_tooltip": null,
            "_model_module": "@jupyter-widgets/controls",
            "layout": "IPY_MODEL_e9f9e08fa38e413781a5b4acc92d6f5c"
          }
        },
        "1ce1af28bba04ce6a57af6ac5dc18297": {
          "model_module": "@jupyter-widgets/controls",
          "model_name": "DescriptionStyleModel",
          "model_module_version": "1.5.0",
          "state": {
            "_view_name": "StyleView",
            "_model_name": "DescriptionStyleModel",
            "description_width": "",
            "_view_module": "@jupyter-widgets/base",
            "_model_module_version": "1.5.0",
            "_view_count": null,
            "_view_module_version": "1.2.0",
            "_model_module": "@jupyter-widgets/controls"
          }
        },
        "e9f9e08fa38e413781a5b4acc92d6f5c": {
          "model_module": "@jupyter-widgets/base",
          "model_name": "LayoutModel",
          "model_module_version": "1.2.0",
          "state": {
            "_view_name": "LayoutView",
            "grid_template_rows": null,
            "right": null,
            "justify_content": null,
            "_view_module": "@jupyter-widgets/base",
            "overflow": null,
            "_model_module_version": "1.2.0",
            "_view_count": null,
            "flex_flow": null,
            "width": null,
            "min_width": null,
            "border": null,
            "align_items": null,
            "bottom": null,
            "_model_module": "@jupyter-widgets/base",
            "top": null,
            "grid_column": null,
            "overflow_y": null,
            "overflow_x": null,
            "grid_auto_flow": null,
            "grid_area": null,
            "grid_template_columns": null,
            "flex": null,
            "_model_name": "LayoutModel",
            "justify_items": null,
            "grid_row": null,
            "max_height": null,
            "align_content": null,
            "visibility": null,
            "align_self": null,
            "height": null,
            "min_height": null,
            "padding": null,
            "grid_auto_rows": null,
            "grid_gap": null,
            "max_width": null,
            "order": null,
            "_view_module_version": "1.2.0",
            "grid_template_areas": null,
            "object_position": null,
            "object_fit": null,
            "grid_auto_columns": null,
            "margin": null,
            "display": null,
            "left": null
          }
        }
      }
    }
  },
  "cells": [
    {
      "cell_type": "markdown",
      "metadata": {
        "id": "view-in-github",
        "colab_type": "text"
      },
      "source": [
        "<a href=\"https://colab.research.google.com/github/maximus-victor/FAU-deep-vision-systems-subm/blob/main/DeepVis_IMAGE_CLASSIFICATION_K-FOLD.ipynb\" target=\"_parent\"><img src=\"https://colab.research.google.com/assets/colab-badge.svg\" alt=\"Open In Colab\"/></a>"
      ]
    },
    {
      "cell_type": "markdown",
      "metadata": {
        "id": "JhfYsYKKOShL"
      },
      "source": [
        "# Setup"
      ]
    },
    {
      "cell_type": "code",
      "metadata": {
        "id": "bb56WsVKxiTk"
      },
      "source": [
        "config = dict(\n",
        "    epochs=5,\n",
        "    batch_size=128,\n",
        "    learning_rate=0.0001,\n",
        "    dropout=0,\n",
        "    fc_layer_size=256,\n",
        "    optimizer='adam') "
      ],
      "execution_count": null,
      "outputs": []
    },
    {
      "cell_type": "code",
      "metadata": {
        "id": "VKHyzOYr01T5"
      },
      "source": [
        "class EarlyStopping:\n",
        "    \"\"\"Early stops the training if validation loss doesn't improve after a given patience.\"\"\"\n",
        "    def __init__(self, patience=7, verbose=False, delta=0, path='checkpoint.pt', trace_func=print):\n",
        "        \"\"\"\n",
        "        Args:\n",
        "            patience (int): How long to wait after last time validation loss improved.\n",
        "                            Default: 7\n",
        "            verbose (bool): If True, prints a message for each validation loss improvement. \n",
        "                            Default: False\n",
        "            delta (float): Minimum change in the monitored quantity to qualify as an improvement.\n",
        "                            Default: 0\n",
        "            path (str): Path for the checkpoint to be saved to.\n",
        "                            Default: 'checkpoint.pt'\n",
        "            trace_func (function): trace print function.\n",
        "                            Default: print            \n",
        "        \"\"\"\n",
        "        self.patience = patience\n",
        "        self.verbose = verbose\n",
        "        self.counter = 0\n",
        "        self.best_score = None\n",
        "        self.early_stop = False\n",
        "        self.val_loss_min = np.Inf\n",
        "        self.delta = delta\n",
        "        self.path = path\n",
        "        self.trace_func = trace_func\n",
        "    def __call__(self, val_loss, model):\n",
        "\n",
        "        score = -val_loss\n",
        "\n",
        "        if self.best_score is None:\n",
        "            self.best_score = score\n",
        "            self.save_checkpoint(val_loss, model)\n",
        "        elif score < self.best_score + self.delta:\n",
        "            self.counter += 1\n",
        "            self.trace_func(f'EarlyStopping counter: {self.counter} out of {self.patience}')\n",
        "            if self.counter >= self.patience:\n",
        "                self.early_stop = True\n",
        "        else:\n",
        "            self.best_score = score\n",
        "            self.save_checkpoint(val_loss, model)\n",
        "            self.counter = 0\n",
        "\n",
        "    def save_checkpoint(self, val_loss, model):\n",
        "        '''Saves model when validation loss decrease.'''\n",
        "        if self.verbose:\n",
        "            self.trace_func(f'Validation loss decreased ({self.val_loss_min:.6f} --> {val_loss:.6f}).  Saving model ...')\n",
        "        torch.save(model.state_dict(), self.path)\n",
        "        self.val_loss_min = val_loss"
      ],
      "execution_count": null,
      "outputs": []
    },
    {
      "cell_type": "markdown",
      "metadata": {
        "id": "z-9Tl-RFlz6_"
      },
      "source": [
        "## Libraries & Seed"
      ]
    },
    {
      "cell_type": "code",
      "metadata": {
        "id": "Z3F2Y50clwfU"
      },
      "source": [
        "import pandas as pd\n",
        "import numpy as np\n",
        "import glob\n",
        "import random\n",
        "import joblib\n",
        "import os\n",
        "\n",
        "from sklearn.model_selection import train_test_split\n",
        "import matplotlib.pyplot as plt\n",
        "import matplotlib.patches as patches\n",
        "\n",
        "from skimage import io\n",
        "\n",
        "from imutils import paths\n",
        "from sklearn import preprocessing\n",
        "from tqdm import tqdm\n",
        "\n",
        "from sklearn.metrics import confusion_matrix, classification_report\n",
        "from sklearn.model_selection import StratifiedShuffleSplit\n",
        "\n",
        "import torch\n",
        "from torchvision import transforms, datasets\n",
        "from torchvision.datasets import ImageFolder\n",
        "\n",
        "import ipywidgets as widgets\n",
        "from IPython.display import display\n",
        "import copy"
      ],
      "execution_count": null,
      "outputs": []
    },
    {
      "cell_type": "markdown",
      "metadata": {
        "id": "kFOgfCKiDQ9n"
      },
      "source": [
        "The next block of code applies a seed to our code for reproducibility and also sets the computation device. "
      ]
    },
    {
      "cell_type": "code",
      "metadata": {
        "colab": {
          "base_uri": "https://localhost:8080/"
        },
        "id": "TI7IK0e8DOj0",
        "outputId": "a72488a1-d48a-48d0-a57b-2cd05dd54a86"
      },
      "source": [
        "def seed_libraries(SEED=42):\n",
        "  # Python seeds\n",
        "  random.seed(SEED)\n",
        "  np.random.seed(SEED)\n",
        "  # Torch seeds\n",
        "  torch.manual_seed(SEED)\n",
        "  torch.cuda.manual_seed(SEED)\n",
        "  torch.cuda.manual_seed_all(SEED)\n",
        "\n",
        "SEED=42\n",
        "seed_libraries(SEED=SEED)\n",
        "\n",
        "\n",
        "# set computation device\n",
        "runtime = torch.device('cuda') if torch.cuda.is_available() else torch.device('cpu')\n",
        "print(f\"Computation device: {runtime}\")"
      ],
      "execution_count": null,
      "outputs": [
        {
          "output_type": "stream",
          "text": [
            "Computation device: cuda\n"
          ],
          "name": "stdout"
        }
      ]
    },
    {
      "cell_type": "code",
      "metadata": {
        "colab": {
          "base_uri": "https://localhost:8080/"
        },
        "id": "YxoldyiNKDOq",
        "outputId": "3f88898e-3f0f-4f78-9d80-2f8801bfd0a9"
      },
      "source": [
        "username = 'maximus-victor'\n",
        "repo = 'FAU-deep-vision-systems'\n",
        "\n",
        "# Max\n",
        "%cd /content/drive/MyDrive/001_university/001_FAU/002_IIS/DVS\n",
        "!git config --global user.email \"maximilian.harl@gmail.com\"\n",
        "DIR_DATEN = \"/content/drive/MyDrive/001_university/001_FAU/002_IIS/DVS/wafer_data/\"\n",
        "\n",
        "%cd {repo}\n",
        "\n",
        "!git add .\n",
        "\n",
        "!git commit -m \"Retina Net Setup\""
      ],
      "execution_count": null,
      "outputs": [
        {
          "output_type": "stream",
          "text": [
            "/content/drive/MyDrive/001_university/001_FAU/002_IIS/DVS\n",
            "/content/drive/MyDrive/001_university/001_FAU/002_IIS/DVS/FAU-deep-vision-systems\n",
            "[main 2fbc61e] Retina Net Setup\n",
            " 2 files changed, 2 insertions(+), 3496 deletions(-)\n",
            " rewrite DeepVis_IMAGE_CLASSIFICATION_K-FOLD.ipynb (98%)\n",
            " rewrite DeepVis_Object_Detection.ipynb (61%)\n"
          ],
          "name": "stdout"
        }
      ]
    },
    {
      "cell_type": "code",
      "metadata": {
        "id": "fPg78oLEKS5H"
      },
      "source": [
        "!git add ."
      ],
      "execution_count": null,
      "outputs": []
    },
    {
      "cell_type": "code",
      "metadata": {
        "colab": {
          "base_uri": "https://localhost:8080/"
        },
        "id": "isAoxPBuKUl4",
        "outputId": "96caf88b-5405-4b4d-c5ba-5a7d6fc16326"
      },
      "source": [
        "!git commit -m \"MaxNet Fixxed\""
      ],
      "execution_count": null,
      "outputs": [
        {
          "output_type": "stream",
          "text": [
            "[main 6ad6589] MaxNet Fixxed\n",
            " 1 file changed, 1 insertion(+), 1 deletion(-)\n",
            " rewrite DeepVis_IMAGE_CLASSIFICATION_K-FOLD.ipynb (88%)\n"
          ],
          "name": "stdout"
        }
      ]
    },
    {
      "cell_type": "code",
      "metadata": {
        "colab": {
          "base_uri": "https://localhost:8080/"
        },
        "id": "zUz1Q1kuKOWL",
        "outputId": "448f9eb4-cf58-49d2-bc2e-531255fafd50"
      },
      "source": [
        "!git push"
      ],
      "execution_count": null,
      "outputs": [
        {
          "output_type": "stream",
          "text": [
            "Counting objects: 1   \rCounting objects: 7, done.\n",
            "Delta compression using up to 2 threads.\n",
            "Compressing objects:  14% (1/7)   \rCompressing objects:  28% (2/7)   \rCompressing objects:  42% (3/7)   \rCompressing objects:  57% (4/7)   \rCompressing objects:  71% (5/7)   \rCompressing objects:  85% (6/7)   \rCompressing objects: 100% (7/7)   \rCompressing objects: 100% (7/7), done.\n",
            "Writing objects:  14% (1/7)   \rWriting objects:  28% (2/7)   \rWriting objects:  42% (3/7)   \rWriting objects:  57% (4/7)   \rWriting objects:  71% (5/7)   \rWriting objects:  85% (6/7)   \rWriting objects: 100% (7/7)   \rWriting objects: 100% (7/7), 25.01 KiB | 376.00 KiB/s, done.\n",
            "Total 7 (delta 5), reused 0 (delta 0)\n",
            "remote: Resolving deltas: 100% (5/5), completed with 2 local objects.\u001b[K\n",
            "To https://github.com/maximus-victor/FAU-deep-vision-systems\n",
            "   5c2ac01..6ad6589  main -> main\n"
          ],
          "name": "stdout"
        }
      ]
    },
    {
      "cell_type": "markdown",
      "metadata": {
        "id": "-un7U53amuuz"
      },
      "source": [
        "# **Set Dicitonaries**"
      ]
    },
    {
      "cell_type": "markdown",
      "metadata": {
        "id": "K-a88VYLm0Ya"
      },
      "source": [
        "**Google Drive Version**"
      ]
    },
    {
      "cell_type": "code",
      "metadata": {
        "id": "OPPN1MqumuRJ",
        "colab": {
          "base_uri": "https://localhost:8080/"
        },
        "outputId": "27667c32-ac96-43a7-ec2c-b6fca28415bb"
      },
      "source": [
        "from google.colab import drive\n",
        "drive.mount('/content/drive')"
      ],
      "execution_count": null,
      "outputs": [
        {
          "output_type": "stream",
          "text": [
            "Drive already mounted at /content/drive; to attempt to forcibly remount, call drive.mount(\"/content/drive\", force_remount=True).\n"
          ],
          "name": "stdout"
        }
      ]
    },
    {
      "cell_type": "code",
      "metadata": {
        "id": "8-lDCvDGoeJV"
      },
      "source": [
        "# !unzip /content/drive/MyDrive/data.zip"
      ],
      "execution_count": null,
      "outputs": []
    },
    {
      "cell_type": "code",
      "metadata": {
        "id": "MDj_9b9Sm9RM"
      },
      "source": [
        "DIR_DATEN = \"/content/drive/MyDrive/DEEPVIS/data\"   # make sure to always adapt this to your own folser structure\n",
        "#DIR_DATEN = \"/content/drive/MyDrive/001_university/001_FAU/002_IIS/DVS/wafer_data/\" # Max\n",
        "DIR_DATEN_01 = os.path.join(DIR_DATEN, \"01_Daten\")\n",
        "DIR_WAFER_IMAGES = os.path.join(DIR_DATEN, \"WaferImages\")"
      ],
      "execution_count": null,
      "outputs": []
    },
    {
      "cell_type": "markdown",
      "metadata": {
        "id": "7sCZ10w5ODGv"
      },
      "source": [
        "## **Load Data**"
      ]
    },
    {
      "cell_type": "code",
      "metadata": {
        "id": "Y3V0mipE82yk"
      },
      "source": [
        "labels_filename =\"Labels_Waferviertel.xlsx\"\n",
        "meta_filename = \"Meta_data.csv\""
      ],
      "execution_count": null,
      "outputs": []
    },
    {
      "cell_type": "code",
      "metadata": {
        "id": "QIpv38AzOIAT",
        "colab": {
          "base_uri": "https://localhost:8080/",
          "height": 206
        },
        "outputId": "9f050fef-e91c-4c16-c87b-9ffa69452dd4"
      },
      "source": [
        "labels = pd.read_excel(os.path.join(DIR_DATEN_01, labels_filename))\n",
        "labels.head(5)"
      ],
      "execution_count": null,
      "outputs": [
        {
          "output_type": "execute_result",
          "data": {
            "text/html": [
              "<div>\n",
              "<style scoped>\n",
              "    .dataframe tbody tr th:only-of-type {\n",
              "        vertical-align: middle;\n",
              "    }\n",
              "\n",
              "    .dataframe tbody tr th {\n",
              "        vertical-align: top;\n",
              "    }\n",
              "\n",
              "    .dataframe thead th {\n",
              "        text-align: right;\n",
              "    }\n",
              "</style>\n",
              "<table border=\"1\" class=\"dataframe\">\n",
              "  <thead>\n",
              "    <tr style=\"text-align: right;\">\n",
              "      <th></th>\n",
              "      <th>File Name</th>\n",
              "      <th>Part No</th>\n",
              "      <th>Crack</th>\n",
              "      <th>Patch</th>\n",
              "      <th>Scratch</th>\n",
              "      <th>Low Level</th>\n",
              "      <th>Circle</th>\n",
              "      <th>Displaced</th>\n",
              "      <th>Splinter</th>\n",
              "      <th>Stain</th>\n",
              "      <th>Wafer on Pin</th>\n",
              "      <th>Other</th>\n",
              "      <th>PosX</th>\n",
              "      <th>PosY</th>\n",
              "      <th>Timestamp</th>\n",
              "      <th>PreviousClass</th>\n",
              "      <th>NoOfErrors</th>\n",
              "    </tr>\n",
              "  </thead>\n",
              "  <tbody>\n",
              "    <tr>\n",
              "      <th>0</th>\n",
              "      <td>001932631.tif</td>\n",
              "      <td>0</td>\n",
              "      <td>False</td>\n",
              "      <td>False</td>\n",
              "      <td>False</td>\n",
              "      <td>False</td>\n",
              "      <td>False</td>\n",
              "      <td>False</td>\n",
              "      <td>False</td>\n",
              "      <td>False</td>\n",
              "      <td>False</td>\n",
              "      <td>True</td>\n",
              "      <td>0</td>\n",
              "      <td>0</td>\n",
              "      <td>2019-06-12 13:48:45</td>\n",
              "      <td>other</td>\n",
              "      <td>1</td>\n",
              "    </tr>\n",
              "    <tr>\n",
              "      <th>1</th>\n",
              "      <td>001932631.tif</td>\n",
              "      <td>1</td>\n",
              "      <td>False</td>\n",
              "      <td>False</td>\n",
              "      <td>False</td>\n",
              "      <td>False</td>\n",
              "      <td>False</td>\n",
              "      <td>False</td>\n",
              "      <td>False</td>\n",
              "      <td>False</td>\n",
              "      <td>False</td>\n",
              "      <td>True</td>\n",
              "      <td>0</td>\n",
              "      <td>0</td>\n",
              "      <td>2019-06-12 13:48:45</td>\n",
              "      <td>other</td>\n",
              "      <td>1</td>\n",
              "    </tr>\n",
              "    <tr>\n",
              "      <th>2</th>\n",
              "      <td>001932631.tif</td>\n",
              "      <td>2</td>\n",
              "      <td>False</td>\n",
              "      <td>False</td>\n",
              "      <td>False</td>\n",
              "      <td>False</td>\n",
              "      <td>False</td>\n",
              "      <td>False</td>\n",
              "      <td>False</td>\n",
              "      <td>False</td>\n",
              "      <td>False</td>\n",
              "      <td>True</td>\n",
              "      <td>0</td>\n",
              "      <td>0</td>\n",
              "      <td>2019-06-12 13:48:45</td>\n",
              "      <td>other</td>\n",
              "      <td>1</td>\n",
              "    </tr>\n",
              "    <tr>\n",
              "      <th>3</th>\n",
              "      <td>001932631.tif</td>\n",
              "      <td>3</td>\n",
              "      <td>False</td>\n",
              "      <td>False</td>\n",
              "      <td>False</td>\n",
              "      <td>False</td>\n",
              "      <td>False</td>\n",
              "      <td>False</td>\n",
              "      <td>False</td>\n",
              "      <td>False</td>\n",
              "      <td>False</td>\n",
              "      <td>True</td>\n",
              "      <td>0</td>\n",
              "      <td>0</td>\n",
              "      <td>2019-06-12 13:48:45</td>\n",
              "      <td>other</td>\n",
              "      <td>1</td>\n",
              "    </tr>\n",
              "    <tr>\n",
              "      <th>4</th>\n",
              "      <td>001945868.tif</td>\n",
              "      <td>0</td>\n",
              "      <td>False</td>\n",
              "      <td>False</td>\n",
              "      <td>False</td>\n",
              "      <td>False</td>\n",
              "      <td>False</td>\n",
              "      <td>False</td>\n",
              "      <td>False</td>\n",
              "      <td>False</td>\n",
              "      <td>False</td>\n",
              "      <td>True</td>\n",
              "      <td>0</td>\n",
              "      <td>0</td>\n",
              "      <td>2019-06-12 13:48:47</td>\n",
              "      <td>other</td>\n",
              "      <td>1</td>\n",
              "    </tr>\n",
              "  </tbody>\n",
              "</table>\n",
              "</div>"
            ],
            "text/plain": [
              "       File Name  Part No  Crack  ...            Timestamp  PreviousClass  NoOfErrors\n",
              "0  001932631.tif        0  False  ...  2019-06-12 13:48:45          other           1\n",
              "1  001932631.tif        1  False  ...  2019-06-12 13:48:45          other           1\n",
              "2  001932631.tif        2  False  ...  2019-06-12 13:48:45          other           1\n",
              "3  001932631.tif        3  False  ...  2019-06-12 13:48:45          other           1\n",
              "4  001945868.tif        0  False  ...  2019-06-12 13:48:47          other           1\n",
              "\n",
              "[5 rows x 17 columns]"
            ]
          },
          "metadata": {},
          "execution_count": 17
        }
      ]
    },
    {
      "cell_type": "code",
      "metadata": {
        "id": "LFUdpMtCOJ_q",
        "colab": {
          "base_uri": "https://localhost:8080/"
        },
        "outputId": "ecafb655-bc03-45bd-abfe-0c17bfc04b19"
      },
      "source": [
        "labels[\"PreviousClass\"].unique()  # we don't need that any longer?"
      ],
      "execution_count": null,
      "outputs": [
        {
          "output_type": "execute_result",
          "data": {
            "text/plain": [
              "array(['other', 'patch', 'circle', 'splinter', 'stain', 'waferonpin',\n",
              "       'crack', 'scratch'], dtype=object)"
            ]
          },
          "metadata": {},
          "execution_count": 18
        }
      ]
    },
    {
      "cell_type": "markdown",
      "metadata": {
        "id": "mjHsIgaSOMoA"
      },
      "source": [
        "## **Meta-Data**"
      ]
    },
    {
      "cell_type": "code",
      "metadata": {
        "id": "yQymXrZ1OQK9",
        "colab": {
          "base_uri": "https://localhost:8080/",
          "height": 617
        },
        "outputId": "56f7edfd-dcfd-431c-aba1-0bf887687f81"
      },
      "source": [
        "meta = pd.read_csv(os.path.join(DIR_DATEN_01, meta_filename))\n",
        "meta"
      ],
      "execution_count": null,
      "outputs": [
        {
          "output_type": "execute_result",
          "data": {
            "text/html": [
              "<div>\n",
              "<style scoped>\n",
              "    .dataframe tbody tr th:only-of-type {\n",
              "        vertical-align: middle;\n",
              "    }\n",
              "\n",
              "    .dataframe tbody tr th {\n",
              "        vertical-align: top;\n",
              "    }\n",
              "\n",
              "    .dataframe thead th {\n",
              "        text-align: right;\n",
              "    }\n",
              "</style>\n",
              "<table border=\"1\" class=\"dataframe\">\n",
              "  <thead>\n",
              "    <tr style=\"text-align: right;\">\n",
              "      <th></th>\n",
              "      <th>file_name</th>\n",
              "      <th>wafer_id</th>\n",
              "      <th>gray_mean</th>\n",
              "      <th>class</th>\n",
              "      <th>NameBild</th>\n",
              "      <th>SUBSTRATEIDENT</th>\n",
              "      <th>TIMESTAMP_CTS</th>\n",
              "      <th>CTS_EFF</th>\n",
              "      <th>CTS_FF</th>\n",
              "      <th>CTS_VOC</th>\n",
              "      <th>CTS_ISC</th>\n",
              "      <th>CTS_RSER</th>\n",
              "      <th>CTS_RSH</th>\n",
              "      <th>CTS_IREV2_T</th>\n",
              "      <th>CTS_B2B_1</th>\n",
              "      <th>CTS_JOB_NR</th>\n",
              "      <th>CTS_EL_CRACK_COUNT</th>\n",
              "      <th>CTS_EL_DARKAREA_COUNT</th>\n",
              "    </tr>\n",
              "  </thead>\n",
              "  <tbody>\n",
              "    <tr>\n",
              "      <th>0</th>\n",
              "      <td>002152418.tif</td>\n",
              "      <td>2152418</td>\n",
              "      <td>183.47</td>\n",
              "      <td>Cracks</td>\n",
              "      <td>002152418.tif</td>\n",
              "      <td>11790109.0</td>\n",
              "      <td>2018-07-26 14:46:26</td>\n",
              "      <td>23.136937</td>\n",
              "      <td>0.814332</td>\n",
              "      <td>737.587</td>\n",
              "      <td>9.412589</td>\n",
              "      <td>4.987</td>\n",
              "      <td>4481.251483</td>\n",
              "      <td>0.331505</td>\n",
              "      <td>20.010000</td>\n",
              "      <td>20180726 Exp 66</td>\n",
              "      <td>0.0</td>\n",
              "      <td>0.0</td>\n",
              "    </tr>\n",
              "    <tr>\n",
              "      <th>1</th>\n",
              "      <td>001889692.tif</td>\n",
              "      <td>1889692</td>\n",
              "      <td>176.80</td>\n",
              "      <td>Cracks</td>\n",
              "      <td>001889692.tif</td>\n",
              "      <td>11232718.0</td>\n",
              "      <td>2018-02-27 13:19:22</td>\n",
              "      <td>23.041940</td>\n",
              "      <td>0.810728</td>\n",
              "      <td>735.176</td>\n",
              "      <td>9.445444</td>\n",
              "      <td>5.032</td>\n",
              "      <td>3471.378009</td>\n",
              "      <td>0.040560</td>\n",
              "      <td>35.639999</td>\n",
              "      <td>20180227 HD556</td>\n",
              "      <td>1.0</td>\n",
              "      <td>0.0</td>\n",
              "    </tr>\n",
              "    <tr>\n",
              "      <th>2</th>\n",
              "      <td>001897005.tif</td>\n",
              "      <td>1897005</td>\n",
              "      <td>177.04</td>\n",
              "      <td>Cracks</td>\n",
              "      <td>001897005.tif</td>\n",
              "      <td>11278998.0</td>\n",
              "      <td>2018-03-05 15:07:20</td>\n",
              "      <td>23.073799</td>\n",
              "      <td>0.811632</td>\n",
              "      <td>735.720</td>\n",
              "      <td>9.441592</td>\n",
              "      <td>4.906</td>\n",
              "      <td>3821.416372</td>\n",
              "      <td>0.021333</td>\n",
              "      <td>38.169998</td>\n",
              "      <td>20180305 HD547-4</td>\n",
              "      <td>0.0</td>\n",
              "      <td>0.0</td>\n",
              "    </tr>\n",
              "    <tr>\n",
              "      <th>3</th>\n",
              "      <td>001962325.tif</td>\n",
              "      <td>1962325</td>\n",
              "      <td>172.97</td>\n",
              "      <td>Cracks</td>\n",
              "      <td>001962325.tif</td>\n",
              "      <td>11403759.0</td>\n",
              "      <td>2018-04-04 11:41:30</td>\n",
              "      <td>22.571537</td>\n",
              "      <td>0.797088</td>\n",
              "      <td>734.655</td>\n",
              "      <td>9.417174</td>\n",
              "      <td>5.329</td>\n",
              "      <td>3016.940429</td>\n",
              "      <td>0.006562</td>\n",
              "      <td>38.720001</td>\n",
              "      <td>20180328 M2R</td>\n",
              "      <td>1.0</td>\n",
              "      <td>0.0</td>\n",
              "    </tr>\n",
              "    <tr>\n",
              "      <th>4</th>\n",
              "      <td>002152288.tif</td>\n",
              "      <td>2152288</td>\n",
              "      <td>173.58</td>\n",
              "      <td>Cracks</td>\n",
              "      <td>002152288.tif</td>\n",
              "      <td>11794609.0</td>\n",
              "      <td>2018-07-26 14:34:30</td>\n",
              "      <td>23.001560</td>\n",
              "      <td>0.810923</td>\n",
              "      <td>735.170</td>\n",
              "      <td>9.428756</td>\n",
              "      <td>5.170</td>\n",
              "      <td>1169.261436</td>\n",
              "      <td>0.182121</td>\n",
              "      <td>20.059999</td>\n",
              "      <td>20180726 Exp 66</td>\n",
              "      <td>0.0</td>\n",
              "      <td>0.0</td>\n",
              "    </tr>\n",
              "    <tr>\n",
              "      <th>...</th>\n",
              "      <td>...</td>\n",
              "      <td>...</td>\n",
              "      <td>...</td>\n",
              "      <td>...</td>\n",
              "      <td>...</td>\n",
              "      <td>...</td>\n",
              "      <td>...</td>\n",
              "      <td>...</td>\n",
              "      <td>...</td>\n",
              "      <td>...</td>\n",
              "      <td>...</td>\n",
              "      <td>...</td>\n",
              "      <td>...</td>\n",
              "      <td>...</td>\n",
              "      <td>...</td>\n",
              "      <td>...</td>\n",
              "      <td>...</td>\n",
              "      <td>...</td>\n",
              "    </tr>\n",
              "    <tr>\n",
              "      <th>6101</th>\n",
              "      <td>002126113.tif</td>\n",
              "      <td>2126113</td>\n",
              "      <td>213.27</td>\n",
              "      <td>gute_Wafer</td>\n",
              "      <td>002126113.tif</td>\n",
              "      <td>11734418.0</td>\n",
              "      <td>2018-07-02 11:44:45</td>\n",
              "      <td>23.665103</td>\n",
              "      <td>0.821231</td>\n",
              "      <td>744.152</td>\n",
              "      <td>9.462665</td>\n",
              "      <td>4.680</td>\n",
              "      <td>4500.504749</td>\n",
              "      <td>0.009221</td>\n",
              "      <td>43.840000</td>\n",
              "      <td>20180702 EXP41</td>\n",
              "      <td>0.0</td>\n",
              "      <td>0.0</td>\n",
              "    </tr>\n",
              "    <tr>\n",
              "      <th>6102</th>\n",
              "      <td>002160320.tif</td>\n",
              "      <td>2160320</td>\n",
              "      <td>172.81</td>\n",
              "      <td>gute_Wafer</td>\n",
              "      <td>002160320.tif</td>\n",
              "      <td>11825342.0</td>\n",
              "      <td>2018-08-02 10:34:09</td>\n",
              "      <td>22.769944</td>\n",
              "      <td>0.800344</td>\n",
              "      <td>734.057</td>\n",
              "      <td>9.471267</td>\n",
              "      <td>5.318</td>\n",
              "      <td>25349.092305</td>\n",
              "      <td>0.000851</td>\n",
              "      <td>19.879999</td>\n",
              "      <td>20180802 EXP 99</td>\n",
              "      <td>0.0</td>\n",
              "      <td>0.0</td>\n",
              "    </tr>\n",
              "    <tr>\n",
              "      <th>6103</th>\n",
              "      <td>002161033.tif</td>\n",
              "      <td>2161033</td>\n",
              "      <td>201.44</td>\n",
              "      <td>gute_Wafer</td>\n",
              "      <td>002161033.tif</td>\n",
              "      <td>11827179.0</td>\n",
              "      <td>2018-08-02 11:35:48</td>\n",
              "      <td>23.229798</td>\n",
              "      <td>0.811132</td>\n",
              "      <td>740.253</td>\n",
              "      <td>9.453416</td>\n",
              "      <td>4.889</td>\n",
              "      <td>14218.466321</td>\n",
              "      <td>0.001039</td>\n",
              "      <td>22.299999</td>\n",
              "      <td>20180802 EXP 99</td>\n",
              "      <td>0.0</td>\n",
              "      <td>0.0</td>\n",
              "    </tr>\n",
              "    <tr>\n",
              "      <th>6104</th>\n",
              "      <td>002161876.tif</td>\n",
              "      <td>2161876</td>\n",
              "      <td>194.77</td>\n",
              "      <td>gute_Wafer</td>\n",
              "      <td>002161876.tif</td>\n",
              "      <td>11807331.0</td>\n",
              "      <td>2018-08-03 12:47:42</td>\n",
              "      <td>23.060322</td>\n",
              "      <td>0.810989</td>\n",
              "      <td>736.246</td>\n",
              "      <td>9.435790</td>\n",
              "      <td>5.220</td>\n",
              "      <td>2525.808870</td>\n",
              "      <td>0.008307</td>\n",
              "      <td>26.870001</td>\n",
              "      <td>20180803 EXP 58</td>\n",
              "      <td>0.0</td>\n",
              "      <td>0.0</td>\n",
              "    </tr>\n",
              "    <tr>\n",
              "      <th>6105</th>\n",
              "      <td>002161769.tif</td>\n",
              "      <td>2161769</td>\n",
              "      <td>183.17</td>\n",
              "      <td>gute_Wafer</td>\n",
              "      <td>002161769.tif</td>\n",
              "      <td>11806845.0</td>\n",
              "      <td>2018-08-03 12:35:43</td>\n",
              "      <td>23.053969</td>\n",
              "      <td>0.812255</td>\n",
              "      <td>735.366</td>\n",
              "      <td>9.430334</td>\n",
              "      <td>4.984</td>\n",
              "      <td>3382.212480</td>\n",
              "      <td>0.019721</td>\n",
              "      <td>24.680000</td>\n",
              "      <td>20180803 EXP 58</td>\n",
              "      <td>0.0</td>\n",
              "      <td>0.0</td>\n",
              "    </tr>\n",
              "  </tbody>\n",
              "</table>\n",
              "<p>6106 rows × 18 columns</p>\n",
              "</div>"
            ],
            "text/plain": [
              "          file_name  wafer_id  ...  CTS_EL_CRACK_COUNT CTS_EL_DARKAREA_COUNT\n",
              "0     002152418.tif   2152418  ...                 0.0                   0.0\n",
              "1     001889692.tif   1889692  ...                 1.0                   0.0\n",
              "2     001897005.tif   1897005  ...                 0.0                   0.0\n",
              "3     001962325.tif   1962325  ...                 1.0                   0.0\n",
              "4     002152288.tif   2152288  ...                 0.0                   0.0\n",
              "...             ...       ...  ...                 ...                   ...\n",
              "6101  002126113.tif   2126113  ...                 0.0                   0.0\n",
              "6102  002160320.tif   2160320  ...                 0.0                   0.0\n",
              "6103  002161033.tif   2161033  ...                 0.0                   0.0\n",
              "6104  002161876.tif   2161876  ...                 0.0                   0.0\n",
              "6105  002161769.tif   2161769  ...                 0.0                   0.0\n",
              "\n",
              "[6106 rows x 18 columns]"
            ]
          },
          "metadata": {},
          "execution_count": 19
        }
      ]
    },
    {
      "cell_type": "code",
      "metadata": {
        "id": "Q6-xtJ2pOTm3",
        "colab": {
          "base_uri": "https://localhost:8080/"
        },
        "outputId": "cd2fc6b0-cf60-4f78-a03c-fa996783d447"
      },
      "source": [
        "meta[\"class\"].unique()"
      ],
      "execution_count": null,
      "outputs": [
        {
          "output_type": "execute_result",
          "data": {
            "text/plain": [
              "array(['Cracks', 'Flecken', 'Kratzer', 'low_level', 'Punkte',\n",
              "       'schlecht_positioniert', 'Sonstiges', 'Splitter_im_Tester',\n",
              "       'Verschmutzung', 'Wafer_auf_Pin', 'gute_Wafer'], dtype=object)"
            ]
          },
          "metadata": {},
          "execution_count": 20
        }
      ]
    },
    {
      "cell_type": "markdown",
      "metadata": {
        "id": "S8saJb3ZOZE_"
      },
      "source": [
        "## **Load, Select and Encode Images**"
      ]
    },
    {
      "cell_type": "code",
      "metadata": {
        "id": "UbFXue0gObud",
        "colab": {
          "base_uri": "https://localhost:8080/",
          "height": 36
        },
        "outputId": "04c0294a-1c3a-4880-c533-0a4bc403c10d"
      },
      "source": [
        "list(paths.list_images(DIR_WAFER_IMAGES))[0].split(os.path.sep)[-2]"
      ],
      "execution_count": null,
      "outputs": [
        {
          "output_type": "execute_result",
          "data": {
            "application/vnd.google.colaboratory.intrinsic+json": {
              "type": "string"
            },
            "text/plain": [
              "'displaced'"
            ]
          },
          "metadata": {},
          "execution_count": 21
        }
      ]
    },
    {
      "cell_type": "code",
      "metadata": {
        "id": "rTuXl_7GOdcc",
        "colab": {
          "base_uri": "https://localhost:8080/"
        },
        "outputId": "27acbe4d-0cce-4b44-fefc-e858e0e4e339"
      },
      "source": [
        "# get all the image paths\n",
        "image_paths = list(paths.list_images(DIR_WAFER_IMAGES))\n",
        "\n",
        "# create an empty DataFrame\n",
        "data = pd.DataFrame()\n",
        "\n",
        "for i, image_path in tqdm(enumerate(image_paths), total=len(image_paths)):\n",
        "    data.loc[i, 'label'] = image_path.split(os.path.sep)[-2]  # loading labels into DataFrame based on directory name\n",
        "    data.loc[i, 'image_path'] = image_path # loading image paths into DataFrame\n",
        "\n",
        "print(data.head())\n",
        "print('\\n')\n",
        "print(\"Unique classes: \", data.label.unique())"
      ],
      "execution_count": null,
      "outputs": [
        {
          "output_type": "stream",
          "text": [
            "100%|██████████| 5944/5944 [00:05<00:00, 1078.18it/s]"
          ],
          "name": "stderr"
        },
        {
          "output_type": "stream",
          "text": [
            "       label                                         image_path\n",
            "0  displaced  /content/drive/MyDrive/DEEPVIS/data/WaferImage...\n",
            "1  displaced  /content/drive/MyDrive/DEEPVIS/data/WaferImage...\n",
            "2  displaced  /content/drive/MyDrive/DEEPVIS/data/WaferImage...\n",
            "3  displaced  /content/drive/MyDrive/DEEPVIS/data/WaferImage...\n",
            "4  displaced  /content/drive/MyDrive/DEEPVIS/data/WaferImage...\n",
            "\n",
            "\n",
            "Unique classes:  ['displaced' 'low_level' 'crack' 'patch' 'scratch' 'circle' 'other'\n",
            " 'splinter' 'stain' 'waferonpin' 'good']\n"
          ],
          "name": "stdout"
        },
        {
          "output_type": "stream",
          "text": [
            "\n"
          ],
          "name": "stderr"
        }
      ]
    },
    {
      "cell_type": "code",
      "metadata": {
        "id": "l6C2WFcvZiSR",
        "colab": {
          "base_uri": "https://localhost:8080/"
        },
        "outputId": "358e805e-4bc8-4e32-e027-06dff8d9f67c"
      },
      "source": [
        "sel_classes = ['circle', 'crack', 'good', 'scratch', 'splinter', 'stain'] # selecting bounding boxes classes\n",
        "\n",
        "data = data[data['label'].isin(sel_classes)] # reducing DataFrame to the selected classes\n",
        "data.label.unique()\n",
        "\n",
        "lb = preprocessing.LabelEncoder() # encoding target labels with values between 0 and n_classes-1\n",
        "data['label'] = lb.fit_transform(data['label']) #  appling encoded labels to our DataFrame data\n",
        "\n",
        "print(data.head())"
      ],
      "execution_count": null,
      "outputs": [
        {
          "output_type": "stream",
          "text": [
            "      label                                         image_path\n",
            "1413      1  /content/drive/MyDrive/DEEPVIS/data/WaferImage...\n",
            "1414      1  /content/drive/MyDrive/DEEPVIS/data/WaferImage...\n",
            "1415      1  /content/drive/MyDrive/DEEPVIS/data/WaferImage...\n",
            "1416      1  /content/drive/MyDrive/DEEPVIS/data/WaferImage...\n",
            "1417      1  /content/drive/MyDrive/DEEPVIS/data/WaferImage...\n"
          ],
          "name": "stdout"
        }
      ]
    },
    {
      "cell_type": "code",
      "metadata": {
        "id": "2DTEpnmEVT0W",
        "colab": {
          "base_uri": "https://localhost:8080/"
        },
        "outputId": "16a89205-7532-48f5-a0fc-51becd689899"
      },
      "source": [
        "len(lb.classes_)"
      ],
      "execution_count": null,
      "outputs": [
        {
          "output_type": "execute_result",
          "data": {
            "text/plain": [
              "6"
            ]
          },
          "metadata": {},
          "execution_count": 24
        }
      ]
    },
    {
      "cell_type": "code",
      "metadata": {
        "id": "i7O9a1SVZ8Ap",
        "colab": {
          "base_uri": "https://localhost:8080/"
        },
        "outputId": "02a738a4-5ecd-406f-8be9-ef3433b2dfd7"
      },
      "source": [
        "mapping = dict(zip(lb.classes_, lb.transform(lb.classes_)))\n",
        "inverse_mapping = dict(zip(lb.transform(lb.classes_), lb.classes_))\n",
        "\n",
        "print(\"Mapping label to class:\")\n",
        "print('\\n')\n",
        "print(inverse_mapping)"
      ],
      "execution_count": null,
      "outputs": [
        {
          "output_type": "stream",
          "text": [
            "Mapping label to class:\n",
            "\n",
            "\n",
            "{0: 'circle', 1: 'crack', 2: 'good', 3: 'scratch', 4: 'splinter', 5: 'stain'}\n"
          ],
          "name": "stdout"
        }
      ]
    },
    {
      "cell_type": "code",
      "metadata": {
        "id": "6dmGXH7IQ5C7",
        "colab": {
          "base_uri": "https://localhost:8080/",
          "height": 282
        },
        "outputId": "920b0951-a8dc-4980-d0f6-3e4a1cbc1ccd"
      },
      "source": [
        "values = data.label.value_counts() # plotting the number of occurrences of each label\n",
        "classes = [inverse_mapping[i] for i in values.index]\n",
        "plt.barh(classes, values)\n",
        "\n",
        "# Add the data value on head of the bar\n",
        "#for value in plot:\n",
        "#    height = value.get_height()\n",
        "#    plt.text(value.get_x() + value.get_width()/2.,\n",
        "#             1.002*height,'%d' % int(height), ha='center', va='bottom')"
      ],
      "execution_count": null,
      "outputs": [
        {
          "output_type": "execute_result",
          "data": {
            "text/plain": [
              "<BarContainer object of 6 artists>"
            ]
          },
          "metadata": {},
          "execution_count": 26
        },
        {
          "output_type": "display_data",
          "data": {
            "image/png": "[encoded data removed]",
            "text/plain": [
              "<Figure size 432x288 with 1 Axes>"
            ]
          },
          "metadata": {
            "needs_background": "light"
          }
        }
      ]
    },
    {
      "cell_type": "markdown",
      "metadata": {
        "id": "BHCJr5IFDctF"
      },
      "source": [
        "# Prepare Dataset into Train and Val and and Test (60:20:20)\n",
        "\n"
      ]
    },
    {
      "cell_type": "code",
      "metadata": {
        "id": "5Yed9nTLUVXJ",
        "colab": {
          "base_uri": "https://localhost:8080/"
        },
        "outputId": "3ad21be8-12f2-4eae-9127-0de309c76b58"
      },
      "source": [
        "X = data.image_path\n",
        "y = data.label\n",
        "\n",
        "n_splits = 1  # A single split in this case\n",
        "sss_test = StratifiedShuffleSplit(n_splits=n_splits, test_size=0.20, random_state=42) \n",
        "\n",
        "for train_val_index, test_index in sss_test.split(X, y):\n",
        "  X_train_val, X_test = X.iloc[train_val_index], X.iloc[test_index]\n",
        "  y_train_val, y_test = y.iloc[train_val_index], y.iloc[test_index]\n",
        "\n",
        "from sklearn.model_selection import StratifiedKFold\n",
        "\n",
        "k_folds_splits = 5\n",
        "\n",
        "skf = StratifiedKFold(n_splits=k_folds_splits, random_state=42)\n",
        "#skf.get_n_splits(X_train_val, y_train_val)\n",
        "\n",
        "print(skf)\n",
        "\n",
        "k_folds_train = {}\n",
        "k_folds_val = {}\n",
        "\n",
        "y_train_val_iter = y_train_val.copy()\n",
        "\n",
        "i = 1\n",
        "for train_index, val_index in skf.split(X_train_val, y_train_val_iter.astype('int')):\n",
        "  # print(\"TRAIN:\", train_index, \"Val:\", val_index)\n",
        "  X_train, X_val = X_train_val.iloc[train_index], X_train_val.iloc[val_index]\n",
        "  y_train, y_val = y_train_val.iloc[train_index], y_train_val.iloc[val_index]\n",
        "  k_folds_train[f'{i}-fold'] = [X_train, y_train]\n",
        "  k_folds_val[f'{i}-fold'] = [X_val, y_val]\n",
        "  i += 1"
      ],
      "execution_count": null,
      "outputs": [
        {
          "output_type": "stream",
          "text": [
            "StratifiedKFold(n_splits=5, random_state=42, shuffle=False)\n"
          ],
          "name": "stdout"
        },
        {
          "output_type": "stream",
          "text": [
            "/usr/local/lib/python3.7/dist-packages/sklearn/model_selection/_split.py:296: FutureWarning: Setting a random_state has no effect since shuffle is False. This will raise an error in 0.24. You should leave random_state to its default (None), or set shuffle=True.\n",
            "  FutureWarning\n"
          ],
          "name": "stderr"
        }
      ]
    },
    {
      "cell_type": "code",
      "metadata": {
        "id": "IynS-DyeOQD-",
        "colab": {
          "base_uri": "https://localhost:8080/"
        },
        "outputId": "b25adb0c-3c02-46f9-df3f-02d0ef145f09"
      },
      "source": [
        "print(len(X), len(y))"
      ],
      "execution_count": null,
      "outputs": [
        {
          "output_type": "stream",
          "text": [
            "3264 3264\n"
          ],
          "name": "stdout"
        }
      ]
    },
    {
      "cell_type": "code",
      "metadata": {
        "id": "uysrNZjwUhRA",
        "colab": {
          "base_uri": "https://localhost:8080/"
        },
        "outputId": "83c187eb-1ee6-4955-f679-9a31f33de694"
      },
      "source": [
        "for k in range(k_folds_splits):\n",
        "  print(f'Train {k+1}-k-fold - Values', len(list(k_folds_train.values())[k][0]))\n",
        "  print(f'Train {k+1}-k-fold - Labels', len(list(k_folds_train.values())[k][1]))\n",
        "  print(f'Val {k+1}-k-fold - Values', len(list(k_folds_val.values())[k][0]))\n",
        "  print(f'Val {k+1}-k-fold - Labels', len(list(k_folds_val.values())[k][1]))\n",
        "  print('\\n')"
      ],
      "execution_count": null,
      "outputs": [
        {
          "output_type": "stream",
          "text": [
            "Train 1-k-fold - Values 2088\n",
            "Train 1-k-fold - Labels 2088\n",
            "Val 1-k-fold - Values 523\n",
            "Val 1-k-fold - Labels 523\n",
            "\n",
            "\n",
            "Train 2-k-fold - Values 2089\n",
            "Train 2-k-fold - Labels 2089\n",
            "Val 2-k-fold - Values 522\n",
            "Val 2-k-fold - Labels 522\n",
            "\n",
            "\n",
            "Train 3-k-fold - Values 2089\n",
            "Train 3-k-fold - Labels 2089\n",
            "Val 3-k-fold - Values 522\n",
            "Val 3-k-fold - Labels 522\n",
            "\n",
            "\n",
            "Train 4-k-fold - Values 2089\n",
            "Train 4-k-fold - Labels 2089\n",
            "Val 4-k-fold - Values 522\n",
            "Val 4-k-fold - Labels 522\n",
            "\n",
            "\n",
            "Train 5-k-fold - Values 2089\n",
            "Train 5-k-fold - Labels 2089\n",
            "Val 5-k-fold - Values 522\n",
            "Val 5-k-fold - Labels 522\n",
            "\n",
            "\n"
          ],
          "name": "stdout"
        }
      ]
    },
    {
      "cell_type": "markdown",
      "metadata": {
        "id": "rXWZC0DZFVcy"
      },
      "source": [
        "Sanity Check"
      ]
    },
    {
      "cell_type": "code",
      "metadata": {
        "colab": {
          "base_uri": "https://localhost:8080/"
        },
        "id": "fb8m9VeiFFOE",
        "outputId": "47407adc-f367-45dd-bb07-2230e27d1679"
      },
      "source": [
        "# check if split correct\n",
        "print(len(X_train))\n",
        "print(len(y_train))\n",
        "print(len(X_val))\n",
        "print(len(y_val))\n",
        "print(len(X_test))\n",
        "print(len(y_test))"
      ],
      "execution_count": null,
      "outputs": [
        {
          "output_type": "stream",
          "text": [
            "2089\n",
            "2089\n",
            "522\n",
            "522\n",
            "653\n",
            "653\n"
          ],
          "name": "stdout"
        }
      ]
    },
    {
      "cell_type": "code",
      "metadata": {
        "colab": {
          "base_uri": "https://localhost:8080/",
          "height": 496
        },
        "id": "2NyN0cJcFy5o",
        "outputId": "d81e7e12-9227-4029-8940-f35d88330d94"
      },
      "source": [
        "y_train_val.value_counts().plot(kind='bar', figsize=(14, 8)) # plotting the number of occurrences of each label"
      ],
      "execution_count": null,
      "outputs": [
        {
          "output_type": "execute_result",
          "data": {
            "text/plain": [
              "<matplotlib.axes._subplots.AxesSubplot at 0x7fcb6aceb2d0>"
            ]
          },
          "metadata": {},
          "execution_count": 31
        },
        {
          "output_type": "display_data",
          "data": {
            "image/png": "[encoded data removed]",
            "text/plain": [
              "<Figure size 1008x576 with 1 Axes>"
            ]
          },
          "metadata": {
            "needs_background": "light"
          }
        }
      ]
    },
    {
      "cell_type": "code",
      "metadata": {
        "colab": {
          "base_uri": "https://localhost:8080/",
          "height": 496
        },
        "id": "_TNti1UfF9aF",
        "outputId": "fe676d28-7dd3-4d8d-b53c-70e6aa606917"
      },
      "source": [
        "y_test.value_counts().plot(kind='bar', figsize=(14, 8)) # plotting the number of occurrences of each label"
      ],
      "execution_count": null,
      "outputs": [
        {
          "output_type": "execute_result",
          "data": {
            "text/plain": [
              "<matplotlib.axes._subplots.AxesSubplot at 0x7fcb6c449f90>"
            ]
          },
          "metadata": {},
          "execution_count": 32
        },
        {
          "output_type": "display_data",
          "data": {
            "image/png": "[encoded data removed]",
            "text/plain": [
              "<Figure size 1008x576 with 1 Axes>"
            ]
          },
          "metadata": {
            "needs_background": "light"
          }
        }
      ]
    },
    {
      "cell_type": "markdown",
      "metadata": {
        "id": "OnK5e7AoLOqN"
      },
      "source": [
        "# Data Loaders"
      ]
    },
    {
      "cell_type": "code",
      "metadata": {
        "id": "2z79LNvBLalB"
      },
      "source": [
        "from torch.utils.data import Dataset, DataLoader\n",
        "from PIL import Image"
      ],
      "execution_count": null,
      "outputs": []
    },
    {
      "cell_type": "code",
      "metadata": {
        "id": "evscwIrCNRbx"
      },
      "source": [
        "def load_image(infilename, infilegrayscale):\n",
        "    \"\"\"\n",
        "    This function loads an image into memory when you give it the path of the image\n",
        "    \"\"\"\n",
        "    if infilegrayscale:\n",
        "      img = Image.open(infilename).convert('L')\n",
        "    else:\n",
        "      img = Image.open(infilename)\n",
        "    #data = np.asarray(img)\n",
        "    return img"
      ],
      "execution_count": null,
      "outputs": []
    },
    {
      "cell_type": "code",
      "metadata": {
        "id": "i7sNStzvMbV5"
      },
      "source": [
        "class WaferDataset(Dataset):\n",
        "    def __init__(self, path, labels, model=None):\n",
        "        self.X = path\n",
        "        self.y = labels\n",
        "        self.model = model\n",
        "        if self.model in [\"BaseNet\", \"RegNet\", \"VicNet\"]:\n",
        "          self.infilegrayscale = True\n",
        "        else:\n",
        "          self.infilegrayscale = False\n",
        "\n",
        "        # preprocessing\n",
        "        if model in [\"ResNet18\", \"VGG16\"]: # validation\n",
        "            self.preprocess = transforms.Compose([\n",
        "              transforms.Resize(244),\n",
        "              transforms.CenterCrop(224),\n",
        "              transforms.ToTensor(),\n",
        "              transforms.Lambda(lambda x: x.repeat(3, 1, 1)),  # duplicate channel as Resnet18 based on RGB\n",
        "              transforms.Normalize(mean=[0.485, 0.456, 0.406], std=[0.229, 0.224, 0.225]),\n",
        "              # Data augmentation\n",
        "              transforms.RandomHorizontalFlip(p=0.5),\n",
        "              transforms.RandomRotation(30),\n",
        "              transforms.RandomVerticalFlip(p=0.5)\n",
        "            ])\n",
        "        elif model in [\"BaseNet\", \"RegNet\", \"VicNet\", \"MaxNet\"]:\n",
        "          self.preprocess = transforms.Compose([\n",
        "              transforms.Resize(244),\n",
        "              transforms.CenterCrop(224),\n",
        "              transforms.ToTensor(),\n",
        "              # Data augmentation\n",
        "              transforms.RandomHorizontalFlip(p=0.5),\n",
        "              transforms.RandomRotation(30),\n",
        "              transforms.RandomVerticalFlip(p=0.5)\n",
        "            ])\n",
        "        \n",
        "    def __len__(self):\n",
        "        return (len(self.X))\n",
        "    \n",
        "    def __getitem__(self, i):\n",
        "        image = load_image(self.X.iloc[i], self.infilegrayscale)\n",
        "        label = self.y.iloc[i]\n",
        "        if self.model is not None:\n",
        "          image = self.preprocess(image)\n",
        "        # print(image.shape)\n",
        "        return torch.tensor(image, dtype=torch.float), torch.tensor(label, dtype=torch.long)"
      ],
      "execution_count": null,
      "outputs": []
    },
    {
      "cell_type": "markdown",
      "metadata": {
        "id": "MP9gy1lucgvo"
      },
      "source": [
        "# Models"
      ]
    },
    {
      "cell_type": "markdown",
      "metadata": {
        "id": "05jsA8ZDVrTc"
      },
      "source": [
        "## Unregularized Model"
      ]
    },
    {
      "cell_type": "code",
      "metadata": {
        "id": "Tfaq69uiVzYn"
      },
      "source": [
        "import torch.nn as nn\n",
        "import torch.nn.functional as F\n",
        "import torch.optim as optim\n",
        "import matplotlib.pyplot as plt"
      ],
      "execution_count": null,
      "outputs": []
    },
    {
      "cell_type": "code",
      "metadata": {
        "id": "6UtQ5LQ5V00M"
      },
      "source": [
        "from torchvision import models"
      ],
      "execution_count": null,
      "outputs": []
    },
    {
      "cell_type": "code",
      "metadata": {
        "id": "9VhrBUwAVtAu"
      },
      "source": [
        "class BaseNet(nn.Module):\n",
        "  def __init__(self, input_shape=(1, 224, 224)):\n",
        "    super().__init__()\n",
        "    # Here, we define all the weights for the neural network, they are abstracted by layers. Internally however, they are represented by Pytorch tensors.\n",
        "    self.conv1 = nn.Conv2d(in_channels=1, out_channels=32, kernel_size=3)\n",
        "    self.conv2 = nn.Conv2d(in_channels=32, out_channels=64, kernel_size=3)\n",
        "    self.conv3 = nn.Conv2d(in_channels=64, out_channels=128, kernel_size=3)\n",
        "\n",
        "    self.pool = nn.MaxPool2d(kernel_size=2)\n",
        "\n",
        "    n_size = self._get_conv_output(input_shape)\n",
        "\n",
        "    self.fc1 = nn.Linear(in_features=n_size, out_features=config['fc_layer_size'])\n",
        "    self.fc2 = nn.Linear(in_features=config['fc_layer_size'], out_features=len(lb.classes_))\n",
        "\n",
        "  def _get_conv_output(self, shape):\n",
        "    batch_size = 1\n",
        "    input = torch.autograd.Variable(torch.rand(batch_size, *shape))\n",
        "    output_feat = self._forward_features(input)\n",
        "    n_size = output_feat.data.view(batch_size, -1).size(1)\n",
        "    return n_size\n",
        "  \n",
        "  def _forward_features(self, x):\n",
        "    x = self.pool(F.relu(self.conv1(x)))\n",
        "    x = self.pool(F.relu(self.conv2(x)))\n",
        "    x = self.pool(F.relu(self.conv3(x)))\n",
        "    return x\n",
        "  \n",
        "  def forward(self, x):\n",
        "      # Here, we define how an input x is translated into an output. In our linear example, this was simply (x^T * w), now it becomes more complex but\n",
        "      # we don't have to care about that (gradients etc. are taken care of by Pytorch).\n",
        "      x = self._forward_features(x)\n",
        "      # You can always print shapes and tensors here. This is very very helpful to debug.\n",
        "      # print(\"x.shape:\", x.shape)\n",
        "      x = x.view(x.size(0), -1)\n",
        "      x = F.relu(self.fc1(x))\n",
        "      x = self.fc2(x)\n",
        "      return x"
      ],
      "execution_count": null,
      "outputs": []
    },
    {
      "cell_type": "code",
      "metadata": {
        "id": "Ulm4do8xV3Cg",
        "colab": {
          "base_uri": "https://localhost:8080/"
        },
        "outputId": "4444ec59-7c03-41ec-b658-801366019535"
      },
      "source": [
        "basenet = BaseNet()\n",
        "basenet = basenet.to(runtime)\n",
        "\n",
        "print(basenet)"
      ],
      "execution_count": null,
      "outputs": [
        {
          "output_type": "stream",
          "text": [
            "/usr/local/lib/python3.7/dist-packages/torch/nn/functional.py:718: UserWarning: Named tensors and all their associated APIs are an experimental feature and subject to change. Please do not use them for anything important until they are released as stable. (Triggered internally at  /pytorch/c10/core/TensorImpl.h:1156.)\n",
            "  return torch.max_pool2d(input, kernel_size, stride, padding, dilation, ceil_mode)\n"
          ],
          "name": "stderr"
        },
        {
          "output_type": "stream",
          "text": [
            "BaseNet(\n",
            "  (conv1): Conv2d(1, 32, kernel_size=(3, 3), stride=(1, 1))\n",
            "  (conv2): Conv2d(32, 64, kernel_size=(3, 3), stride=(1, 1))\n",
            "  (conv3): Conv2d(64, 128, kernel_size=(3, 3), stride=(1, 1))\n",
            "  (pool): MaxPool2d(kernel_size=2, stride=2, padding=0, dilation=1, ceil_mode=False)\n",
            "  (fc1): Linear(in_features=86528, out_features=256, bias=True)\n",
            "  (fc2): Linear(in_features=256, out_features=6, bias=True)\n",
            ")\n"
          ],
          "name": "stdout"
        }
      ]
    },
    {
      "cell_type": "markdown",
      "metadata": {
        "id": "v5EgedoI5tcb"
      },
      "source": [
        "## Regularized Model"
      ]
    },
    {
      "cell_type": "code",
      "metadata": {
        "id": "_hp1lfTQM_NG"
      },
      "source": [
        "import torch.nn as nn\n",
        "import torch.nn.functional as F\n",
        "import torch.optim as optim\n",
        "import matplotlib.pyplot as plt"
      ],
      "execution_count": null,
      "outputs": []
    },
    {
      "cell_type": "code",
      "metadata": {
        "id": "kyFiVmYk5vSJ"
      },
      "source": [
        "class RegNet(nn.Module):\n",
        "  def __init__(self, input_shape=(1, 224, 224)):\n",
        "    super().__init__()\n",
        "    # Here, we define all the weights for the neural network, they are abstracted by layers. Internally however, they are represented by Pytorch tensors.\n",
        "    self.conv1 = nn.Conv2d(in_channels=1, out_channels=32, kernel_size=3)\n",
        "    self.batchnorm1 = nn.BatchNorm2d(32)\n",
        "    self.conv2 = nn.Conv2d(in_channels=32, out_channels=64, kernel_size=3)\n",
        "    self.batchnorm2 = nn.BatchNorm2d(64)\n",
        "    self.conv3 = nn.Conv2d(in_channels=64, out_channels=128, kernel_size=3)\n",
        "    self.batchnorm3 = nn.BatchNorm2d(128)\n",
        "\n",
        "    self.pool = nn.MaxPool2d(kernel_size=2)\n",
        "\n",
        "    n_size = self._get_conv_output(input_shape)\n",
        "\n",
        "    self.fc1 = nn.Linear(in_features=n_size, out_features=config['fc_layer_size'])\n",
        "    self.fc2 = nn.Linear(in_features=config['fc_layer_size'], out_features=len(lb.classes_))\n",
        "\n",
        "    self.dropout = nn.Dropout(config['dropout'])\n",
        "\n",
        "  def _get_conv_output(self, shape):\n",
        "    batch_size = 1\n",
        "    input = torch.autograd.Variable(torch.rand(batch_size, *shape))\n",
        "    output_feat = self._forward_features(input)\n",
        "    n_size = output_feat.data.view(batch_size, -1).size(1)\n",
        "    return n_size\n",
        "  \n",
        "  def _forward_features(self, x):\n",
        "    x = self.pool(F.relu(self.conv1(x)))\n",
        "    x = self.pool(F.relu(self.conv2(x)))\n",
        "    x = self.pool(F.relu(self.conv3(x)))\n",
        "    return x\n",
        "  \n",
        "  def forward(self, x):\n",
        "      # Here, we define how an input x is translated into an output. In our linear example, this was simply (x^T * w), now it becomes more complex but\n",
        "      # we don't have to care about that (gradients etc. are taken care of by Pytorch).\n",
        "      x = self._forward_features(x)\n",
        "      # You can always print shapes and tensors here. This is very very helpful to debug.\n",
        "      # print(\"x.shape:\", x.shape)\n",
        "      x = x.view(x.size(0), -1)\n",
        "      x = F.relu(self.fc1(x))\n",
        "      x = self.dropout(x)\n",
        "      x = self.fc2(x)\n",
        "      return x"
      ],
      "execution_count": null,
      "outputs": []
    },
    {
      "cell_type": "code",
      "metadata": {
        "id": "3D_NlFSi7cfv",
        "colab": {
          "base_uri": "https://localhost:8080/"
        },
        "outputId": "5736a55e-60f9-4f26-f10b-235f8656db5d"
      },
      "source": [
        "regnet = RegNet()\n",
        "regnet = regnet.to(runtime)\n",
        "\n",
        "print(regnet)"
      ],
      "execution_count": null,
      "outputs": [
        {
          "output_type": "stream",
          "text": [
            "RegNet(\n",
            "  (conv1): Conv2d(1, 32, kernel_size=(3, 3), stride=(1, 1))\n",
            "  (batchnorm1): BatchNorm2d(32, eps=1e-05, momentum=0.1, affine=True, track_running_stats=True)\n",
            "  (conv2): Conv2d(32, 64, kernel_size=(3, 3), stride=(1, 1))\n",
            "  (batchnorm2): BatchNorm2d(64, eps=1e-05, momentum=0.1, affine=True, track_running_stats=True)\n",
            "  (conv3): Conv2d(64, 128, kernel_size=(3, 3), stride=(1, 1))\n",
            "  (batchnorm3): BatchNorm2d(128, eps=1e-05, momentum=0.1, affine=True, track_running_stats=True)\n",
            "  (pool): MaxPool2d(kernel_size=2, stride=2, padding=0, dilation=1, ceil_mode=False)\n",
            "  (fc1): Linear(in_features=86528, out_features=256, bias=True)\n",
            "  (fc2): Linear(in_features=256, out_features=6, bias=True)\n",
            "  (dropout): Dropout(p=0, inplace=False)\n",
            ")\n"
          ],
          "name": "stdout"
        }
      ]
    },
    {
      "cell_type": "markdown",
      "metadata": {
        "id": "U099hsjBpxOA"
      },
      "source": [
        "## VicNet"
      ]
    },
    {
      "cell_type": "code",
      "metadata": {
        "id": "50X-zroWpw3K"
      },
      "source": [
        "class resBlock(nn.Module):\n",
        "    def __init__(self, in_channels, out_channels, kernel_size=3, stride=1):\n",
        "      super().__init__()\n",
        "      self.in_channels = in_channels\n",
        "      self.out_channels = out_channels\n",
        "      self.kernel_size = kernel_size\n",
        "      self.stride = stride\n",
        "      self.downsample = None\n",
        "\n",
        "      if stride != 1 or in_channels != out_channels:\n",
        "        self.downsample = nn.Sequential(nn.Conv2d(self.in_channels, self.out_channels, 1, self.stride),\n",
        "                                        nn.BatchNorm2d(self.out_channels))\n",
        "\n",
        "      self.block = nn.Sequential(nn.Conv2d(self.in_channels, self.out_channels, self.kernel_size, self.stride, padding=1),\n",
        "                                nn.BatchNorm2d(self.out_channels),\n",
        "                                nn.ReLU(),\n",
        "                                nn.Conv2d(self.out_channels, self.out_channels, self.kernel_size, 1, padding=1),\n",
        "                                nn.BatchNorm2d(self.out_channels))\n",
        "      self.relu = nn.ReLU()\n",
        "\n",
        "                               \n",
        "    def forward(self, x):\n",
        "      skip = x\n",
        "      x = self.block(x)\n",
        "      if self.downsample is not None:\n",
        "        skip = self.downsample(skip)\n",
        "      x += skip\n",
        "      x = self.relu(x)\n",
        "      return x"
      ],
      "execution_count": null,
      "outputs": []
    },
    {
      "cell_type": "code",
      "metadata": {
        "id": "IfInPwMQqYTK"
      },
      "source": [
        "class VicNet(nn.Module):\n",
        "  def __init__(self, input_shape=(1, 224, 224)):\n",
        "    super().__init__()\n",
        "    self.conv1 = nn.Conv2d(in_channels=1, out_channels=16, kernel_size=3)\n",
        "    self.conv2 = nn.Conv2d(in_channels=16, out_channels=32, kernel_size=3)\n",
        "    self.max_pool = nn.MaxPool2d(kernel_size=2)\n",
        "    self.dropout = nn.Dropout2d(config['dropout'])\n",
        "    self.block1 = resBlock(in_channels=32, out_channels=32)\n",
        "    self.block2 = resBlock(in_channels=32, out_channels=64, stride=2)\n",
        "    self.block3 = resBlock(in_channels=64, out_channels=128, stride=2)\n",
        "    self.block4 = resBlock(in_channels=128, out_channels=256)\n",
        "    self.avg_pool = nn.AvgPool2d(kernel_size=2)\n",
        "\n",
        "    n_size = self._get_conv_output(input_shape)\n",
        "\n",
        "    self.fc1 = nn.Linear(in_features=n_size, out_features=config['fc_layer_size'])\n",
        "    self.fc2 = nn.Linear(in_features=config['fc_layer_size'], out_features=len(sel_classes))\n",
        "\n",
        "  def _get_conv_output(self, shape):\n",
        "    batch_size = 1\n",
        "    input = torch.autograd.Variable(torch.rand(batch_size, *shape))\n",
        "    output_feat = self._forward_features(input)\n",
        "    n_size = output_feat.data.view(batch_size, -1).size(1)\n",
        "    return n_size\n",
        "  \n",
        "  def _forward_features(self, x):\n",
        "    x = self.max_pool(F.relu(self.conv1(x)))\n",
        "    x = self.max_pool(F.relu(self.conv2(x)))\n",
        "    x = self.block1(x)\n",
        "    x = self.block2(x)\n",
        "    x = self.block3(x)\n",
        "    x = self.block4(x)\n",
        "    x = self.avg_pool(x)\n",
        "    return x\n",
        "\n",
        "  def forward(self, x):\n",
        "    x = self._forward_features(x)\n",
        "    x = torch.flatten(x, 1)\n",
        "    x = F.relu(self.fc1(x))\n",
        "    x = self.fc2(x)\n",
        "    return x"
      ],
      "execution_count": null,
      "outputs": []
    },
    {
      "cell_type": "code",
      "metadata": {
        "id": "0TB8u-Ges9nm",
        "colab": {
          "base_uri": "https://localhost:8080/"
        },
        "outputId": "9933826f-9997-4e80-bd98-9fa327e4de2b"
      },
      "source": [
        "vicnet = VicNet()\n",
        "vicnet = vicnet.to(runtime)\n",
        "\n",
        "print(vicnet)"
      ],
      "execution_count": null,
      "outputs": [
        {
          "output_type": "stream",
          "text": [
            "VicNet(\n",
            "  (conv1): Conv2d(1, 16, kernel_size=(3, 3), stride=(1, 1))\n",
            "  (conv2): Conv2d(16, 32, kernel_size=(3, 3), stride=(1, 1))\n",
            "  (max_pool): MaxPool2d(kernel_size=2, stride=2, padding=0, dilation=1, ceil_mode=False)\n",
            "  (dropout): Dropout2d(p=0, inplace=False)\n",
            "  (block1): resBlock(\n",
            "    (block): Sequential(\n",
            "      (0): Conv2d(32, 32, kernel_size=(3, 3), stride=(1, 1), padding=(1, 1))\n",
            "      (1): BatchNorm2d(32, eps=1e-05, momentum=0.1, affine=True, track_running_stats=True)\n",
            "      (2): ReLU()\n",
            "      (3): Conv2d(32, 32, kernel_size=(3, 3), stride=(1, 1), padding=(1, 1))\n",
            "      (4): BatchNorm2d(32, eps=1e-05, momentum=0.1, affine=True, track_running_stats=True)\n",
            "    )\n",
            "    (relu): ReLU()\n",
            "  )\n",
            "  (block2): resBlock(\n",
            "    (downsample): Sequential(\n",
            "      (0): Conv2d(32, 64, kernel_size=(1, 1), stride=(2, 2))\n",
            "      (1): BatchNorm2d(64, eps=1e-05, momentum=0.1, affine=True, track_running_stats=True)\n",
            "    )\n",
            "    (block): Sequential(\n",
            "      (0): Conv2d(32, 64, kernel_size=(3, 3), stride=(2, 2), padding=(1, 1))\n",
            "      (1): BatchNorm2d(64, eps=1e-05, momentum=0.1, affine=True, track_running_stats=True)\n",
            "      (2): ReLU()\n",
            "      (3): Conv2d(64, 64, kernel_size=(3, 3), stride=(1, 1), padding=(1, 1))\n",
            "      (4): BatchNorm2d(64, eps=1e-05, momentum=0.1, affine=True, track_running_stats=True)\n",
            "    )\n",
            "    (relu): ReLU()\n",
            "  )\n",
            "  (block3): resBlock(\n",
            "    (downsample): Sequential(\n",
            "      (0): Conv2d(64, 128, kernel_size=(1, 1), stride=(2, 2))\n",
            "      (1): BatchNorm2d(128, eps=1e-05, momentum=0.1, affine=True, track_running_stats=True)\n",
            "    )\n",
            "    (block): Sequential(\n",
            "      (0): Conv2d(64, 128, kernel_size=(3, 3), stride=(2, 2), padding=(1, 1))\n",
            "      (1): BatchNorm2d(128, eps=1e-05, momentum=0.1, affine=True, track_running_stats=True)\n",
            "      (2): ReLU()\n",
            "      (3): Conv2d(128, 128, kernel_size=(3, 3), stride=(1, 1), padding=(1, 1))\n",
            "      (4): BatchNorm2d(128, eps=1e-05, momentum=0.1, affine=True, track_running_stats=True)\n",
            "    )\n",
            "    (relu): ReLU()\n",
            "  )\n",
            "  (block4): resBlock(\n",
            "    (downsample): Sequential(\n",
            "      (0): Conv2d(128, 256, kernel_size=(1, 1), stride=(1, 1))\n",
            "      (1): BatchNorm2d(256, eps=1e-05, momentum=0.1, affine=True, track_running_stats=True)\n",
            "    )\n",
            "    (block): Sequential(\n",
            "      (0): Conv2d(128, 256, kernel_size=(3, 3), stride=(1, 1), padding=(1, 1))\n",
            "      (1): BatchNorm2d(256, eps=1e-05, momentum=0.1, affine=True, track_running_stats=True)\n",
            "      (2): ReLU()\n",
            "      (3): Conv2d(256, 256, kernel_size=(3, 3), stride=(1, 1), padding=(1, 1))\n",
            "      (4): BatchNorm2d(256, eps=1e-05, momentum=0.1, affine=True, track_running_stats=True)\n",
            "    )\n",
            "    (relu): ReLU()\n",
            "  )\n",
            "  (avg_pool): AvgPool2d(kernel_size=2, stride=2, padding=0)\n",
            "  (fc1): Linear(in_features=12544, out_features=256, bias=True)\n",
            "  (fc2): Linear(in_features=256, out_features=6, bias=True)\n",
            ")\n"
          ],
          "name": "stdout"
        }
      ]
    },
    {
      "cell_type": "markdown",
      "metadata": {
        "id": "nXqeCtojCJ7R"
      },
      "source": [
        "## MaxNet"
      ]
    },
    {
      "cell_type": "code",
      "metadata": {
        "id": "ZU0Q_s6GCJV6"
      },
      "source": [
        "class Flatten(nn.Module):\n",
        "    def forward(self, input):\n",
        "        return input.view(input.size(0), -1)\n",
        "\n",
        "\n",
        "class ConnectionBlock(nn.Module):\n",
        "    def __init__(self, in_c, out_c, stride):\n",
        "        super().__init__()\n",
        "\n",
        "        self.pathA = nn.Sequential(\n",
        "            nn.Conv2d(\n",
        "                in_channels=in_c,\n",
        "                out_channels=out_c,\n",
        "                kernel_size=3,\n",
        "                stride=stride,\n",
        "                padding=1),\n",
        "            nn.Dropout2d(config['dropout']),\n",
        "            nn.BatchNorm2d(num_features=out_c),\n",
        "            nn.ReLU(),\n",
        "            nn.Conv2d(\n",
        "                in_channels=out_c,\n",
        "                out_channels=out_c,\n",
        "                kernel_size=3,\n",
        "                stride=1,\n",
        "                padding=1),\n",
        "            nn.Dropout2d(config['dropout']),\n",
        "            nn.BatchNorm2d(num_features=out_c),\n",
        "            nn.ReLU())\n",
        "\n",
        "        self.pathB = nn.Sequential(\n",
        "            nn.Conv2d(\n",
        "                in_channels=in_c,\n",
        "                out_channels=out_c,\n",
        "                kernel_size=5,\n",
        "                stride=stride,\n",
        "                padding=2),\n",
        "            nn.Dropout2d(config['dropout']),\n",
        "            nn.BatchNorm2d(num_features=out_c),\n",
        "            nn.ReLU(),\n",
        "            nn.Conv2d(\n",
        "                in_channels=out_c,\n",
        "                out_channels=out_c,\n",
        "                kernel_size=5,\n",
        "                stride=1,\n",
        "                padding=2),\n",
        "            nn.Dropout2d(config['dropout']),\n",
        "            nn.BatchNorm2d(num_features=out_c),\n",
        "            nn.ReLU())\n",
        "\n",
        "        self.pathC = nn.Sequential(\n",
        "            nn.Conv2d(\n",
        "                in_channels=in_c,\n",
        "                out_channels=out_c,\n",
        "                kernel_size=9,\n",
        "                stride=stride,\n",
        "                padding=4),\n",
        "            nn.Dropout2d(config['dropout']),\n",
        "            nn.BatchNorm2d(num_features=out_c),\n",
        "            nn.ReLU(),\n",
        "            nn.Conv2d(\n",
        "                in_channels=out_c,\n",
        "                out_channels=out_c,\n",
        "                kernel_size=9,\n",
        "                stride=1,\n",
        "                padding=4),\n",
        "            nn.Dropout2d(config['dropout']),\n",
        "            nn.BatchNorm2d(num_features=out_c),\n",
        "            nn.ReLU())\n",
        "\n",
        "        self.pathSkip = nn.Sequential(\n",
        "            nn.Conv2d(\n",
        "                in_channels=in_c,\n",
        "                out_channels=out_c,\n",
        "                kernel_size=1,\n",
        "                stride=stride),\n",
        "            nn.Dropout2d(config['dropout']),\n",
        "            nn.BatchNorm2d(num_features=out_c))\n",
        "\n",
        "    def forward(self, x):\n",
        "        return self.pathA(x) + self.pathB(x) + self.pathC(x) + self.pathSkip(x)\n",
        "\n",
        "\n",
        "class MaxNet(nn.Module):\n",
        "    def __init__(self, out_classes=len(lb.classes_), input_shape=(1, 224, 224)):\n",
        "        super().__init__()\n",
        "        self.net = nn.Sequential(\n",
        "            nn.Conv2d(in_channels=1, out_channels=64, kernel_size=7, stride=2),\n",
        "            nn.BatchNorm2d(num_features=64),\n",
        "            nn.ReLU(),\n",
        "            nn.MaxPool2d(kernel_size=3, stride=2),\n",
        "            ConnectionBlock(in_c=64, out_c=64, stride=1),\n",
        "            ConnectionBlock(in_c=64, out_c=128, stride=2),\n",
        "            ConnectionBlock(in_c=128, out_c=256, stride=2),\n",
        "            ConnectionBlock(in_c=256, out_c=512, stride=2),\n",
        "            nn.AvgPool2d(kernel_size=(2, 2)),\n",
        "            Flatten(),\n",
        "            nn.Linear(in_features=4608, out_features=config['fc_layer_size']),\n",
        "            nn.ReLU(),\n",
        "            nn.Dropout(config['dropout']),\n",
        "            nn.Linear(in_features=config['fc_layer_size'], out_features=config['fc_layer_size']),\n",
        "            nn.ReLU(),\n",
        "            nn.Linear(in_features=config['fc_layer_size'], out_features=out_classes),\n",
        "            #nn.Sigmoid()\n",
        "            )\n",
        "\n",
        "    def forward(self, x):\n",
        "      return self.net(x)"
      ],
      "execution_count": null,
      "outputs": []
    },
    {
      "cell_type": "code",
      "metadata": {
        "colab": {
          "base_uri": "https://localhost:8080/"
        },
        "id": "9tLRLdflCeSB",
        "outputId": "b3c4a703-36d4-48fa-bc13-98e3a1fb5afb"
      },
      "source": [
        "maxnet = MaxNet()\n",
        "maxnet = maxnet.to(runtime)\n",
        "\n",
        "print(maxnet)"
      ],
      "execution_count": null,
      "outputs": [
        {
          "output_type": "stream",
          "text": [
            "MaxNet(\n",
            "  (net): Sequential(\n",
            "    (0): Conv2d(1, 64, kernel_size=(7, 7), stride=(2, 2))\n",
            "    (1): BatchNorm2d(64, eps=1e-05, momentum=0.1, affine=True, track_running_stats=True)\n",
            "    (2): ReLU()\n",
            "    (3): MaxPool2d(kernel_size=3, stride=2, padding=0, dilation=1, ceil_mode=False)\n",
            "    (4): ConnectionBlock(\n",
            "      (pathA): Sequential(\n",
            "        (0): Conv2d(64, 64, kernel_size=(3, 3), stride=(1, 1), padding=(1, 1))\n",
            "        (1): Dropout2d(p=0, inplace=False)\n",
            "        (2): BatchNorm2d(64, eps=1e-05, momentum=0.1, affine=True, track_running_stats=True)\n",
            "        (3): ReLU()\n",
            "        (4): Conv2d(64, 64, kernel_size=(3, 3), stride=(1, 1), padding=(1, 1))\n",
            "        (5): Dropout2d(p=0, inplace=False)\n",
            "        (6): BatchNorm2d(64, eps=1e-05, momentum=0.1, affine=True, track_running_stats=True)\n",
            "        (7): ReLU()\n",
            "      )\n",
            "      (pathB): Sequential(\n",
            "        (0): Conv2d(64, 64, kernel_size=(5, 5), stride=(1, 1), padding=(2, 2))\n",
            "        (1): Dropout2d(p=0, inplace=False)\n",
            "        (2): BatchNorm2d(64, eps=1e-05, momentum=0.1, affine=True, track_running_stats=True)\n",
            "        (3): ReLU()\n",
            "        (4): Conv2d(64, 64, kernel_size=(5, 5), stride=(1, 1), padding=(2, 2))\n",
            "        (5): Dropout2d(p=0, inplace=False)\n",
            "        (6): BatchNorm2d(64, eps=1e-05, momentum=0.1, affine=True, track_running_stats=True)\n",
            "        (7): ReLU()\n",
            "      )\n",
            "      (pathC): Sequential(\n",
            "        (0): Conv2d(64, 64, kernel_size=(9, 9), stride=(1, 1), padding=(4, 4))\n",
            "        (1): Dropout2d(p=0, inplace=False)\n",
            "        (2): BatchNorm2d(64, eps=1e-05, momentum=0.1, affine=True, track_running_stats=True)\n",
            "        (3): ReLU()\n",
            "        (4): Conv2d(64, 64, kernel_size=(9, 9), stride=(1, 1), padding=(4, 4))\n",
            "        (5): Dropout2d(p=0, inplace=False)\n",
            "        (6): BatchNorm2d(64, eps=1e-05, momentum=0.1, affine=True, track_running_stats=True)\n",
            "        (7): ReLU()\n",
            "      )\n",
            "      (pathSkip): Sequential(\n",
            "        (0): Conv2d(64, 64, kernel_size=(1, 1), stride=(1, 1))\n",
            "        (1): Dropout2d(p=0, inplace=False)\n",
            "        (2): BatchNorm2d(64, eps=1e-05, momentum=0.1, affine=True, track_running_stats=True)\n",
            "      )\n",
            "    )\n",
            "    (5): ConnectionBlock(\n",
            "      (pathA): Sequential(\n",
            "        (0): Conv2d(64, 128, kernel_size=(3, 3), stride=(2, 2), padding=(1, 1))\n",
            "        (1): Dropout2d(p=0, inplace=False)\n",
            "        (2): BatchNorm2d(128, eps=1e-05, momentum=0.1, affine=True, track_running_stats=True)\n",
            "        (3): ReLU()\n",
            "        (4): Conv2d(128, 128, kernel_size=(3, 3), stride=(1, 1), padding=(1, 1))\n",
            "        (5): Dropout2d(p=0, inplace=False)\n",
            "        (6): BatchNorm2d(128, eps=1e-05, momentum=0.1, affine=True, track_running_stats=True)\n",
            "        (7): ReLU()\n",
            "      )\n",
            "      (pathB): Sequential(\n",
            "        (0): Conv2d(64, 128, kernel_size=(5, 5), stride=(2, 2), padding=(2, 2))\n",
            "        (1): Dropout2d(p=0, inplace=False)\n",
            "        (2): BatchNorm2d(128, eps=1e-05, momentum=0.1, affine=True, track_running_stats=True)\n",
            "        (3): ReLU()\n",
            "        (4): Conv2d(128, 128, kernel_size=(5, 5), stride=(1, 1), padding=(2, 2))\n",
            "        (5): Dropout2d(p=0, inplace=False)\n",
            "        (6): BatchNorm2d(128, eps=1e-05, momentum=0.1, affine=True, track_running_stats=True)\n",
            "        (7): ReLU()\n",
            "      )\n",
            "      (pathC): Sequential(\n",
            "        (0): Conv2d(64, 128, kernel_size=(9, 9), stride=(2, 2), padding=(4, 4))\n",
            "        (1): Dropout2d(p=0, inplace=False)\n",
            "        (2): BatchNorm2d(128, eps=1e-05, momentum=0.1, affine=True, track_running_stats=True)\n",
            "        (3): ReLU()\n",
            "        (4): Conv2d(128, 128, kernel_size=(9, 9), stride=(1, 1), padding=(4, 4))\n",
            "        (5): Dropout2d(p=0, inplace=False)\n",
            "        (6): BatchNorm2d(128, eps=1e-05, momentum=0.1, affine=True, track_running_stats=True)\n",
            "        (7): ReLU()\n",
            "      )\n",
            "      (pathSkip): Sequential(\n",
            "        (0): Conv2d(64, 128, kernel_size=(1, 1), stride=(2, 2))\n",
            "        (1): Dropout2d(p=0, inplace=False)\n",
            "        (2): BatchNorm2d(128, eps=1e-05, momentum=0.1, affine=True, track_running_stats=True)\n",
            "      )\n",
            "    )\n",
            "    (6): ConnectionBlock(\n",
            "      (pathA): Sequential(\n",
            "        (0): Conv2d(128, 256, kernel_size=(3, 3), stride=(2, 2), padding=(1, 1))\n",
            "        (1): Dropout2d(p=0, inplace=False)\n",
            "        (2): BatchNorm2d(256, eps=1e-05, momentum=0.1, affine=True, track_running_stats=True)\n",
            "        (3): ReLU()\n",
            "        (4): Conv2d(256, 256, kernel_size=(3, 3), stride=(1, 1), padding=(1, 1))\n",
            "        (5): Dropout2d(p=0, inplace=False)\n",
            "        (6): BatchNorm2d(256, eps=1e-05, momentum=0.1, affine=True, track_running_stats=True)\n",
            "        (7): ReLU()\n",
            "      )\n",
            "      (pathB): Sequential(\n",
            "        (0): Conv2d(128, 256, kernel_size=(5, 5), stride=(2, 2), padding=(2, 2))\n",
            "        (1): Dropout2d(p=0, inplace=False)\n",
            "        (2): BatchNorm2d(256, eps=1e-05, momentum=0.1, affine=True, track_running_stats=True)\n",
            "        (3): ReLU()\n",
            "        (4): Conv2d(256, 256, kernel_size=(5, 5), stride=(1, 1), padding=(2, 2))\n",
            "        (5): Dropout2d(p=0, inplace=False)\n",
            "        (6): BatchNorm2d(256, eps=1e-05, momentum=0.1, affine=True, track_running_stats=True)\n",
            "        (7): ReLU()\n",
            "      )\n",
            "      (pathC): Sequential(\n",
            "        (0): Conv2d(128, 256, kernel_size=(9, 9), stride=(2, 2), padding=(4, 4))\n",
            "        (1): Dropout2d(p=0, inplace=False)\n",
            "        (2): BatchNorm2d(256, eps=1e-05, momentum=0.1, affine=True, track_running_stats=True)\n",
            "        (3): ReLU()\n",
            "        (4): Conv2d(256, 256, kernel_size=(9, 9), stride=(1, 1), padding=(4, 4))\n",
            "        (5): Dropout2d(p=0, inplace=False)\n",
            "        (6): BatchNorm2d(256, eps=1e-05, momentum=0.1, affine=True, track_running_stats=True)\n",
            "        (7): ReLU()\n",
            "      )\n",
            "      (pathSkip): Sequential(\n",
            "        (0): Conv2d(128, 256, kernel_size=(1, 1), stride=(2, 2))\n",
            "        (1): Dropout2d(p=0, inplace=False)\n",
            "        (2): BatchNorm2d(256, eps=1e-05, momentum=0.1, affine=True, track_running_stats=True)\n",
            "      )\n",
            "    )\n",
            "    (7): ConnectionBlock(\n",
            "      (pathA): Sequential(\n",
            "        (0): Conv2d(256, 512, kernel_size=(3, 3), stride=(2, 2), padding=(1, 1))\n",
            "        (1): Dropout2d(p=0, inplace=False)\n",
            "        (2): BatchNorm2d(512, eps=1e-05, momentum=0.1, affine=True, track_running_stats=True)\n",
            "        (3): ReLU()\n",
            "        (4): Conv2d(512, 512, kernel_size=(3, 3), stride=(1, 1), padding=(1, 1))\n",
            "        (5): Dropout2d(p=0, inplace=False)\n",
            "        (6): BatchNorm2d(512, eps=1e-05, momentum=0.1, affine=True, track_running_stats=True)\n",
            "        (7): ReLU()\n",
            "      )\n",
            "      (pathB): Sequential(\n",
            "        (0): Conv2d(256, 512, kernel_size=(5, 5), stride=(2, 2), padding=(2, 2))\n",
            "        (1): Dropout2d(p=0, inplace=False)\n",
            "        (2): BatchNorm2d(512, eps=1e-05, momentum=0.1, affine=True, track_running_stats=True)\n",
            "        (3): ReLU()\n",
            "        (4): Conv2d(512, 512, kernel_size=(5, 5), stride=(1, 1), padding=(2, 2))\n",
            "        (5): Dropout2d(p=0, inplace=False)\n",
            "        (6): BatchNorm2d(512, eps=1e-05, momentum=0.1, affine=True, track_running_stats=True)\n",
            "        (7): ReLU()\n",
            "      )\n",
            "      (pathC): Sequential(\n",
            "        (0): Conv2d(256, 512, kernel_size=(9, 9), stride=(2, 2), padding=(4, 4))\n",
            "        (1): Dropout2d(p=0, inplace=False)\n",
            "        (2): BatchNorm2d(512, eps=1e-05, momentum=0.1, affine=True, track_running_stats=True)\n",
            "        (3): ReLU()\n",
            "        (4): Conv2d(512, 512, kernel_size=(9, 9), stride=(1, 1), padding=(4, 4))\n",
            "        (5): Dropout2d(p=0, inplace=False)\n",
            "        (6): BatchNorm2d(512, eps=1e-05, momentum=0.1, affine=True, track_running_stats=True)\n",
            "        (7): ReLU()\n",
            "      )\n",
            "      (pathSkip): Sequential(\n",
            "        (0): Conv2d(256, 512, kernel_size=(1, 1), stride=(2, 2))\n",
            "        (1): Dropout2d(p=0, inplace=False)\n",
            "        (2): BatchNorm2d(512, eps=1e-05, momentum=0.1, affine=True, track_running_stats=True)\n",
            "      )\n",
            "    )\n",
            "    (8): AvgPool2d(kernel_size=(2, 2), stride=(2, 2), padding=0)\n",
            "    (9): Flatten()\n",
            "    (10): Linear(in_features=4608, out_features=256, bias=True)\n",
            "    (11): ReLU()\n",
            "    (12): Dropout(p=0, inplace=False)\n",
            "    (13): Linear(in_features=256, out_features=256, bias=True)\n",
            "    (14): ReLU()\n",
            "    (15): Linear(in_features=256, out_features=6, bias=True)\n",
            "  )\n",
            ")\n"
          ],
          "name": "stdout"
        }
      ]
    },
    {
      "cell_type": "markdown",
      "metadata": {
        "id": "VIwqSHsTMKSo"
      },
      "source": [
        "## ResNet"
      ]
    },
    {
      "cell_type": "code",
      "metadata": {
        "id": "W-fbO2VhNDIJ"
      },
      "source": [
        "from torchvision import models"
      ],
      "execution_count": null,
      "outputs": []
    },
    {
      "cell_type": "code",
      "metadata": {
        "id": "h7CrGJGbWVSx",
        "colab": {
          "base_uri": "https://localhost:8080/",
          "height": 1000,
          "referenced_widgets": [
            "b240464242c3484cb781991da72261d7",
            "c97df6840ca340679b2762fdb6fd3294",
            "4782eed1504141efa0c4d37bd77ee67c",
            "8ed9ca46adcb4ba79c47191bd4ee28dd",
            "8bf554479e854bb094777b4a5dd708c9",
            "861a24a6deb64eb98bc7af2fdd5a7e9a",
            "dc6dcdac45a74aa5895cbdbba6bc3ea5",
            "fa05d89beeec4130a1fd0dcc6bcf90ce",
            "7ab654bac42c40d5905c475ada35a095",
            "78922d9c974f4ec4ad9c5f1a00f72e7d",
            "8000da5ee0a34fccb1c4238b5edbf9d7"
          ]
        },
        "outputId": "7956b095-9551-4002-ee62-d316525c0bc4"
      },
      "source": [
        "resnet18 = models.resnet18(pretrained=True)  \n",
        "for param in resnet18.parameters():\n",
        "  param.requires_grad=False # freezes the layers to only fine-tune the last one\n",
        "\n",
        "print(resnet18)"
      ],
      "execution_count": null,
      "outputs": [
        {
          "output_type": "stream",
          "text": [
            "Downloading: \"https://download.pytorch.org/models/resnet18-f37072fd.pth\" to /root/.cache/torch/hub/checkpoints/resnet18-f37072fd.pth\n"
          ],
          "name": "stderr"
        },
        {
          "output_type": "display_data",
          "data": {
            "application/vnd.jupyter.widget-view+json": {
              "model_id": "b240464242c3484cb781991da72261d7",
              "version_minor": 0,
              "version_major": 2
            },
            "text/plain": [
              "  0%|          | 0.00/44.7M [00:00<?, ?B/s]"
            ]
          },
          "metadata": {}
        },
        {
          "output_type": "stream",
          "text": [
            "ResNet(\n",
            "  (conv1): Conv2d(3, 64, kernel_size=(7, 7), stride=(2, 2), padding=(3, 3), bias=False)\n",
            "  (bn1): BatchNorm2d(64, eps=1e-05, momentum=0.1, affine=True, track_running_stats=True)\n",
            "  (relu): ReLU(inplace=True)\n",
            "  (maxpool): MaxPool2d(kernel_size=3, stride=2, padding=1, dilation=1, ceil_mode=False)\n",
            "  (layer1): Sequential(\n",
            "    (0): BasicBlock(\n",
            "      (conv1): Conv2d(64, 64, kernel_size=(3, 3), stride=(1, 1), padding=(1, 1), bias=False)\n",
            "      (bn1): BatchNorm2d(64, eps=1e-05, momentum=0.1, affine=True, track_running_stats=True)\n",
            "      (relu): ReLU(inplace=True)\n",
            "      (conv2): Conv2d(64, 64, kernel_size=(3, 3), stride=(1, 1), padding=(1, 1), bias=False)\n",
            "      (bn2): BatchNorm2d(64, eps=1e-05, momentum=0.1, affine=True, track_running_stats=True)\n",
            "    )\n",
            "    (1): BasicBlock(\n",
            "      (conv1): Conv2d(64, 64, kernel_size=(3, 3), stride=(1, 1), padding=(1, 1), bias=False)\n",
            "      (bn1): BatchNorm2d(64, eps=1e-05, momentum=0.1, affine=True, track_running_stats=True)\n",
            "      (relu): ReLU(inplace=True)\n",
            "      (conv2): Conv2d(64, 64, kernel_size=(3, 3), stride=(1, 1), padding=(1, 1), bias=False)\n",
            "      (bn2): BatchNorm2d(64, eps=1e-05, momentum=0.1, affine=True, track_running_stats=True)\n",
            "    )\n",
            "  )\n",
            "  (layer2): Sequential(\n",
            "    (0): BasicBlock(\n",
            "      (conv1): Conv2d(64, 128, kernel_size=(3, 3), stride=(2, 2), padding=(1, 1), bias=False)\n",
            "      (bn1): BatchNorm2d(128, eps=1e-05, momentum=0.1, affine=True, track_running_stats=True)\n",
            "      (relu): ReLU(inplace=True)\n",
            "      (conv2): Conv2d(128, 128, kernel_size=(3, 3), stride=(1, 1), padding=(1, 1), bias=False)\n",
            "      (bn2): BatchNorm2d(128, eps=1e-05, momentum=0.1, affine=True, track_running_stats=True)\n",
            "      (downsample): Sequential(\n",
            "        (0): Conv2d(64, 128, kernel_size=(1, 1), stride=(2, 2), bias=False)\n",
            "        (1): BatchNorm2d(128, eps=1e-05, momentum=0.1, affine=True, track_running_stats=True)\n",
            "      )\n",
            "    )\n",
            "    (1): BasicBlock(\n",
            "      (conv1): Conv2d(128, 128, kernel_size=(3, 3), stride=(1, 1), padding=(1, 1), bias=False)\n",
            "      (bn1): BatchNorm2d(128, eps=1e-05, momentum=0.1, affine=True, track_running_stats=True)\n",
            "      (relu): ReLU(inplace=True)\n",
            "      (conv2): Conv2d(128, 128, kernel_size=(3, 3), stride=(1, 1), padding=(1, 1), bias=False)\n",
            "      (bn2): BatchNorm2d(128, eps=1e-05, momentum=0.1, affine=True, track_running_stats=True)\n",
            "    )\n",
            "  )\n",
            "  (layer3): Sequential(\n",
            "    (0): BasicBlock(\n",
            "      (conv1): Conv2d(128, 256, kernel_size=(3, 3), stride=(2, 2), padding=(1, 1), bias=False)\n",
            "      (bn1): BatchNorm2d(256, eps=1e-05, momentum=0.1, affine=True, track_running_stats=True)\n",
            "      (relu): ReLU(inplace=True)\n",
            "      (conv2): Conv2d(256, 256, kernel_size=(3, 3), stride=(1, 1), padding=(1, 1), bias=False)\n",
            "      (bn2): BatchNorm2d(256, eps=1e-05, momentum=0.1, affine=True, track_running_stats=True)\n",
            "      (downsample): Sequential(\n",
            "        (0): Conv2d(128, 256, kernel_size=(1, 1), stride=(2, 2), bias=False)\n",
            "        (1): BatchNorm2d(256, eps=1e-05, momentum=0.1, affine=True, track_running_stats=True)\n",
            "      )\n",
            "    )\n",
            "    (1): BasicBlock(\n",
            "      (conv1): Conv2d(256, 256, kernel_size=(3, 3), stride=(1, 1), padding=(1, 1), bias=False)\n",
            "      (bn1): BatchNorm2d(256, eps=1e-05, momentum=0.1, affine=True, track_running_stats=True)\n",
            "      (relu): ReLU(inplace=True)\n",
            "      (conv2): Conv2d(256, 256, kernel_size=(3, 3), stride=(1, 1), padding=(1, 1), bias=False)\n",
            "      (bn2): BatchNorm2d(256, eps=1e-05, momentum=0.1, affine=True, track_running_stats=True)\n",
            "    )\n",
            "  )\n",
            "  (layer4): Sequential(\n",
            "    (0): BasicBlock(\n",
            "      (conv1): Conv2d(256, 512, kernel_size=(3, 3), stride=(2, 2), padding=(1, 1), bias=False)\n",
            "      (bn1): BatchNorm2d(512, eps=1e-05, momentum=0.1, affine=True, track_running_stats=True)\n",
            "      (relu): ReLU(inplace=True)\n",
            "      (conv2): Conv2d(512, 512, kernel_size=(3, 3), stride=(1, 1), padding=(1, 1), bias=False)\n",
            "      (bn2): BatchNorm2d(512, eps=1e-05, momentum=0.1, affine=True, track_running_stats=True)\n",
            "      (downsample): Sequential(\n",
            "        (0): Conv2d(256, 512, kernel_size=(1, 1), stride=(2, 2), bias=False)\n",
            "        (1): BatchNorm2d(512, eps=1e-05, momentum=0.1, affine=True, track_running_stats=True)\n",
            "      )\n",
            "    )\n",
            "    (1): BasicBlock(\n",
            "      (conv1): Conv2d(512, 512, kernel_size=(3, 3), stride=(1, 1), padding=(1, 1), bias=False)\n",
            "      (bn1): BatchNorm2d(512, eps=1e-05, momentum=0.1, affine=True, track_running_stats=True)\n",
            "      (relu): ReLU(inplace=True)\n",
            "      (conv2): Conv2d(512, 512, kernel_size=(3, 3), stride=(1, 1), padding=(1, 1), bias=False)\n",
            "      (bn2): BatchNorm2d(512, eps=1e-05, momentum=0.1, affine=True, track_running_stats=True)\n",
            "    )\n",
            "  )\n",
            "  (avgpool): AdaptiveAvgPool2d(output_size=(1, 1))\n",
            "  (fc): Linear(in_features=512, out_features=1000, bias=True)\n",
            ")\n"
          ],
          "name": "stdout"
        }
      ]
    },
    {
      "cell_type": "markdown",
      "metadata": {
        "id": "_J88gzUWMMIn"
      },
      "source": [
        "## VGG"
      ]
    },
    {
      "cell_type": "markdown",
      "metadata": {
        "id": "paQQGO8DWRBK"
      },
      "source": [
        "Also try VGG16 without batch norm"
      ]
    },
    {
      "cell_type": "code",
      "metadata": {
        "id": "ngO0J3gJMIzo",
        "colab": {
          "base_uri": "https://localhost:8080/",
          "height": 1000,
          "referenced_widgets": [
            "c04e77837f074d3bbd4b97fa516a9463",
            "2a5f0c9f814b4d1d92ca2eefc0744c06",
            "32ae0af0ec4f4ac48caf53773df02614",
            "a2dfc2a9cfad4141a8377ccb110c4931",
            "1c54538f78a24b8888cc6d818281334a",
            "fc87af52b18e461f80125a723536072b",
            "44c9b023114c4daab20deb3b3e763fa7",
            "673d67475a874f44b9cfa7397565026b",
            "563ea939183b4fbc81381d3bb9f4cfd1",
            "fc8772bf294148e7a3d599a643a3427f",
            "11b5d27d6ada441dba7b1da2675f93cc"
          ]
        },
        "outputId": "9ada053c-68ec-4bf7-9db0-094f809278d8"
      },
      "source": [
        "vgg16 = models.vgg16_bn(pretrained=True)\n",
        "for param in vgg16.features.parameters():\n",
        "  param.requires_grad=False # freezes the layers to only fine-tune the last one\n",
        "\n",
        "print(vgg16)"
      ],
      "execution_count": null,
      "outputs": [
        {
          "output_type": "stream",
          "text": [
            "Downloading: \"https://download.pytorch.org/models/vgg16_bn-6c64b313.pth\" to /root/.cache/torch/hub/checkpoints/vgg16_bn-6c64b313.pth\n"
          ],
          "name": "stderr"
        },
        {
          "output_type": "display_data",
          "data": {
            "application/vnd.jupyter.widget-view+json": {
              "model_id": "c04e77837f074d3bbd4b97fa516a9463",
              "version_minor": 0,
              "version_major": 2
            },
            "text/plain": [
              "  0%|          | 0.00/528M [00:00<?, ?B/s]"
            ]
          },
          "metadata": {}
        },
        {
          "output_type": "stream",
          "text": [
            "VGG(\n",
            "  (features): Sequential(\n",
            "    (0): Conv2d(3, 64, kernel_size=(3, 3), stride=(1, 1), padding=(1, 1))\n",
            "    (1): BatchNorm2d(64, eps=1e-05, momentum=0.1, affine=True, track_running_stats=True)\n",
            "    (2): ReLU(inplace=True)\n",
            "    (3): Conv2d(64, 64, kernel_size=(3, 3), stride=(1, 1), padding=(1, 1))\n",
            "    (4): BatchNorm2d(64, eps=1e-05, momentum=0.1, affine=True, track_running_stats=True)\n",
            "    (5): ReLU(inplace=True)\n",
            "    (6): MaxPool2d(kernel_size=2, stride=2, padding=0, dilation=1, ceil_mode=False)\n",
            "    (7): Conv2d(64, 128, kernel_size=(3, 3), stride=(1, 1), padding=(1, 1))\n",
            "    (8): BatchNorm2d(128, eps=1e-05, momentum=0.1, affine=True, track_running_stats=True)\n",
            "    (9): ReLU(inplace=True)\n",
            "    (10): Conv2d(128, 128, kernel_size=(3, 3), stride=(1, 1), padding=(1, 1))\n",
            "    (11): BatchNorm2d(128, eps=1e-05, momentum=0.1, affine=True, track_running_stats=True)\n",
            "    (12): ReLU(inplace=True)\n",
            "    (13): MaxPool2d(kernel_size=2, stride=2, padding=0, dilation=1, ceil_mode=False)\n",
            "    (14): Conv2d(128, 256, kernel_size=(3, 3), stride=(1, 1), padding=(1, 1))\n",
            "    (15): BatchNorm2d(256, eps=1e-05, momentum=0.1, affine=True, track_running_stats=True)\n",
            "    (16): ReLU(inplace=True)\n",
            "    (17): Conv2d(256, 256, kernel_size=(3, 3), stride=(1, 1), padding=(1, 1))\n",
            "    (18): BatchNorm2d(256, eps=1e-05, momentum=0.1, affine=True, track_running_stats=True)\n",
            "    (19): ReLU(inplace=True)\n",
            "    (20): Conv2d(256, 256, kernel_size=(3, 3), stride=(1, 1), padding=(1, 1))\n",
            "    (21): BatchNorm2d(256, eps=1e-05, momentum=0.1, affine=True, track_running_stats=True)\n",
            "    (22): ReLU(inplace=True)\n",
            "    (23): MaxPool2d(kernel_size=2, stride=2, padding=0, dilation=1, ceil_mode=False)\n",
            "    (24): Conv2d(256, 512, kernel_size=(3, 3), stride=(1, 1), padding=(1, 1))\n",
            "    (25): BatchNorm2d(512, eps=1e-05, momentum=0.1, affine=True, track_running_stats=True)\n",
            "    (26): ReLU(inplace=True)\n",
            "    (27): Conv2d(512, 512, kernel_size=(3, 3), stride=(1, 1), padding=(1, 1))\n",
            "    (28): BatchNorm2d(512, eps=1e-05, momentum=0.1, affine=True, track_running_stats=True)\n",
            "    (29): ReLU(inplace=True)\n",
            "    (30): Conv2d(512, 512, kernel_size=(3, 3), stride=(1, 1), padding=(1, 1))\n",
            "    (31): BatchNorm2d(512, eps=1e-05, momentum=0.1, affine=True, track_running_stats=True)\n",
            "    (32): ReLU(inplace=True)\n",
            "    (33): MaxPool2d(kernel_size=2, stride=2, padding=0, dilation=1, ceil_mode=False)\n",
            "    (34): Conv2d(512, 512, kernel_size=(3, 3), stride=(1, 1), padding=(1, 1))\n",
            "    (35): BatchNorm2d(512, eps=1e-05, momentum=0.1, affine=True, track_running_stats=True)\n",
            "    (36): ReLU(inplace=True)\n",
            "    (37): Conv2d(512, 512, kernel_size=(3, 3), stride=(1, 1), padding=(1, 1))\n",
            "    (38): BatchNorm2d(512, eps=1e-05, momentum=0.1, affine=True, track_running_stats=True)\n",
            "    (39): ReLU(inplace=True)\n",
            "    (40): Conv2d(512, 512, kernel_size=(3, 3), stride=(1, 1), padding=(1, 1))\n",
            "    (41): BatchNorm2d(512, eps=1e-05, momentum=0.1, affine=True, track_running_stats=True)\n",
            "    (42): ReLU(inplace=True)\n",
            "    (43): MaxPool2d(kernel_size=2, stride=2, padding=0, dilation=1, ceil_mode=False)\n",
            "  )\n",
            "  (avgpool): AdaptiveAvgPool2d(output_size=(7, 7))\n",
            "  (classifier): Sequential(\n",
            "    (0): Linear(in_features=25088, out_features=4096, bias=True)\n",
            "    (1): ReLU(inplace=True)\n",
            "    (2): Dropout(p=0.5, inplace=False)\n",
            "    (3): Linear(in_features=4096, out_features=4096, bias=True)\n",
            "    (4): ReLU(inplace=True)\n",
            "    (5): Dropout(p=0.5, inplace=False)\n",
            "    (6): Linear(in_features=4096, out_features=1000, bias=True)\n",
            "  )\n",
            ")\n"
          ],
          "name": "stdout"
        }
      ]
    },
    {
      "cell_type": "markdown",
      "metadata": {
        "id": "zTjBLOixcu2Y"
      },
      "source": [
        "# Model Selection"
      ]
    },
    {
      "cell_type": "code",
      "metadata": {
        "id": "51C8Avb0Su-7",
        "colab": {
          "base_uri": "https://localhost:8080/",
          "height": 49,
          "referenced_widgets": [
            "e2e9b19bd6904982ab2b467c91009352",
            "1ce1af28bba04ce6a57af6ac5dc18297",
            "e9f9e08fa38e413781a5b4acc92d6f5c"
          ]
        },
        "outputId": "7040ae1a-a06f-429f-c229-ebb2a89d8859"
      },
      "source": [
        "list_transfer_model = ['ResNet18', 'VGG16']\n",
        "\n",
        "w = widgets.Dropdown(options={'VicNet': vicnet,\n",
        "                              'ResNet18': resnet18, \n",
        "                              'VGG16': vgg16, \n",
        "                              'RegNet': regnet, \n",
        "                              'BaseNet': basenet, \n",
        "                              'MaxNet': maxnet})\n",
        "display(w)"
      ],
      "execution_count": null,
      "outputs": [
        {
          "output_type": "display_data",
          "data": {
            "application/vnd.jupyter.widget-view+json": {
              "model_id": "e2e9b19bd6904982ab2b467c91009352",
              "version_minor": 0,
              "version_major": 2
            },
            "text/plain": [
              "Dropdown(options={'VicNet': VicNet(\n",
              "  (conv1): Conv2d(1, 16, kernel_size=(3, 3), stride=(1, 1))\n",
              "  (conv2): Con…"
            ]
          },
          "metadata": {}
        }
      ]
    },
    {
      "cell_type": "code",
      "metadata": {
        "id": "Qb7nQo7zS_Bs",
        "colab": {
          "base_uri": "https://localhost:8080/"
        },
        "outputId": "a3d20928-9f0e-482a-9719-ed28b5a04d33"
      },
      "source": [
        "print(f'Selected Net: {w.label}')\n",
        "w.value"
      ],
      "execution_count": null,
      "outputs": [
        {
          "output_type": "stream",
          "text": [
            "Selected Net: VGG16\n"
          ],
          "name": "stdout"
        },
        {
          "output_type": "execute_result",
          "data": {
            "text/plain": [
              "VGG(\n",
              "  (features): Sequential(\n",
              "    (0): Conv2d(3, 64, kernel_size=(3, 3), stride=(1, 1), padding=(1, 1))\n",
              "    (1): BatchNorm2d(64, eps=1e-05, momentum=0.1, affine=True, track_running_stats=True)\n",
              "    (2): ReLU(inplace=True)\n",
              "    (3): Conv2d(64, 64, kernel_size=(3, 3), stride=(1, 1), padding=(1, 1))\n",
              "    (4): BatchNorm2d(64, eps=1e-05, momentum=0.1, affine=True, track_running_stats=True)\n",
              "    (5): ReLU(inplace=True)\n",
              "    (6): MaxPool2d(kernel_size=2, stride=2, padding=0, dilation=1, ceil_mode=False)\n",
              "    (7): Conv2d(64, 128, kernel_size=(3, 3), stride=(1, 1), padding=(1, 1))\n",
              "    (8): BatchNorm2d(128, eps=1e-05, momentum=0.1, affine=True, track_running_stats=True)\n",
              "    (9): ReLU(inplace=True)\n",
              "    (10): Conv2d(128, 128, kernel_size=(3, 3), stride=(1, 1), padding=(1, 1))\n",
              "    (11): BatchNorm2d(128, eps=1e-05, momentum=0.1, affine=True, track_running_stats=True)\n",
              "    (12): ReLU(inplace=True)\n",
              "    (13): MaxPool2d(kernel_size=2, stride=2, padding=0, dilation=1, ceil_mode=False)\n",
              "    (14): Conv2d(128, 256, kernel_size=(3, 3), stride=(1, 1), padding=(1, 1))\n",
              "    (15): BatchNorm2d(256, eps=1e-05, momentum=0.1, affine=True, track_running_stats=True)\n",
              "    (16): ReLU(inplace=True)\n",
              "    (17): Conv2d(256, 256, kernel_size=(3, 3), stride=(1, 1), padding=(1, 1))\n",
              "    (18): BatchNorm2d(256, eps=1e-05, momentum=0.1, affine=True, track_running_stats=True)\n",
              "    (19): ReLU(inplace=True)\n",
              "    (20): Conv2d(256, 256, kernel_size=(3, 3), stride=(1, 1), padding=(1, 1))\n",
              "    (21): BatchNorm2d(256, eps=1e-05, momentum=0.1, affine=True, track_running_stats=True)\n",
              "    (22): ReLU(inplace=True)\n",
              "    (23): MaxPool2d(kernel_size=2, stride=2, padding=0, dilation=1, ceil_mode=False)\n",
              "    (24): Conv2d(256, 512, kernel_size=(3, 3), stride=(1, 1), padding=(1, 1))\n",
              "    (25): BatchNorm2d(512, eps=1e-05, momentum=0.1, affine=True, track_running_stats=True)\n",
              "    (26): ReLU(inplace=True)\n",
              "    (27): Conv2d(512, 512, kernel_size=(3, 3), stride=(1, 1), padding=(1, 1))\n",
              "    (28): BatchNorm2d(512, eps=1e-05, momentum=0.1, affine=True, track_running_stats=True)\n",
              "    (29): ReLU(inplace=True)\n",
              "    (30): Conv2d(512, 512, kernel_size=(3, 3), stride=(1, 1), padding=(1, 1))\n",
              "    (31): BatchNorm2d(512, eps=1e-05, momentum=0.1, affine=True, track_running_stats=True)\n",
              "    (32): ReLU(inplace=True)\n",
              "    (33): MaxPool2d(kernel_size=2, stride=2, padding=0, dilation=1, ceil_mode=False)\n",
              "    (34): Conv2d(512, 512, kernel_size=(3, 3), stride=(1, 1), padding=(1, 1))\n",
              "    (35): BatchNorm2d(512, eps=1e-05, momentum=0.1, affine=True, track_running_stats=True)\n",
              "    (36): ReLU(inplace=True)\n",
              "    (37): Conv2d(512, 512, kernel_size=(3, 3), stride=(1, 1), padding=(1, 1))\n",
              "    (38): BatchNorm2d(512, eps=1e-05, momentum=0.1, affine=True, track_running_stats=True)\n",
              "    (39): ReLU(inplace=True)\n",
              "    (40): Conv2d(512, 512, kernel_size=(3, 3), stride=(1, 1), padding=(1, 1))\n",
              "    (41): BatchNorm2d(512, eps=1e-05, momentum=0.1, affine=True, track_running_stats=True)\n",
              "    (42): ReLU(inplace=True)\n",
              "    (43): MaxPool2d(kernel_size=2, stride=2, padding=0, dilation=1, ceil_mode=False)\n",
              "  )\n",
              "  (avgpool): AdaptiveAvgPool2d(output_size=(7, 7))\n",
              "  (classifier): Sequential(\n",
              "    (0): Linear(in_features=25088, out_features=4096, bias=True)\n",
              "    (1): ReLU(inplace=True)\n",
              "    (2): Dropout(p=0.5, inplace=False)\n",
              "    (3): Linear(in_features=4096, out_features=4096, bias=True)\n",
              "    (4): ReLU(inplace=True)\n",
              "    (5): Dropout(p=0.5, inplace=False)\n",
              "    (6): Linear(in_features=4096, out_features=1000, bias=True)\n",
              "  )\n",
              ")"
            ]
          },
          "metadata": {},
          "execution_count": 54
        }
      ]
    },
    {
      "cell_type": "code",
      "metadata": {
        "id": "oQJgEurThsbq"
      },
      "source": [
        "net = w.value"
      ],
      "execution_count": null,
      "outputs": []
    },
    {
      "cell_type": "markdown",
      "metadata": {
        "id": "8OST25CGClRl"
      },
      "source": [
        "# Training"
      ]
    },
    {
      "cell_type": "markdown",
      "metadata": {
        "id": "4eVUz9g-3bKD"
      },
      "source": [
        "To measuse inference time: https://towardsdatascience.com/the-correct-way-to-measure-inference-time-of-deep-neural-networks-304a54e5187f"
      ]
    },
    {
      "cell_type": "code",
      "metadata": {
        "id": "C_92yNmCw0qa"
      },
      "source": [
        "def reset_weights(m):\n",
        "  '''\n",
        "    Try resetting model weights to avoid\n",
        "    weight leakage.\n",
        "  '''\n",
        "  for layer in m.children():\n",
        "   if hasattr(layer, 'reset_parameters'):\n",
        "    print(f'Reset trainable parameters of layer = {layer}')\n",
        "    layer.reset_parameters()"
      ],
      "execution_count": null,
      "outputs": []
    },
    {
      "cell_type": "code",
      "metadata": {
        "id": "sfHC7bqMaku2",
        "colab": {
          "base_uri": "https://localhost:8080/",
          "height": 1000
        },
        "outputId": "df5a2998-fccc-4cec-d3bd-7371fa84649b"
      },
      "source": [
        "%%time\n",
        "early_stopping_patience = 10\n",
        "epochs = config['epochs']\n",
        "if w.label in list_transfer_model:\n",
        "  transferlearning = True\n",
        "else:\n",
        "  transferlearning = False\n",
        "\n",
        "min_val_loss = np.Inf\n",
        "\n",
        "kf_train_losses = []\n",
        "kf_val_losses = []\n",
        "kf_train_acc = []\n",
        "kf_val_acc = []\n",
        "kf_class_accuracy = []\n",
        "kf_overall_accuracy = []\n",
        "kf_overall_precision = []\n",
        "kf_overall_recall = []\n",
        "kf_overall_f1 = []\n",
        "kf_class_precision = []\n",
        "kf_class_recall = []\n",
        "kf_class_f1 = []\n",
        "kf_timings = []\n",
        "kf_frames = []\n",
        "\n",
        "\n",
        "for k in range(k_folds_splits):\n",
        "\n",
        "  # initialize the early_stopping object\n",
        "  early_stopping = EarlyStopping(patience=early_stopping_patience, verbose=True)\n",
        "\n",
        "  print(f'Train {k+1}-k-fold - Values', len(list(k_folds_train.values())[k][0]))\n",
        "  print(f'Train {k+1}-k-fold - Labels', len(list(k_folds_train.values())[k][1]))\n",
        "  print(f'Val {k+1}-k-fold - Values', len(list(k_folds_val.values())[k][0]))\n",
        "  print(f'Val {k+1}-k-fold - Labels', len(list(k_folds_val.values())[k][1]))\n",
        "  print('\\n')\n",
        "\n",
        "  X_train = list(k_folds_train.values())[k][0]\n",
        "  y_train = list(k_folds_train.values())[k][1]\n",
        "  X_val = list(k_folds_val.values())[k][0]\n",
        "  y_val = list(k_folds_val.values())[k][1]\n",
        "\n",
        "  train_data = WaferDataset(X_train, y_train, model=w.label)\n",
        "  val_data = WaferDataset(X_val, y_val, model=w.label)\n",
        "  \n",
        "  # dataloaders\n",
        "  train_dataloader = DataLoader(train_data, batch_size=config['batch_size'], shuffle=True)  # shuffle here instead of in model\n",
        "  val_dataloader = DataLoader(val_data, batch_size=config['batch_size'], shuffle=False)\n",
        "\n",
        "  # Init the neural network\n",
        "  if transferlearning:\n",
        "    # Setup / deepcopy transfer learning model based on selected backbone transfer model \n",
        "    net = copy.deepcopy(w.value)\n",
        "    # Add Classifier Layer to backbone transfer model\n",
        "    net.fc = nn.Linear(512, len(lb.classes_))\n",
        "    # Model to Cuda\n",
        "    net = net.to(runtime)\n",
        "  else:\n",
        "    net = w.value\n",
        "    net.apply(reset_weights)\n",
        "\n",
        "  print('\\n')\n",
        "\n",
        "  # Define the optimizer\n",
        "  if config['optimizer']=='sgd':\n",
        "    optimizer = torch.optim.SGD(net.parameters(), lr=config['learning_rate'], momentum=0.9)\n",
        "  elif config['optimizer']=='adam':\n",
        "    optimizer = torch.optim.Adam(net.parameters(), lr=config['learning_rate'])\n",
        "  loss_fct = nn.CrossEntropyLoss()\n",
        "\n",
        "  train_losses = []\n",
        "  val_losses = []\n",
        "  train_acc = []\n",
        "  val_acc = []\n",
        "  acc_val = 0\n",
        "  acc_train = 0\n",
        "  batch_ct = 0\n",
        "  example_ct = 0\n",
        "\n",
        "\n",
        "  starter, ender = torch.cuda.Event(enable_timing=True), torch.cuda.Event(enable_timing=True)\n",
        "  timings=[]\n",
        "  frames = []\n",
        "\n",
        "  for epoch in range(epochs):\n",
        "    # This command tells the neural network that it should be in training-mode now.\n",
        "    # This call is important as some functions in neural networks (e.g., dropout) should \n",
        "    # only be applied when training\n",
        "    net.train()\n",
        "\n",
        "    total=0\n",
        "    correct=0\n",
        "\n",
        "    epoch_train_loss = 0.\n",
        "    # Iterate over the dataset in chunks of size 32 (the batches)\n",
        "    for i, data in enumerate(train_dataloader):\n",
        "      X_batch, y_batch = data[0].to(runtime), data[1].to(runtime)\n",
        "\n",
        "      y_pred = net(X_batch)\n",
        "      loss = loss_fct(y_pred, y_batch)\n",
        "\n",
        "      example_ct += len(data)\n",
        "\n",
        "      epoch_train_loss += loss.item() * X_batch.size(0)\n",
        "\n",
        "      _,pred = torch.max(y_pred, dim=1)\n",
        "\n",
        "      #add the count of correct prediction of the batch to a correct prediction list\n",
        "      correct += torch.sum(pred==y_batch).item()\n",
        "      #add the count of all predictions of the batch to a total prediction list\n",
        "      total += y_batch.size(0)\n",
        "      #calculate accuracy of all predicted samples so far\n",
        "      acc_train = 100 * correct/total\n",
        "\n",
        "      optimizer.zero_grad()\n",
        "      loss.backward()\n",
        "      optimizer.step()\n",
        "\n",
        "    epoch_train_loss = epoch_train_loss / len(train_dataloader.sampler)\n",
        "    train_losses.append(epoch_train_loss)\n",
        "    train_acc.append(acc_train)\n",
        "\n",
        "\n",
        "    net.eval()\n",
        "\n",
        "    total_t=0\n",
        "    correct_t=0\n",
        "\n",
        "    # Init or reset the prediction and label lists(tensors) of a epoch\n",
        "    predlist=torch.zeros(0,dtype=torch.long, device=runtime)\n",
        "    lbllist=torch.zeros(0,dtype=torch.long, device=runtime)\n",
        "\n",
        "\n",
        "    epoch_val_loss = 0. #reset epoch loss from validation\n",
        "\n",
        "    # This command tells the neural network that it should be in evaluation mode now.\n",
        "    # This call turns of special functions for training, such as dropout. \n",
        "    \n",
        "    with torch.no_grad():\n",
        "      for X_batch_val, y_batch_val in (val_dataloader):\n",
        "        #load batch of validation data\n",
        "        X_batch_val, y_batch_val = X_batch_val.to(runtime), y_batch_val.to(runtime)\n",
        "\n",
        "        #predict batch\n",
        "        starter.record()\n",
        "        y_pred_val = net(X_batch_val)\n",
        "        ender.record()\n",
        "\n",
        "        if runtime == torch.device('cuda'):\n",
        "            torch.cuda.synchronize() \n",
        "\n",
        "        laps_time = starter.elapsed_time(ender)\n",
        "        \n",
        "        timings.append(laps_time / X_batch_val.size(0))\n",
        "        frames.append(X_batch_val.size(0) / laps_time)\n",
        "\n",
        "        \n",
        "        loss_val = loss_fct(y_pred_val.squeeze(), y_batch_val)\n",
        "        # append loss of batch to epoch loss\n",
        "        epoch_val_loss += loss_val.item() * X_batch_val.size(0)\n",
        "                                              \n",
        "        _,pred_t = torch.max(y_pred_val, dim=1)\n",
        "\n",
        "        #add the count of correct prediction of the batch to a correct prediction list\n",
        "        correct_t += torch.sum(pred_t==y_batch_val).item()\n",
        "        #add the count of all predictions of the batch to a total prediction list\n",
        "        total_t += y_batch_val.size(0)\n",
        "        #calculate accuracy of all predicted samples so far\n",
        "        acc_val = 100 * correct_t/total_t\n",
        "\n",
        "        # Concatenate the prediction of a batch to list of all prediction of a epoch\n",
        "        predlist=torch.cat([predlist,pred_t.view(-1).to(runtime)])\n",
        "        lbllist=torch.cat([lbllist,y_batch_val.view(-1).to(runtime)])\n",
        "\n",
        "      # early_stopping needs the validation loss to check if it has decresed, \n",
        "      # and if it has, it will make a checkpoint of the current model\n",
        "\n",
        "      epoch_val_loss = epoch_val_loss / len(val_dataloader.sampler)\n",
        "      val_losses.append(epoch_val_loss)\n",
        "      val_acc.append(acc_val)\n",
        "\n",
        "      print('Avg execution time (ms): {:.3f}'.format(np.mean(timings)))\n",
        "      print('Avg frames per seconds (fps): {:.3f}'.format(np.mean(frames)))\n",
        "      print('Epoch: {} ->  Train loss: {} Val loss: {} Train Accuracy: {} Val Accuracy: {}'.format(epoch, epoch_train_loss, epoch_val_loss, acc_train, acc_val))\n",
        "\n",
        "\n",
        "    early_stopping(epoch_val_loss, net)\n",
        "    \n",
        "    if early_stopping.early_stop:\n",
        "      print(\"----- EARLY STOPPING -----\")\n",
        "      break\n",
        "\n",
        "  y_true = lbllist.cpu().numpy()\n",
        "  y_pred = predlist.cpu().numpy()\n",
        " \n",
        "  # Confusion matrix\n",
        "  conf_mat=confusion_matrix(y_true, y_pred)\n",
        "  print('\\n')\n",
        "  print(f'Total Prediction: {len(predlist)}')\n",
        "  print(f'Correct Prediction: {sum(conf_mat.diagonal())}')\n",
        "  print('Confusion matrix')\n",
        "  print(conf_mat)\n",
        "\n",
        "  # Precision, Recall, F1-score\n",
        "  class_report_print = classification_report(y_true, y_pred)\n",
        "  print(class_report_print)\n",
        "  class_report_dict = classification_report(y_true, y_pred, output_dict=True)\n",
        "  kf_overall_precision.append(class_report_dict['weighted avg']['precision'])\n",
        "  kf_overall_recall.append(class_report_dict['weighted avg']['recall'])\n",
        "  kf_overall_f1.append(class_report_dict['weighted avg']['f1-score'])\n",
        "\n",
        "  # Per-class precision, recall, F1-score\n",
        "  class_precision=[]\n",
        "  class_recall=[]\n",
        "  class_f1=[]\n",
        "  for i in range(len(sel_classes)):\n",
        "    class_precision.append(class_report_dict[str(i)]['precision'])\n",
        "    class_recall.append(class_report_dict[str(i)]['recall'])\n",
        "    class_f1.append(class_report_dict[str(i)]['f1-score'])\n",
        "  kf_class_precision.append(class_precision)\n",
        "  kf_class_recall.append(class_recall)\n",
        "  kf_class_f1.append(class_f1)\n",
        "\n",
        "  # Per-class accuracy\n",
        "  class_accuracy=100*conf_mat.diagonal()/conf_mat.sum(1)\n",
        "  kf_class_accuracy.append(class_accuracy)\n",
        "  overall_accuracy = 100 * sum(conf_mat.diagonal()) / len(predlist)\n",
        "  kf_overall_accuracy.append(overall_accuracy)\n",
        "  print(f'Per-class accuracy: {class_accuracy}')\n",
        "  print(f'Overall accuracy: {overall_accuracy}')\n",
        "  print('\\n')\n",
        "\n",
        "  kf_train_losses.append(train_losses)\n",
        "  kf_val_losses.append(val_losses)\n",
        "  kf_train_acc.append(train_acc)\n",
        "  kf_val_acc.append(val_acc)\n",
        "  kf_timings.append(timings)\n",
        "  kf_frames.append(frames)"
      ],
      "execution_count": null,
      "outputs": [
        {
          "output_type": "stream",
          "text": [
            "Train 1-k-fold - Values 2088\n",
            "Train 1-k-fold - Labels 2088\n",
            "Val 1-k-fold - Values 523\n",
            "Val 1-k-fold - Labels 523\n",
            "\n",
            "\n",
            "\n",
            "\n"
          ],
          "name": "stdout"
        },
        {
          "output_type": "stream",
          "text": [
            "/usr/local/lib/python3.7/dist-packages/ipykernel_launcher.py:44: UserWarning: To copy construct from a tensor, it is recommended to use sourceTensor.clone().detach() or sourceTensor.clone().detach().requires_grad_(True), rather than torch.tensor(sourceTensor).\n"
          ],
          "name": "stderr"
        },
        {
          "output_type": "stream",
          "text": [
            "Avg execution time (ms): 10.890\n",
            "Avg frames per seconds (fps): 0.095\n",
            "Epoch: 0 ->  Train loss: 2.678335494465298 Val loss: 1.281012956772434 Train Accuracy: 33.04597701149425 Val Accuracy: 54.875717017208416\n",
            "Validation loss decreased (inf --> 1.281013).  Saving model ...\n",
            "Avg execution time (ms): 11.022\n",
            "Avg frames per seconds (fps): 0.095\n",
            "Epoch: 1 ->  Train loss: 1.2551320334503935 Val loss: 0.9895087731272039 Train Accuracy: 54.21455938697318 Val Accuracy: 65.20076481835564\n",
            "Validation loss decreased (1.281013 --> 0.989509).  Saving model ...\n",
            "Avg execution time (ms): 11.032\n",
            "Avg frames per seconds (fps): 0.095\n",
            "Epoch: 2 ->  Train loss: 1.074319320391878 Val loss: 0.876450891020649 Train Accuracy: 61.0632183908046 Val Accuracy: 68.26003824091778\n",
            "Validation loss decreased (0.989509 --> 0.876451).  Saving model ...\n",
            "Avg execution time (ms): 11.013\n",
            "Avg frames per seconds (fps): 0.095\n",
            "Epoch: 3 ->  Train loss: 0.9367260119924143 Val loss: 0.7661244324470797 Train Accuracy: 67.1455938697318 Val Accuracy: 70.93690248565966\n",
            "Validation loss decreased (0.876451 --> 0.766124).  Saving model ...\n",
            "Avg execution time (ms): 11.027\n",
            "Avg frames per seconds (fps): 0.095\n",
            "Epoch: 4 ->  Train loss: 0.8357667345196808 Val loss: 0.6826535693546099 Train Accuracy: 71.02490421455938 Val Accuracy: 76.48183556405354\n",
            "Validation loss decreased (0.766124 --> 0.682654).  Saving model ...\n",
            "\n",
            "\n",
            "Total Prediction: 523\n",
            "Correct Prediction: 400\n",
            "Confusion matrix\n",
            "[[ 38   1   3   4   0  10]\n",
            " [  1  75   2  10   0   4]\n",
            " [  0   0 175   1   0   0]\n",
            " [  2  10  16  49   0  14]\n",
            " [  0   1  10   2   0   0]\n",
            " [  7   2   8  15   0  63]]\n",
            "              precision    recall  f1-score   support\n",
            "\n",
            "           0       0.79      0.68      0.73        56\n",
            "           1       0.84      0.82      0.83        92\n",
            "           2       0.82      0.99      0.90       176\n",
            "           3       0.60      0.54      0.57        91\n",
            "           4       0.00      0.00      0.00        13\n",
            "           5       0.69      0.66      0.68        95\n",
            "\n",
            "    accuracy                           0.76       523\n",
            "   macro avg       0.62      0.61      0.62       523\n",
            "weighted avg       0.74      0.76      0.75       523\n",
            "\n",
            "Per-class accuracy: [67.85714286 81.52173913 99.43181818 53.84615385  0.         66.31578947]\n",
            "Overall accuracy: 76.48183556405354\n",
            "\n",
            "\n",
            "Train 2-k-fold - Values 2089\n",
            "Train 2-k-fold - Labels 2089\n",
            "Val 2-k-fold - Values 522\n",
            "Val 2-k-fold - Labels 522\n",
            "\n",
            "\n"
          ],
          "name": "stdout"
        },
        {
          "output_type": "stream",
          "text": [
            "/usr/local/lib/python3.7/dist-packages/sklearn/metrics/_classification.py:1272: UndefinedMetricWarning: Precision and F-score are ill-defined and being set to 0.0 in labels with no predicted samples. Use `zero_division` parameter to control this behavior.\n",
            "  _warn_prf(average, modifier, msg_start, len(result))\n"
          ],
          "name": "stderr"
        },
        {
          "output_type": "stream",
          "text": [
            "\n",
            "\n",
            "Avg execution time (ms): 11.385\n",
            "Avg frames per seconds (fps): 0.093\n",
            "Epoch: 0 ->  Train loss: 2.5718028605868795 Val loss: 1.2476690486929882 Train Accuracy: 35.088559119195786 Val Accuracy: 53.83141762452107\n",
            "Validation loss decreased (inf --> 1.247669).  Saving model ...\n",
            "Avg execution time (ms): 11.364\n",
            "Avg frames per seconds (fps): 0.094\n",
            "Epoch: 1 ->  Train loss: 1.2499160634210202 Val loss: 1.006723229455765 Train Accuracy: 56.29487793202489 Val Accuracy: 63.793103448275865\n",
            "Validation loss decreased (1.247669 --> 1.006723).  Saving model ...\n"
          ],
          "name": "stdout"
        },
        {
          "output_type": "error",
          "ename": "KeyboardInterrupt",
          "evalue": "ignored",
          "traceback": [
            "\u001b[0;31m---------------------------------------------------------------------------\u001b[0m",
            "\u001b[0;31mKeyboardInterrupt\u001b[0m                         Traceback (most recent call last)",
            "\u001b[0;32m<ipython-input-58-6598a3ab565a>\u001b[0m in \u001b[0;36m<module>\u001b[0;34m()\u001b[0m\n\u001b[0;32m----> 1\u001b[0;31m \u001b[0mget_ipython\u001b[0m\u001b[0;34m(\u001b[0m\u001b[0;34m)\u001b[0m\u001b[0;34m.\u001b[0m\u001b[0mrun_cell_magic\u001b[0m\u001b[0;34m(\u001b[0m\u001b[0;34m'time'\u001b[0m\u001b[0;34m,\u001b[0m \u001b[0;34m''\u001b[0m\u001b[0;34m,\u001b[0m \u001b[0;34m'early_stopping_patience = 10\\nepochs = config[\\'epochs\\']\\nif w.label in list_transfer_model:\\n  transferlearning = True\\nelse:\\n  transferlearning = False\\n\\nmin_val_loss = np.Inf\\n\\nkf_train_losses = []\\nkf_val_losses = []\\nkf_train_acc = []\\nkf_val_acc = []\\nkf_class_accuracy = []\\nkf_overall_accuracy = []\\nkf_overall_precision = []\\nkf_overall_recall = []\\nkf_overall_f1 = []\\nkf_class_precision = []\\nkf_class_recall = []\\nkf_class_f1 = []\\nkf_timings = []\\nkf_frames = []\\n\\n\\nfor k in range(k_folds_splits):\\n\\n  # initialize the early_stopping object\\n  early_stopping = EarlyStopping(patience=early_stopping_patience, verbose=True)\\n\\n  print(f\\'Train {k+1}-k-fold - Values\\', len(list(k_folds_train.values())[k][0]))\\n  print(f\\'Train {k+1}-k-fold - Labels\\', len(list(k_folds_train.values())[k][1]))\\n  print(f\\'Val {k+1}-k-fold - Values\\', len(list(k_folds_val.values())[k][0]))\\n  print(f\\'Val {k+1}-k-fold - Labels\\', len(list(k_folds_val.values())[k][1]))\\n  print(\\'\\\\n\\')\\n\\n  X_train = list(k_folds_train.values())[k][0]\\n  y_train = list(k_folds_train.values())[k][1]\\n  X_val = list(k_folds_val.values())[k][0]\\n  y_val = list(k_folds_val.values())[k][1]\\n\\n  train_data = WaferDataset(X_train, y_train, model=w.label)\\n  val_data = WaferDataset(X_val, y_val, model=w.label)\\n  \\n  # dataloaders\\n  t...\n\u001b[0m",
            "\u001b[0;32m/usr/local/lib/python3.7/dist-packages/IPython/core/interactiveshell.py\u001b[0m in \u001b[0;36mrun_cell_magic\u001b[0;34m(self, magic_name, line, cell)\u001b[0m\n\u001b[1;32m   2115\u001b[0m             \u001b[0mmagic_arg_s\u001b[0m \u001b[0;34m=\u001b[0m \u001b[0mself\u001b[0m\u001b[0;34m.\u001b[0m\u001b[0mvar_expand\u001b[0m\u001b[0;34m(\u001b[0m\u001b[0mline\u001b[0m\u001b[0;34m,\u001b[0m \u001b[0mstack_depth\u001b[0m\u001b[0;34m)\u001b[0m\u001b[0;34m\u001b[0m\u001b[0;34m\u001b[0m\u001b[0m\n\u001b[1;32m   2116\u001b[0m             \u001b[0;32mwith\u001b[0m \u001b[0mself\u001b[0m\u001b[0;34m.\u001b[0m\u001b[0mbuiltin_trap\u001b[0m\u001b[0;34m:\u001b[0m\u001b[0;34m\u001b[0m\u001b[0;34m\u001b[0m\u001b[0m\n\u001b[0;32m-> 2117\u001b[0;31m                 \u001b[0mresult\u001b[0m \u001b[0;34m=\u001b[0m \u001b[0mfn\u001b[0m\u001b[0;34m(\u001b[0m\u001b[0mmagic_arg_s\u001b[0m\u001b[0;34m,\u001b[0m \u001b[0mcell\u001b[0m\u001b[0;34m)\u001b[0m\u001b[0;34m\u001b[0m\u001b[0;34m\u001b[0m\u001b[0m\n\u001b[0m\u001b[1;32m   2118\u001b[0m             \u001b[0;32mreturn\u001b[0m \u001b[0mresult\u001b[0m\u001b[0;34m\u001b[0m\u001b[0;34m\u001b[0m\u001b[0m\n\u001b[1;32m   2119\u001b[0m \u001b[0;34m\u001b[0m\u001b[0m\n",
            "\u001b[0;32m<decorator-gen-53>\u001b[0m in \u001b[0;36mtime\u001b[0;34m(self, line, cell, local_ns)\u001b[0m\n",
            "\u001b[0;32m/usr/local/lib/python3.7/dist-packages/IPython/core/magic.py\u001b[0m in \u001b[0;36m<lambda>\u001b[0;34m(f, *a, **k)\u001b[0m\n\u001b[1;32m    186\u001b[0m     \u001b[0;31m# but it's overkill for just that one bit of state.\u001b[0m\u001b[0;34m\u001b[0m\u001b[0;34m\u001b[0m\u001b[0;34m\u001b[0m\u001b[0m\n\u001b[1;32m    187\u001b[0m     \u001b[0;32mdef\u001b[0m \u001b[0mmagic_deco\u001b[0m\u001b[0;34m(\u001b[0m\u001b[0marg\u001b[0m\u001b[0;34m)\u001b[0m\u001b[0;34m:\u001b[0m\u001b[0;34m\u001b[0m\u001b[0;34m\u001b[0m\u001b[0m\n\u001b[0;32m--> 188\u001b[0;31m         \u001b[0mcall\u001b[0m \u001b[0;34m=\u001b[0m \u001b[0;32mlambda\u001b[0m \u001b[0mf\u001b[0m\u001b[0;34m,\u001b[0m \u001b[0;34m*\u001b[0m\u001b[0ma\u001b[0m\u001b[0;34m,\u001b[0m \u001b[0;34m**\u001b[0m\u001b[0mk\u001b[0m\u001b[0;34m:\u001b[0m \u001b[0mf\u001b[0m\u001b[0;34m(\u001b[0m\u001b[0;34m*\u001b[0m\u001b[0ma\u001b[0m\u001b[0;34m,\u001b[0m \u001b[0;34m**\u001b[0m\u001b[0mk\u001b[0m\u001b[0;34m)\u001b[0m\u001b[0;34m\u001b[0m\u001b[0;34m\u001b[0m\u001b[0m\n\u001b[0m\u001b[1;32m    189\u001b[0m \u001b[0;34m\u001b[0m\u001b[0m\n\u001b[1;32m    190\u001b[0m         \u001b[0;32mif\u001b[0m \u001b[0mcallable\u001b[0m\u001b[0;34m(\u001b[0m\u001b[0marg\u001b[0m\u001b[0;34m)\u001b[0m\u001b[0;34m:\u001b[0m\u001b[0;34m\u001b[0m\u001b[0;34m\u001b[0m\u001b[0m\n",
            "\u001b[0;32m/usr/local/lib/python3.7/dist-packages/IPython/core/magics/execution.py\u001b[0m in \u001b[0;36mtime\u001b[0;34m(self, line, cell, local_ns)\u001b[0m\n\u001b[1;32m   1191\u001b[0m         \u001b[0;32melse\u001b[0m\u001b[0;34m:\u001b[0m\u001b[0;34m\u001b[0m\u001b[0;34m\u001b[0m\u001b[0m\n\u001b[1;32m   1192\u001b[0m             \u001b[0mst\u001b[0m \u001b[0;34m=\u001b[0m \u001b[0mclock2\u001b[0m\u001b[0;34m(\u001b[0m\u001b[0;34m)\u001b[0m\u001b[0;34m\u001b[0m\u001b[0;34m\u001b[0m\u001b[0m\n\u001b[0;32m-> 1193\u001b[0;31m             \u001b[0mexec\u001b[0m\u001b[0;34m(\u001b[0m\u001b[0mcode\u001b[0m\u001b[0;34m,\u001b[0m \u001b[0mglob\u001b[0m\u001b[0;34m,\u001b[0m \u001b[0mlocal_ns\u001b[0m\u001b[0;34m)\u001b[0m\u001b[0;34m\u001b[0m\u001b[0;34m\u001b[0m\u001b[0m\n\u001b[0m\u001b[1;32m   1194\u001b[0m             \u001b[0mend\u001b[0m \u001b[0;34m=\u001b[0m \u001b[0mclock2\u001b[0m\u001b[0;34m(\u001b[0m\u001b[0;34m)\u001b[0m\u001b[0;34m\u001b[0m\u001b[0;34m\u001b[0m\u001b[0m\n\u001b[1;32m   1195\u001b[0m             \u001b[0mout\u001b[0m \u001b[0;34m=\u001b[0m \u001b[0;32mNone\u001b[0m\u001b[0;34m\u001b[0m\u001b[0;34m\u001b[0m\u001b[0m\n",
            "\u001b[0;32m<timed exec>\u001b[0m in \u001b[0;36m<module>\u001b[0;34m()\u001b[0m\n",
            "\u001b[0;32m/usr/local/lib/python3.7/dist-packages/torch/utils/data/dataloader.py\u001b[0m in \u001b[0;36m__next__\u001b[0;34m(self)\u001b[0m\n\u001b[1;32m    519\u001b[0m             \u001b[0;32mif\u001b[0m \u001b[0mself\u001b[0m\u001b[0;34m.\u001b[0m\u001b[0m_sampler_iter\u001b[0m \u001b[0;32mis\u001b[0m \u001b[0;32mNone\u001b[0m\u001b[0;34m:\u001b[0m\u001b[0;34m\u001b[0m\u001b[0;34m\u001b[0m\u001b[0m\n\u001b[1;32m    520\u001b[0m                 \u001b[0mself\u001b[0m\u001b[0;34m.\u001b[0m\u001b[0m_reset\u001b[0m\u001b[0;34m(\u001b[0m\u001b[0;34m)\u001b[0m\u001b[0;34m\u001b[0m\u001b[0;34m\u001b[0m\u001b[0m\n\u001b[0;32m--> 521\u001b[0;31m             \u001b[0mdata\u001b[0m \u001b[0;34m=\u001b[0m \u001b[0mself\u001b[0m\u001b[0;34m.\u001b[0m\u001b[0m_next_data\u001b[0m\u001b[0;34m(\u001b[0m\u001b[0;34m)\u001b[0m\u001b[0;34m\u001b[0m\u001b[0;34m\u001b[0m\u001b[0m\n\u001b[0m\u001b[1;32m    522\u001b[0m             \u001b[0mself\u001b[0m\u001b[0;34m.\u001b[0m\u001b[0m_num_yielded\u001b[0m \u001b[0;34m+=\u001b[0m \u001b[0;36m1\u001b[0m\u001b[0;34m\u001b[0m\u001b[0;34m\u001b[0m\u001b[0m\n\u001b[1;32m    523\u001b[0m             \u001b[0;32mif\u001b[0m \u001b[0mself\u001b[0m\u001b[0;34m.\u001b[0m\u001b[0m_dataset_kind\u001b[0m \u001b[0;34m==\u001b[0m \u001b[0m_DatasetKind\u001b[0m\u001b[0;34m.\u001b[0m\u001b[0mIterable\u001b[0m \u001b[0;32mand\u001b[0m\u001b[0;31m \u001b[0m\u001b[0;31m\\\u001b[0m\u001b[0;34m\u001b[0m\u001b[0;34m\u001b[0m\u001b[0m\n",
            "\u001b[0;32m/usr/local/lib/python3.7/dist-packages/torch/utils/data/dataloader.py\u001b[0m in \u001b[0;36m_next_data\u001b[0;34m(self)\u001b[0m\n\u001b[1;32m    559\u001b[0m     \u001b[0;32mdef\u001b[0m \u001b[0m_next_data\u001b[0m\u001b[0;34m(\u001b[0m\u001b[0mself\u001b[0m\u001b[0;34m)\u001b[0m\u001b[0;34m:\u001b[0m\u001b[0;34m\u001b[0m\u001b[0;34m\u001b[0m\u001b[0m\n\u001b[1;32m    560\u001b[0m         \u001b[0mindex\u001b[0m \u001b[0;34m=\u001b[0m \u001b[0mself\u001b[0m\u001b[0;34m.\u001b[0m\u001b[0m_next_index\u001b[0m\u001b[0;34m(\u001b[0m\u001b[0;34m)\u001b[0m  \u001b[0;31m# may raise StopIteration\u001b[0m\u001b[0;34m\u001b[0m\u001b[0;34m\u001b[0m\u001b[0m\n\u001b[0;32m--> 561\u001b[0;31m         \u001b[0mdata\u001b[0m \u001b[0;34m=\u001b[0m \u001b[0mself\u001b[0m\u001b[0;34m.\u001b[0m\u001b[0m_dataset_fetcher\u001b[0m\u001b[0;34m.\u001b[0m\u001b[0mfetch\u001b[0m\u001b[0;34m(\u001b[0m\u001b[0mindex\u001b[0m\u001b[0;34m)\u001b[0m  \u001b[0;31m# may raise StopIteration\u001b[0m\u001b[0;34m\u001b[0m\u001b[0;34m\u001b[0m\u001b[0m\n\u001b[0m\u001b[1;32m    562\u001b[0m         \u001b[0;32mif\u001b[0m \u001b[0mself\u001b[0m\u001b[0;34m.\u001b[0m\u001b[0m_pin_memory\u001b[0m\u001b[0;34m:\u001b[0m\u001b[0;34m\u001b[0m\u001b[0;34m\u001b[0m\u001b[0m\n\u001b[1;32m    563\u001b[0m             \u001b[0mdata\u001b[0m \u001b[0;34m=\u001b[0m \u001b[0m_utils\u001b[0m\u001b[0;34m.\u001b[0m\u001b[0mpin_memory\u001b[0m\u001b[0;34m.\u001b[0m\u001b[0mpin_memory\u001b[0m\u001b[0;34m(\u001b[0m\u001b[0mdata\u001b[0m\u001b[0;34m)\u001b[0m\u001b[0;34m\u001b[0m\u001b[0;34m\u001b[0m\u001b[0m\n",
            "\u001b[0;32m/usr/local/lib/python3.7/dist-packages/torch/utils/data/_utils/fetch.py\u001b[0m in \u001b[0;36mfetch\u001b[0;34m(self, possibly_batched_index)\u001b[0m\n\u001b[1;32m     42\u001b[0m     \u001b[0;32mdef\u001b[0m \u001b[0mfetch\u001b[0m\u001b[0;34m(\u001b[0m\u001b[0mself\u001b[0m\u001b[0;34m,\u001b[0m \u001b[0mpossibly_batched_index\u001b[0m\u001b[0;34m)\u001b[0m\u001b[0;34m:\u001b[0m\u001b[0;34m\u001b[0m\u001b[0;34m\u001b[0m\u001b[0m\n\u001b[1;32m     43\u001b[0m         \u001b[0;32mif\u001b[0m \u001b[0mself\u001b[0m\u001b[0;34m.\u001b[0m\u001b[0mauto_collation\u001b[0m\u001b[0;34m:\u001b[0m\u001b[0;34m\u001b[0m\u001b[0;34m\u001b[0m\u001b[0m\n\u001b[0;32m---> 44\u001b[0;31m             \u001b[0mdata\u001b[0m \u001b[0;34m=\u001b[0m \u001b[0;34m[\u001b[0m\u001b[0mself\u001b[0m\u001b[0;34m.\u001b[0m\u001b[0mdataset\u001b[0m\u001b[0;34m[\u001b[0m\u001b[0midx\u001b[0m\u001b[0;34m]\u001b[0m \u001b[0;32mfor\u001b[0m \u001b[0midx\u001b[0m \u001b[0;32min\u001b[0m \u001b[0mpossibly_batched_index\u001b[0m\u001b[0;34m]\u001b[0m\u001b[0;34m\u001b[0m\u001b[0;34m\u001b[0m\u001b[0m\n\u001b[0m\u001b[1;32m     45\u001b[0m         \u001b[0;32melse\u001b[0m\u001b[0;34m:\u001b[0m\u001b[0;34m\u001b[0m\u001b[0;34m\u001b[0m\u001b[0m\n\u001b[1;32m     46\u001b[0m             \u001b[0mdata\u001b[0m \u001b[0;34m=\u001b[0m \u001b[0mself\u001b[0m\u001b[0;34m.\u001b[0m\u001b[0mdataset\u001b[0m\u001b[0;34m[\u001b[0m\u001b[0mpossibly_batched_index\u001b[0m\u001b[0;34m]\u001b[0m\u001b[0;34m\u001b[0m\u001b[0;34m\u001b[0m\u001b[0m\n",
            "\u001b[0;32m/usr/local/lib/python3.7/dist-packages/torch/utils/data/_utils/fetch.py\u001b[0m in \u001b[0;36m<listcomp>\u001b[0;34m(.0)\u001b[0m\n\u001b[1;32m     42\u001b[0m     \u001b[0;32mdef\u001b[0m \u001b[0mfetch\u001b[0m\u001b[0;34m(\u001b[0m\u001b[0mself\u001b[0m\u001b[0;34m,\u001b[0m \u001b[0mpossibly_batched_index\u001b[0m\u001b[0;34m)\u001b[0m\u001b[0;34m:\u001b[0m\u001b[0;34m\u001b[0m\u001b[0;34m\u001b[0m\u001b[0m\n\u001b[1;32m     43\u001b[0m         \u001b[0;32mif\u001b[0m \u001b[0mself\u001b[0m\u001b[0;34m.\u001b[0m\u001b[0mauto_collation\u001b[0m\u001b[0;34m:\u001b[0m\u001b[0;34m\u001b[0m\u001b[0;34m\u001b[0m\u001b[0m\n\u001b[0;32m---> 44\u001b[0;31m             \u001b[0mdata\u001b[0m \u001b[0;34m=\u001b[0m \u001b[0;34m[\u001b[0m\u001b[0mself\u001b[0m\u001b[0;34m.\u001b[0m\u001b[0mdataset\u001b[0m\u001b[0;34m[\u001b[0m\u001b[0midx\u001b[0m\u001b[0;34m]\u001b[0m \u001b[0;32mfor\u001b[0m \u001b[0midx\u001b[0m \u001b[0;32min\u001b[0m \u001b[0mpossibly_batched_index\u001b[0m\u001b[0;34m]\u001b[0m\u001b[0;34m\u001b[0m\u001b[0;34m\u001b[0m\u001b[0m\n\u001b[0m\u001b[1;32m     45\u001b[0m         \u001b[0;32melse\u001b[0m\u001b[0;34m:\u001b[0m\u001b[0;34m\u001b[0m\u001b[0;34m\u001b[0m\u001b[0m\n\u001b[1;32m     46\u001b[0m             \u001b[0mdata\u001b[0m \u001b[0;34m=\u001b[0m \u001b[0mself\u001b[0m\u001b[0;34m.\u001b[0m\u001b[0mdataset\u001b[0m\u001b[0;34m[\u001b[0m\u001b[0mpossibly_batched_index\u001b[0m\u001b[0;34m]\u001b[0m\u001b[0;34m\u001b[0m\u001b[0;34m\u001b[0m\u001b[0m\n",
            "\u001b[0;32m<ipython-input-35-32236a60002d>\u001b[0m in \u001b[0;36m__getitem__\u001b[0;34m(self, i)\u001b[0m\n\u001b[1;32m     37\u001b[0m \u001b[0;34m\u001b[0m\u001b[0m\n\u001b[1;32m     38\u001b[0m     \u001b[0;32mdef\u001b[0m \u001b[0m__getitem__\u001b[0m\u001b[0;34m(\u001b[0m\u001b[0mself\u001b[0m\u001b[0;34m,\u001b[0m \u001b[0mi\u001b[0m\u001b[0;34m)\u001b[0m\u001b[0;34m:\u001b[0m\u001b[0;34m\u001b[0m\u001b[0;34m\u001b[0m\u001b[0m\n\u001b[0;32m---> 39\u001b[0;31m         \u001b[0mimage\u001b[0m \u001b[0;34m=\u001b[0m \u001b[0mload_image\u001b[0m\u001b[0;34m(\u001b[0m\u001b[0mself\u001b[0m\u001b[0;34m.\u001b[0m\u001b[0mX\u001b[0m\u001b[0;34m.\u001b[0m\u001b[0miloc\u001b[0m\u001b[0;34m[\u001b[0m\u001b[0mi\u001b[0m\u001b[0;34m]\u001b[0m\u001b[0;34m,\u001b[0m \u001b[0mself\u001b[0m\u001b[0;34m.\u001b[0m\u001b[0minfilegrayscale\u001b[0m\u001b[0;34m)\u001b[0m\u001b[0;34m\u001b[0m\u001b[0;34m\u001b[0m\u001b[0m\n\u001b[0m\u001b[1;32m     40\u001b[0m         \u001b[0mlabel\u001b[0m \u001b[0;34m=\u001b[0m \u001b[0mself\u001b[0m\u001b[0;34m.\u001b[0m\u001b[0my\u001b[0m\u001b[0;34m.\u001b[0m\u001b[0miloc\u001b[0m\u001b[0;34m[\u001b[0m\u001b[0mi\u001b[0m\u001b[0;34m]\u001b[0m\u001b[0;34m\u001b[0m\u001b[0;34m\u001b[0m\u001b[0m\n\u001b[1;32m     41\u001b[0m         \u001b[0;32mif\u001b[0m \u001b[0mself\u001b[0m\u001b[0;34m.\u001b[0m\u001b[0mmodel\u001b[0m \u001b[0;32mis\u001b[0m \u001b[0;32mnot\u001b[0m \u001b[0;32mNone\u001b[0m\u001b[0;34m:\u001b[0m\u001b[0;34m\u001b[0m\u001b[0;34m\u001b[0m\u001b[0m\n",
            "\u001b[0;32m<ipython-input-34-39cc399bbd09>\u001b[0m in \u001b[0;36mload_image\u001b[0;34m(infilename, infilegrayscale)\u001b[0m\n\u001b[1;32m      6\u001b[0m       \u001b[0mimg\u001b[0m \u001b[0;34m=\u001b[0m \u001b[0mImage\u001b[0m\u001b[0;34m.\u001b[0m\u001b[0mopen\u001b[0m\u001b[0;34m(\u001b[0m\u001b[0minfilename\u001b[0m\u001b[0;34m)\u001b[0m\u001b[0;34m.\u001b[0m\u001b[0mconvert\u001b[0m\u001b[0;34m(\u001b[0m\u001b[0;34m'L'\u001b[0m\u001b[0;34m)\u001b[0m\u001b[0;34m\u001b[0m\u001b[0;34m\u001b[0m\u001b[0m\n\u001b[1;32m      7\u001b[0m     \u001b[0;32melse\u001b[0m\u001b[0;34m:\u001b[0m\u001b[0;34m\u001b[0m\u001b[0;34m\u001b[0m\u001b[0m\n\u001b[0;32m----> 8\u001b[0;31m       \u001b[0mimg\u001b[0m \u001b[0;34m=\u001b[0m \u001b[0mImage\u001b[0m\u001b[0;34m.\u001b[0m\u001b[0mopen\u001b[0m\u001b[0;34m(\u001b[0m\u001b[0minfilename\u001b[0m\u001b[0;34m)\u001b[0m\u001b[0;34m\u001b[0m\u001b[0;34m\u001b[0m\u001b[0m\n\u001b[0m\u001b[1;32m      9\u001b[0m     \u001b[0;31m#data = np.asarray(img)\u001b[0m\u001b[0;34m\u001b[0m\u001b[0;34m\u001b[0m\u001b[0;34m\u001b[0m\u001b[0m\n\u001b[1;32m     10\u001b[0m     \u001b[0;32mreturn\u001b[0m \u001b[0mimg\u001b[0m\u001b[0;34m\u001b[0m\u001b[0;34m\u001b[0m\u001b[0m\n",
            "\u001b[0;32m/usr/local/lib/python3.7/dist-packages/PIL/Image.py\u001b[0m in \u001b[0;36mopen\u001b[0;34m(fp, mode)\u001b[0m\n\u001b[1;32m   2841\u001b[0m \u001b[0;34m\u001b[0m\u001b[0m\n\u001b[1;32m   2842\u001b[0m     \u001b[0;32mif\u001b[0m \u001b[0mfilename\u001b[0m\u001b[0;34m:\u001b[0m\u001b[0;34m\u001b[0m\u001b[0;34m\u001b[0m\u001b[0m\n\u001b[0;32m-> 2843\u001b[0;31m         \u001b[0mfp\u001b[0m \u001b[0;34m=\u001b[0m \u001b[0mbuiltins\u001b[0m\u001b[0;34m.\u001b[0m\u001b[0mopen\u001b[0m\u001b[0;34m(\u001b[0m\u001b[0mfilename\u001b[0m\u001b[0;34m,\u001b[0m \u001b[0;34m\"rb\"\u001b[0m\u001b[0;34m)\u001b[0m\u001b[0;34m\u001b[0m\u001b[0;34m\u001b[0m\u001b[0m\n\u001b[0m\u001b[1;32m   2844\u001b[0m         \u001b[0mexclusive_fp\u001b[0m \u001b[0;34m=\u001b[0m \u001b[0;32mTrue\u001b[0m\u001b[0;34m\u001b[0m\u001b[0;34m\u001b[0m\u001b[0m\n\u001b[1;32m   2845\u001b[0m \u001b[0;34m\u001b[0m\u001b[0m\n",
            "\u001b[0;31mKeyboardInterrupt\u001b[0m: "
          ]
        }
      ]
    },
    {
      "cell_type": "markdown",
      "metadata": {
        "id": "6jshUiv9GNpf"
      },
      "source": [
        "# Evaluation Metrics"
      ]
    },
    {
      "cell_type": "code",
      "metadata": {
        "id": "IOcQRdrON53r"
      },
      "source": [
        "# Averaged precision\n",
        "sum_overall_precision = 0\n",
        "for p in kf_overall_precision:\n",
        "  sum_overall_precision += p\n",
        "precision = round((sum_overall_precision) / k_folds_splits, 3)\n",
        "\n",
        "# Averaged class-precision\n",
        "avg_class_precision = list()\n",
        "sum_kf_class_precision = 0\n",
        "\n",
        "for c in range(len(sel_classes)):\n",
        "  sum_kf_class_precision = 0\n",
        "  for k in range(k_folds_splits):\n",
        "    sum_kf_class_precision += kf_class_precision[k][c]\n",
        "  avg_class_precision.append(round(sum_kf_class_precision / k_folds_splits, 3))"
      ],
      "execution_count": null,
      "outputs": []
    },
    {
      "cell_type": "code",
      "metadata": {
        "id": "KKry67YMOJnw"
      },
      "source": [
        "# Averaged recall\n",
        "sum_overall_recall = 0\n",
        "for r in kf_overall_recall:\n",
        "  sum_overall_recall += r\n",
        "recall = round(sum_overall_recall / k_folds_splits, 3)\n",
        "\n",
        "# Averaged class-recall\n",
        "avg_class_recall = list()\n",
        "sum_kf_class_recall = 0\n",
        "\n",
        "for c in range(len(sel_classes)):\n",
        "  sum_kf_class_recall = 0\n",
        "  for k in range(k_folds_splits):\n",
        "    sum_kf_class_recall += kf_class_recall[k][c]\n",
        "  avg_class_recall.append(round(sum_kf_class_recall / k_folds_splits, 3))"
      ],
      "execution_count": null,
      "outputs": []
    },
    {
      "cell_type": "code",
      "metadata": {
        "id": "NzYbH1dROURJ"
      },
      "source": [
        "# Averaged f1-score\n",
        "sum_overall_f1 = 0\n",
        "for f in kf_overall_f1:\n",
        "  sum_overall_f1 += f\n",
        "f1 = round(sum_overall_f1 / k_folds_splits, 3)\n",
        "\n",
        "# Averaged class-f1\n",
        "avg_class_f1 = list()\n",
        "sum_kf_class_f1 = 0\n",
        "\n",
        "for c in range(len(sel_classes)):\n",
        "  sum_kf_class_f1 = 0\n",
        "  for k in range(k_folds_splits):\n",
        "    sum_kf_class_f1 += kf_class_f1[k][c]\n",
        "  avg_class_f1.append(round(sum_kf_class_f1 / k_folds_splits, 3))"
      ],
      "execution_count": null,
      "outputs": []
    },
    {
      "cell_type": "code",
      "metadata": {
        "id": "3ngutNe6Gac7"
      },
      "source": [
        "# Averaged class-accuracy\n",
        "avg_class_accuracy = list()\n",
        "sum_kf_class_accuracy = 0\n",
        "\n",
        "for c in range(len(sel_classes)):\n",
        "  sum_kf_class_accuracy = 0\n",
        "  for k in range(k_folds_splits):\n",
        "    sum_kf_class_accuracy += kf_class_accuracy[k][c]\n",
        "  avg_class_accuracy.append(sum_kf_class_accuracy / k_folds_splits)\n",
        "\n",
        "# Averaged overall-accuracy\n",
        "sum_overall_accuracy = 0\n",
        "for a in kf_overall_accuracy:\n",
        "  sum_overall_accuracy += a\n",
        "\n",
        "accuracy = round(sum_overall_accuracy / k_folds_splits, 3)"
      ],
      "execution_count": null,
      "outputs": []
    },
    {
      "cell_type": "code",
      "metadata": {
        "id": "PnabBng6GRC1"
      },
      "source": [
        "eval = {} # create dictionary for final evaluation results\n",
        "i = 0\n",
        "for c in sel_classes:\n",
        "  eval[c] = {}\n",
        "  eval[c]['precision'] = avg_class_precision[i]\n",
        "  eval[c]['recall'] = avg_class_recall[i]\n",
        "  eval[c]['f1-score'] = avg_class_f1[i]\n",
        "  eval[c]['accuracy'] = avg_class_accuracy[i]\n",
        "  i += 1\n",
        "eval['overall'] = {}\n",
        "eval['overall']['precision'] = precision\n",
        "eval['overall']['recall'] = recall\n",
        "eval['overall']['f1-score'] = f1\n",
        "eval['overall']['accuracy'] = accuracy"
      ],
      "execution_count": null,
      "outputs": []
    },
    {
      "cell_type": "code",
      "metadata": {
        "id": "43VxnMATK1He",
        "colab": {
          "base_uri": "https://localhost:8080/"
        },
        "outputId": "99522f19-ee6b-448b-f8f7-226f88e2171c"
      },
      "source": [
        "print(\"Final evaluation: Average metrics across k-folds\")\n",
        "print('\\n')\n",
        "\n",
        "table = pd.DataFrame(eval).T\n",
        "table.fillna(0, inplace=True)\n",
        "print(table)"
      ],
      "execution_count": null,
      "outputs": [
        {
          "output_type": "stream",
          "text": [
            "Final evaluation: Average metrics across k-folds\n",
            "\n",
            "\n",
            "          precision  recall  f1-score   accuracy\n",
            "circle        0.200   0.004     0.007   0.357143\n",
            "crack         0.455   0.522     0.471  52.192613\n",
            "good          0.503   0.942     0.653  94.196753\n",
            "scratch       0.467   0.145     0.189  14.505495\n",
            "splinter      0.000   0.000     0.000   0.000000\n",
            "stain         0.663   0.290     0.380  28.985442\n",
            "overall       0.472   0.487     0.405  48.676000\n"
          ],
          "name": "stdout"
        }
      ]
    },
    {
      "cell_type": "markdown",
      "metadata": {
        "id": "cKRi11HDNFHW"
      },
      "source": [
        "## Plots"
      ]
    },
    {
      "cell_type": "code",
      "metadata": {
        "id": "nJcjVTFyojlZ"
      },
      "source": [
        "for k in range(k_folds_splits):\n",
        "  fig = plt.figure(figsize=(12,6))\n",
        "  plt.title(f\"Train-Validation Losses - k-fold: {k+1} for {w.label}\")\n",
        "  plt.plot(kf_train_losses[k], label='train')\n",
        "  plt.plot(kf_val_losses[k], label='validation')\n",
        "  plt.xlabel('num_epochs', fontsize=12)\n",
        "  plt.ylabel('losses', fontsize=12)\n",
        "  plt.legend(loc='best')"
      ],
      "execution_count": null,
      "outputs": []
    },
    {
      "cell_type": "code",
      "metadata": {
        "id": "a5DruDTzzqWw"
      },
      "source": [
        "for k in range(k_folds_splits):\n",
        "  fig = plt.figure(figsize=(12,6))\n",
        "  plt.title(f\"Train-Validation Accuracy - k-fold: {k+1} for {w.label}\")\n",
        "  #plt.plot(epoch_train_loss.cpu(), label='train')\n",
        "  plt.plot(kf_val_acc[k], label='validation')\n",
        "  plt.plot(kf_train_acc[k], label='train')\n",
        "  plt.xlabel('num_epochs', fontsize=12)\n",
        "  plt.ylabel('accuracy', fontsize=12)\n",
        "  plt.legend(loc='best')"
      ],
      "execution_count": null,
      "outputs": []
    },
    {
      "cell_type": "markdown",
      "metadata": {
        "id": "hFg7RzdMNM78"
      },
      "source": [
        "## Execution Time"
      ]
    },
    {
      "cell_type": "code",
      "metadata": {
        "id": "6d0AfmRxjCzz"
      },
      "source": [
        "for k in range(k_folds_splits):\n",
        "  print(f\"k-fold: {k+1} => Execution times in ms for k-folds: {np.mean(kf_timings[k])}\")\n",
        "  print(f\"k-fold: {k+1} => Average frames per second for k-folds: {np.mean(kf_frames[k])}\")\n",
        "\n",
        "  print(f\"k-fold: {k+1} => Execution times in ms for k-folds: {np.mean(kf_timings[k])}\")\n",
        "  print(f\"k-fold: {k+1} => Average frames per second for k-folds: {np.mean(kf_frames[k])}\")\n",
        "\n",
        "print(\"\\n\")\n",
        "print(f\"Overall => Execution times in ms for k-folds: {np.mean(np.hstack(kf_timings))}\")\n",
        "print(f\"Overall => Average frames per second for k-folds: {np.mean(np.hstack(kf_frames))}\")"
      ],
      "execution_count": null,
      "outputs": []
    },
    {
      "cell_type": "markdown",
      "metadata": {
        "id": "azeQB23tixBW"
      },
      "source": [
        "# Save Model"
      ]
    },
    {
      "cell_type": "code",
      "metadata": {
        "id": "lngoMENpiyd9"
      },
      "source": [
        "SAVE_MODEL_PATH = \"/content/drive/MyDrive/DEEPVIS/models\"\n",
        "#torch.save(net.state_dict(), SAVE_MODEL_PATH)\n",
        "torch.save(net.state_dict(), os.path.join(SAVE_MODEL_PATH, w.label+'.pth'))"
      ],
      "execution_count": null,
      "outputs": []
    },
    {
      "cell_type": "code",
      "metadata": {
        "id": "LRLMnPgpiztW"
      },
      "source": [
        "from pathlib import Path\n",
        "my_path= '/content/drive/MyDrive/DEEPVIS/'\n",
        "\n",
        "model = RegNet()\n",
        "device = torch.device(\"cuda:0\" if torch.cuda.is_available() else \"cpu\")\n",
        "model.load_state_dict(copy.deepcopy(torch.load(Path(my_path + 'models/RegNet.pth'),device)))"
      ],
      "execution_count": null,
      "outputs": []
    }
  ]
}
